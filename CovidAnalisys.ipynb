{
  "cells": [
    {
      "attachments": {},
      "cell_type": "markdown",
      "metadata": {
        "id": "EW1r2wSmR6G4"
      },
      "source": [
        "# Estructura Proyecto\n",
        "The present work was developed for the **Data analysis with Python** module of the National University of Colombia - Faculty of Engineering, Bogotá campus, by the students:\n",
        "\n",
        "* Mateo Gutiérrez Melo - mgutierrezca@unal.edu.co\n",
        "* Sergio Alejandro Sanchez Ortiz - chechoo.alejandro@gmail.com - sesanchezo@unal.edu.co\n",
        "\n",
        "Video link:"
      ]
    },
    {
      "cell_type": "markdown",
      "metadata": {
        "id": "f1BDYhOPHe0M"
      },
      "source": [
        "## Importaciones e Instalaciones\n",
        "------\n",
        "\n",
        "En esta sección se encuentran los comandos que instalan e importan librerias necesarias para el desarrollo del proyecto"
      ]
    },
    {
      "cell_type": "code",
      "execution_count": 1,
      "metadata": {
        "colab": {
          "background_save": true,
          "base_uri": "https://localhost:8080/"
        },
        "collapsed": true,
        "id": "aapXnV8qx_ly",
        "outputId": "3253a722-0cfc-45b9-daf8-f0b7080facd9"
      },
      "outputs": [
        {
          "name": "stdout",
          "output_type": "stream",
          "text": [
            "Defaulting to user installation because normal site-packages is not writeable\n",
            "Collecting sodapy\n",
            "  Downloading sodapy-2.2.0-py2.py3-none-any.whl (15 kB)\n",
            "Requirement already satisfied: requests>=2.28.1 in /home/m/.local/lib/python3.10/site-packages (from sodapy) (2.28.1)\n",
            "Requirement already satisfied: certifi>=2017.4.17 in /usr/lib/python3/dist-packages (from requests>=2.28.1->sodapy) (2020.6.20)\n",
            "Requirement already satisfied: charset-normalizer<3,>=2 in /home/m/.local/lib/python3.10/site-packages (from requests>=2.28.1->sodapy) (2.1.1)\n",
            "Requirement already satisfied: idna<4,>=2.5 in /home/m/.local/lib/python3.10/site-packages (from requests>=2.28.1->sodapy) (3.4)\n",
            "Requirement already satisfied: urllib3<1.27,>=1.21.1 in /usr/lib/python3/dist-packages (from requests>=2.28.1->sodapy) (1.26.5)\n",
            "Installing collected packages: sodapy\n",
            "Successfully installed sodapy-2.2.0\n",
            "Defaulting to user installation because normal site-packages is not writeable\n",
            "Requirement already satisfied: seaborn in /home/m/.local/lib/python3.10/site-packages (0.12.0)\n",
            "Collecting seaborn\n",
            "  Downloading seaborn-0.12.2-py3-none-any.whl (293 kB)\n",
            "\u001b[2K     \u001b[90m━━━━━━━━━━━━━━━━━━━━━━━━━━━━━━━━━━━━━━━\u001b[0m \u001b[32m293.3/293.3 kB\u001b[0m \u001b[31m1.3 MB/s\u001b[0m eta \u001b[36m0:00:00\u001b[0ma \u001b[36m0:00:01\u001b[0m\n",
            "\u001b[?25hRequirement already satisfied: matplotlib!=3.6.1,>=3.1 in /home/m/.local/lib/python3.10/site-packages (from seaborn) (3.5.2)\n",
            "Requirement already satisfied: numpy!=1.24.0,>=1.17 in /home/m/.local/lib/python3.10/site-packages (from seaborn) (1.22.4)\n",
            "Requirement already satisfied: pandas>=0.25 in /home/m/.local/lib/python3.10/site-packages (from seaborn) (1.4.2)\n",
            "Requirement already satisfied: kiwisolver>=1.0.1 in /home/m/.local/lib/python3.10/site-packages (from matplotlib!=3.6.1,>=3.1->seaborn) (1.4.4)\n",
            "Requirement already satisfied: fonttools>=4.22.0 in /home/m/.local/lib/python3.10/site-packages (from matplotlib!=3.6.1,>=3.1->seaborn) (4.34.4)\n",
            "Requirement already satisfied: pillow>=6.2.0 in /usr/lib/python3/dist-packages (from matplotlib!=3.6.1,>=3.1->seaborn) (9.0.1)\n",
            "Requirement already satisfied: python-dateutil>=2.7 in /home/m/.local/lib/python3.10/site-packages (from matplotlib!=3.6.1,>=3.1->seaborn) (2.8.2)\n",
            "Requirement already satisfied: cycler>=0.10 in /home/m/.local/lib/python3.10/site-packages (from matplotlib!=3.6.1,>=3.1->seaborn) (0.11.0)\n",
            "Requirement already satisfied: pyparsing>=2.2.1 in /usr/lib/python3/dist-packages (from matplotlib!=3.6.1,>=3.1->seaborn) (2.4.7)\n",
            "Requirement already satisfied: packaging>=20.0 in /home/m/.local/lib/python3.10/site-packages (from matplotlib!=3.6.1,>=3.1->seaborn) (23.0)\n",
            "Requirement already satisfied: pytz>=2020.1 in /usr/lib/python3/dist-packages (from pandas>=0.25->seaborn) (2022.1)\n",
            "Requirement already satisfied: six>=1.5 in /usr/lib/python3/dist-packages (from python-dateutil>=2.7->matplotlib!=3.6.1,>=3.1->seaborn) (1.16.0)\n",
            "Installing collected packages: seaborn\n",
            "  Attempting uninstall: seaborn\n",
            "    Found existing installation: seaborn 0.12.0\n",
            "    Uninstalling seaborn-0.12.0:\n",
            "      Successfully uninstalled seaborn-0.12.0\n",
            "Successfully installed seaborn-0.12.2\n",
            "Defaulting to user installation because normal site-packages is not writeable\n",
            "Collecting geopandas\n",
            "  Downloading geopandas-0.12.2-py3-none-any.whl (1.1 MB)\n",
            "\u001b[2K     \u001b[90m━━━━━━━━━━━━━━━━━━━━━━━━━━━━━━━━━━━━━━━━\u001b[0m \u001b[32m1.1/1.1 MB\u001b[0m \u001b[31m3.1 MB/s\u001b[0m eta \u001b[36m0:00:00\u001b[0m00:01\u001b[0m00:01\u001b[0m0m\n",
            "\u001b[?25hRequirement already satisfied: packaging in /home/m/.local/lib/python3.10/site-packages (from geopandas) (23.0)\n",
            "Requirement already satisfied: pandas>=1.0.0 in /home/m/.local/lib/python3.10/site-packages (from geopandas) (1.4.2)\n",
            "Collecting pyproj>=2.6.1.post1\n",
            "  Downloading pyproj-3.4.1-cp310-cp310-manylinux_2_17_x86_64.manylinux2014_x86_64.whl (7.7 MB)\n",
            "\u001b[2K     \u001b[90m━━━━━━━━━━━━━━━━━━━━━━━━━━━━━━━━━━━━━━━━\u001b[0m \u001b[32m7.7/7.7 MB\u001b[0m \u001b[31m9.7 MB/s\u001b[0m eta \u001b[36m0:00:00\u001b[0m:00:01\u001b[0m00:01\u001b[0m\n",
            "\u001b[?25hCollecting fiona>=1.8\n",
            "  Downloading Fiona-1.8.22-cp310-cp310-manylinux_2_17_x86_64.manylinux2014_x86_64.whl (16.6 MB)\n",
            "\u001b[2K     \u001b[90m━━━━━━━━━━━━━━━━━━━━━━━━━━━━━━━━━━━━━━━━\u001b[0m \u001b[32m16.6/16.6 MB\u001b[0m \u001b[31m9.3 MB/s\u001b[0m eta \u001b[36m0:00:00\u001b[0m:00:01\u001b[0m00:01\u001b[0m\n",
            "\u001b[?25hCollecting shapely>=1.7\n",
            "  Downloading shapely-2.0.0-cp310-cp310-manylinux_2_17_x86_64.manylinux2014_x86_64.whl (2.3 MB)\n",
            "\u001b[2K     \u001b[90m━━━━━━━━━━━━━━━━━━━━━━━━━━━━━━━━━━━━━━━━\u001b[0m \u001b[32m2.3/2.3 MB\u001b[0m \u001b[31m10.8 MB/s\u001b[0m eta \u001b[36m0:00:00\u001b[0m00:01\u001b[0m00:01\u001b[0m\n",
            "\u001b[?25hRequirement already satisfied: click>=4.0 in /usr/lib/python3/dist-packages (from fiona>=1.8->geopandas) (8.0.3)\n",
            "Collecting cligj>=0.5\n",
            "  Downloading cligj-0.7.2-py3-none-any.whl (7.1 kB)\n",
            "Requirement already satisfied: certifi in /usr/lib/python3/dist-packages (from fiona>=1.8->geopandas) (2020.6.20)\n",
            "Collecting click-plugins>=1.0\n",
            "  Downloading click_plugins-1.1.1-py2.py3-none-any.whl (7.5 kB)\n",
            "Collecting munch\n",
            "  Downloading munch-2.5.0-py2.py3-none-any.whl (10 kB)\n",
            "Requirement already satisfied: six>=1.7 in /usr/lib/python3/dist-packages (from fiona>=1.8->geopandas) (1.16.0)\n",
            "Requirement already satisfied: setuptools in /usr/lib/python3/dist-packages (from fiona>=1.8->geopandas) (59.6.0)\n",
            "Requirement already satisfied: attrs>=17 in /home/m/.local/lib/python3.10/site-packages (from fiona>=1.8->geopandas) (22.2.0)\n",
            "Requirement already satisfied: numpy>=1.21.0 in /home/m/.local/lib/python3.10/site-packages (from pandas>=1.0.0->geopandas) (1.22.4)\n",
            "Requirement already satisfied: pytz>=2020.1 in /usr/lib/python3/dist-packages (from pandas>=1.0.0->geopandas) (2022.1)\n",
            "Requirement already satisfied: python-dateutil>=2.8.1 in /home/m/.local/lib/python3.10/site-packages (from pandas>=1.0.0->geopandas) (2.8.2)\n",
            "Installing collected packages: shapely, pyproj, munch, cligj, click-plugins, fiona, geopandas\n",
            "Successfully installed click-plugins-1.1.1 cligj-0.7.2 fiona-1.8.22 geopandas-0.12.2 munch-2.5.0 pyproj-3.4.1 shapely-2.0.0\n",
            "Defaulting to user installation because normal site-packages is not writeable\n",
            "Collecting rtree\n",
            "  Downloading Rtree-1.0.1-cp310-cp310-manylinux_2_17_x86_64.manylinux2014_x86_64.whl (1.0 MB)\n",
            "\u001b[2K     \u001b[90m━━━━━━━━━━━━━━━━━━━━━━━━━━━━━━━━━━━━━━━━\u001b[0m \u001b[32m1.0/1.0 MB\u001b[0m \u001b[31m3.0 MB/s\u001b[0m eta \u001b[36m0:00:00\u001b[0m00:01\u001b[0m00:01\u001b[0m0m\n",
            "\u001b[?25hCollecting mapclassify\n",
            "  Downloading mapclassify-2.4.3-py3-none-any.whl (38 kB)\n",
            "Requirement already satisfied: fiona in /home/m/.local/lib/python3.10/site-packages (1.8.22)\n",
            "Requirement already satisfied: pyproj in /home/m/.local/lib/python3.10/site-packages (3.4.1)\n",
            "Requirement already satisfied: pandas>=1.0 in /home/m/.local/lib/python3.10/site-packages (from mapclassify) (1.4.2)\n",
            "Requirement already satisfied: numpy>=1.3 in /home/m/.local/lib/python3.10/site-packages (from mapclassify) (1.22.4)\n",
            "Requirement already satisfied: scikit-learn in /home/m/.local/lib/python3.10/site-packages (from mapclassify) (1.1.1)\n",
            "Requirement already satisfied: scipy>=1.0 in /home/m/.local/lib/python3.10/site-packages (from mapclassify) (1.8.1)\n",
            "Requirement already satisfied: networkx in /home/m/.local/lib/python3.10/site-packages (from mapclassify) (2.8.3)\n",
            "Requirement already satisfied: six>=1.7 in /usr/lib/python3/dist-packages (from fiona) (1.16.0)\n",
            "Requirement already satisfied: munch in /home/m/.local/lib/python3.10/site-packages (from fiona) (2.5.0)\n",
            "Requirement already satisfied: cligj>=0.5 in /home/m/.local/lib/python3.10/site-packages (from fiona) (0.7.2)\n",
            "Requirement already satisfied: certifi in /usr/lib/python3/dist-packages (from fiona) (2020.6.20)\n",
            "Requirement already satisfied: click>=4.0 in /usr/lib/python3/dist-packages (from fiona) (8.0.3)\n",
            "Requirement already satisfied: click-plugins>=1.0 in /home/m/.local/lib/python3.10/site-packages (from fiona) (1.1.1)\n",
            "Requirement already satisfied: setuptools in /usr/lib/python3/dist-packages (from fiona) (59.6.0)\n",
            "Requirement already satisfied: attrs>=17 in /home/m/.local/lib/python3.10/site-packages (from fiona) (22.2.0)\n",
            "Requirement already satisfied: pytz>=2020.1 in /usr/lib/python3/dist-packages (from pandas>=1.0->mapclassify) (2022.1)\n",
            "Requirement already satisfied: python-dateutil>=2.8.1 in /home/m/.local/lib/python3.10/site-packages (from pandas>=1.0->mapclassify) (2.8.2)\n",
            "Requirement already satisfied: threadpoolctl>=2.0.0 in /home/m/.local/lib/python3.10/site-packages (from scikit-learn->mapclassify) (3.1.0)\n",
            "Requirement already satisfied: joblib>=1.0.0 in /home/m/.local/lib/python3.10/site-packages (from scikit-learn->mapclassify) (1.1.0)\n",
            "Installing collected packages: rtree, mapclassify\n",
            "Successfully installed mapclassify-2.4.3 rtree-1.0.1\n",
            "[sudo] contraseña para m: "
          ]
        }
      ],
      "source": [
        "!pip install sodapy\n",
        "!pip install -U seaborn \n",
        "!pip install -U geopandas \n",
        "!pip install -U rtree mapclassify fiona pyproj\n",
        "!sudo apt install libspatialindex-dev\n",
        "!pip install gdown"
      ]
    },
    {
      "cell_type": "code",
      "execution_count": null,
      "metadata": {
        "colab": {
          "background_save": true
        },
        "id": "TRov7IKtHe0N"
      },
      "outputs": [],
      "source": [
        "import seaborn as sns\n",
        "import pandas as pd\n",
        "import numpy as np\n",
        "import matplotlib.pyplot as plt\n",
        "import matplotlib as mpl\n",
        "import sodapy\n",
        "import geopandas as gpd \n",
        "import shapely               \n",
        "from shapely.geometry import * \n",
        "from google.colab import drive\n",
        "import datetime\n",
        "from datetime import datetime as dt\n",
        "import plotly\n",
        "import plotly.express as px\n",
        "from scipy import stats\n",
        "import scipy"
      ]
    },
    {
      "cell_type": "markdown",
      "metadata": {
        "id": "XrRYvINbi3kz"
      },
      "source": [
        "Este proyecto se realizó con las siguientes versiones:\n",
        "*  *Python*: 3.7.14\n",
        "*  *NumPy*:  1.21.6\n",
        "*  *Pandas*:  1.3.5\n",
        "*  *Matplotlib*:  3.2.2\n",
        "*  *Seaborn*:  0.11.2\n",
        "*  *Sodapy*: 2.2.0\n",
        "*  *GeoPandas*: 0.10.2\n",
        "*  *Plotly*: 5.5.0\n",
        "*  *Scipy*: 1.7.3"
      ]
    },
    {
      "cell_type": "code",
      "execution_count": null,
      "metadata": {
        "colab": {
          "background_save": true,
          "base_uri": "https://localhost:8080/"
        },
        "id": "pK-xtqQ2h2ac",
        "outputId": "2596cc1e-415b-45b0-a25e-f54dbed8e60c"
      },
      "outputs": [
        {
          "name": "stdout",
          "output_type": "stream",
          "text": [
            "Python 3.7.15\n",
            "NumPy 1.21.6\n",
            "Pandas 1.3.5\n",
            "Matplotlib 3.2.2\n",
            "Seaborn 0.12.1\n",
            "Sodapy 2.2.0\n",
            "GeoPandas 0.10.2\n",
            "Plotly 5.5.0\n",
            "Scipy 1.7.3\n"
          ]
        }
      ],
      "source": [
        "!python --version\n",
        "print('NumPy', np.__version__)\n",
        "print('Pandas', pd.__version__)\n",
        "print('Matplotlib', mpl.__version__)\n",
        "print('Seaborn', sns.__version__)\n",
        "print('Sodapy', sodapy.__version__)\n",
        "print('GeoPandas', gpd.__version__)\n",
        "print('Plotly', plotly.__version__)\n",
        "print('Scipy', scipy.__version__)"
      ]
    },
    {
      "cell_type": "markdown",
      "metadata": {
        "id": "e5owjMbf4Nnu"
      },
      "source": [
        "# 1.Descripción del Proyecto\n",
        "----"
      ]
    },
    {
      "cell_type": "markdown",
      "metadata": {
        "id": "rp-wcBU6SRrI"
      },
      "source": [
        "## Problema \n",
        "------"
      ]
    },
    {
      "cell_type": "markdown",
      "metadata": {
        "id": "7mKjmWEbSZDI"
      },
      "source": [
        "A través de la metodología CRISP-DM se quiere analizar los conjuntos de datos por medio del uso de la estadística descriptiva para comprender si hubo una incidencia de los casos de Covid-19 positivos en la ciudad de Bogotá y su propagación en épocas de vacaciones en las demás regiones del país."
      ]
    },
    {
      "cell_type": "markdown",
      "metadata": {
        "id": "776SoJggHkJn"
      },
      "source": [
        "El presente trabajo contiene dos datasets importantes. El primero de ellos contiene información sobre los casos positivos de Covid-19 en Colombia y el segundo contiene información sobre los casos positivos registrados en la ciudad de Bogotá\n"
      ]
    },
    {
      "cell_type": "markdown",
      "metadata": {
        "id": "i-t0a3uiSd8_"
      },
      "source": [
        "## Objetivos \n",
        "------"
      ]
    },
    {
      "cell_type": "markdown",
      "metadata": {
        "id": "onahgsn6SfR7"
      },
      "source": [
        "**Objetivo General**\n",
        "1. Determinar si existió relación entre la cantidad de casos positivos de Covid 19 y las fechas festivos/vacacionales en Colombia.\n",
        "\n",
        "**Objetivos Específicos**\n",
        " \n",
        "1.   Detallar las relaciones existentes entre las características poblacionales (sexo, edad, ubicación, etc..) y el incremento de casos positivos de Covid-19.\n",
        "2.   Establecer si existen relaciones entre las variables proporcionadas por el dataset y la cantidad de casos positivos de Covid-19.\n",
        "3.   Relacionar gráficamente la cantidad de casos de Covid-19 con las variables de interés.\n"
      ]
    },
    {
      "cell_type": "markdown",
      "metadata": {
        "id": "vAdSFHwzSpZI"
      },
      "source": [
        "## Hipótesis (científica o estadística)\n",
        "------"
      ]
    },
    {
      "cell_type": "markdown",
      "metadata": {
        "id": "OJV5Ao63SvdX"
      },
      "source": [
        "Debido al aumento de interacción social durante las épocas de festividades y/o vacaciones se produce un aumento sustancial en la cantidad de casos positivos de Covid-19."
      ]
    },
    {
      "cell_type": "markdown",
      "metadata": {
        "id": "sVphJxUeT7ZM"
      },
      "source": [
        "# 2.Entendimiento de los datos\n",
        "----\n",
        "En esta sección se usará Python para realizar un primer entendimiento de los conjuntos de datos. "
      ]
    },
    {
      "cell_type": "markdown",
      "metadata": {
        "id": "vteJPeNZSGGO"
      },
      "source": [
        "## Descripción de los dataset\n",
        "------\n",
        "\n"
      ]
    },
    {
      "cell_type": "markdown",
      "metadata": {
        "id": "XyLWotzi0NP-"
      },
      "source": [
        "* Dataset **Casos positivos de COVID-19 en Colombia**\n",
        "-----\n",
        "Inicialmente se carga el dataset **Casos positivos de COVID-19 en Colombia** encontrado en la plataforma [datos.gov](https://www.datos.gov.co/Salud-y-Protecci-n-Social/Casos-positivos-de-COVID-19-en-Colombia/gt2j-8ykr) y proporcionados por el **Instituto Nacional de Salud**.\n",
        "\n",
        "A la fecha este dataset contiene **6.3 Millones de registros** relacionados con los casos positivos de Covid-19 en Colombia, el dataset se actualiza semanalmente, esto con el fin de mantener al día los estudios relacionados con el virus y su comportamiento en el país.\n",
        "\n",
        "Se conforma por las siguientes columnas/variables:\n",
        "\n",
        "<br/>\n",
        "\n",
        "| Variable | Definición | Etiqueta | Valores  |\n",
        "| --- | --- | --- | --- | \n",
        "| fecha reporte web | Fecha de publicación en sitio web | fecha_reporte_web | |\n",
        "| ID de caso | Identificador del registro | id_de_caso | |\n",
        "| Fecha de notificación | Fecha de notificación a SIVIGILA<br/> (Sistema de Vigilancia en Salud Pública) | fecha_de_notificaci_n | |\n",
        "| Código DIVIPOLA departamento | Código división político administrativa<br/> del departamento | departamento | |\n",
        "| Nombre departamento | Nombre del departamento<br/> (Dato limitado por confidencialidad) | departamento_nom | |\n",
        "| Código DIVIPOLA municipio | Código división político administrativa <br/>del municipio | ciudad_municipio | |\n",
        "| Nombre municipio | Nombre del municipio<br/> (Dato limitado por confidencialidad) | ciudad_municipio_nom || \n",
        "| Edad | Edad del paciente | edad |\n",
        "| Unidad de medida de edad | Unidad de medida para la variable edad | unidad_medida | 1-Años, 2-Meses,<br/><br/> **3-Días**:<br/> No en el dataset a la fecha |\n",
        "| Sexo | Sexo del paciente | sexo | F, M |\n",
        "| Tipo de contagio | Como se contagia el paciente, relación<br/> con infectado o es importado | fuente_tipo_contagio | Comunitaria, Relacionado |\n",
        "| Ubicación del caso | Lugar del caso covid | ubicacion | N/A, Casa, Fallecido,<br/><br/> **Hospital, Hospital UCI**: <br/>No en el dataset a la fecha |\n",
        "| Estado | Gravedad del paciente | estado | Leve, Moderado, Grave, Fallecido, N/A |\n",
        "| Recuperado | Estado del paciente | recuperado | Recuperado, Fallecido, N/A |\n",
        "| Fecha de inicio de síntomas | Fecha de inicio de síntomas del paciente | fecha_inicio_sintomas |  |\n",
        "| Fecha de muerte | Fecha de muerte del paciente | fecha_muerte |  |\n",
        "| Fecha de diagnóstico | Fecha de diagnóstico del paciente | fecha_diagnostico |  |\n",
        "| Fecha de recuperación | Fecha de recuperación del paciente | fecha_recuperado |  |\n",
        "| Tipo de recuperación | Tipo de recuperación ya sea por segunda muestra (PCR)<br/> o por cumplir 30 días después del inicio de síntomas o muestra<br/> sin síntomas **(Menores de 70 no hospitalizados)** | tipo_recuperacion | PCR, Tiempo |\n",
        "| Pertenencia étnica | Autorreconocimiento del paciente en esta variable, es importante<br/> notar que este campo depende del diligenciamiento de los<br/> profesionales y que cumpla con los criterios para pertenecer<br/> a la étnia | per_etn_ | 1-Indígena, 2-ROM, 3-Raizal, 4-Palenquero,<br/> 5-Negro, 6-Otro |\n",
        "| Nombre del grupo étnico | Nombre de la étnia si aplica | nom_grupo_ |  |\n",
        "| Código ISO del país  | País desde dónde viaja el paciente | pais_viajo_1_cod | |\n",
        "| Nombre del país | Nombre del país correspondiente a la variable código ISO del país | pais_viajo_1_nom | |"
      ]
    },
    {
      "cell_type": "markdown",
      "metadata": {
        "id": "lUNFwGekJsED"
      },
      "source": [
        "\n",
        "* Dataset casos Positivos Covid-19 Bogotá\n",
        "----\n",
        "\n",
        "Este conjunto de datos suministrado por **SIVIGILIA.DC** contiene información registrada desde **Marzo 01 del 2020** con una periodicidad de actualización diaria hasta la fecha **17 de Septiembre del 2022** que fue descargado el archivo para realizar el respectivo análisis. A su vez, tiene la utilidad de permitir conocer la evolución de los casos de *Covid-19* en la ciudad de Bogotá\n",
        "\n",
        "<br/>\n",
        "\n",
        "| Dato                        \t| Descripción                                                                                           \t| Tipo de Dato \t|\n",
        "|-----------------------------\t|-------------------------------------------------------------------------------------------------------\t|--------------\t|\n",
        "| CASO                        \t| Valor que identifica el caso de la persona que contrajo Covid-19                                        \t| int64        \t|\n",
        "| FECHA_DE_INICIO_DE_SINTOMAS \t| Fecha en la que se iniciaron a presentar síntomas, puede ser numérica o 'sin_dato'                    \t| str          \t|\n",
        "| FECHA_DIAGNOSTICO           \t| Fecha en la que se confirmo el contagio en el laboratorio                                             \t| str          \t|\n",
        "| CIUDAD                      \t| Ciudad en la que reside el caso                                                                       \t| str          \t|\n",
        "| LOCALIDAD_ASIS              \t| Localidad en la que reside el caso                                                                    \t| str          \t|\n",
        "| EDAD                        \t| Edad de la persona del caso la cual puede estar en días, meses o años.                                \t| float        \t|\n",
        "| UNI_MED                     \t| Unidad de medida edad del caso. '1.0' es igual a años, '2.0' es igual a meses y '3.0' es igual a días \t| float        \t|\n",
        "| SEXO                        \t| Sexo al que pertenece el paciente                                                                     \t| str          \t|\n",
        "| FUENTE_O_TIPO_DE_CONTAGIO   \t| Tipo de contagio que se presento                                                                      \t| str          \t|\n",
        "| UBICACION                   \t| Ubicación donde se encuentra el caso la cual puede ser hospital, casa, hospital UCI, fallecido        \t| str          \t|\n",
        "| ESTADO                      \t| Estado de la persona diagnosticada. Fallecido, recuperado, Fallecido no relacionado con Covid-19      \t|              \t|\n",
        "|                             \t|                                                                                                       \t|              \t|"
      ]
    },
    {
      "cell_type": "markdown",
      "metadata": {
        "id": "ic_6YYru_-uD"
      },
      "source": [
        "* Dataset Mapa Colombia por departamentos a través de código DIVIPOLA\n",
        "----\n",
        "\n",
        "Este conjunto de datos obtenido a través de los archivos compartidos por el **módulo 1 de Análisis y visualización de datos con python** contiene información sobre la división politico administrativa de Colombia (DIVIPOLA) con su respectiva representación geometrica para el uso de GeoPandas.\n",
        "\n",
        "<br/>\n",
        "\n",
        "| Variable | Definición | Etiqueta | Valores |\n",
        "| --- | --- | --- | --- | \n",
        "| Código del departamento | Código DIVIPOLA del departamento | COD_DEPART |  |\n",
        "| Cantidad | Cantidad de municipios pertenecientes<br/> al departamento | COUNT |  |\n",
        "| Nombre del departamento | Nombre del departamento | Nombre |  |\n",
        "| Geometría | Geometría usada para representar <br/> al departamento con geopandas | geometry | POLYGON, MULTIPOLYGON"
      ]
    },
    {
      "cell_type": "markdown",
      "metadata": {
        "id": "vtW-JaoHTUa4"
      },
      "source": [
        "## Carga De Datos\n",
        "------"
      ]
    },
    {
      "cell_type": "markdown",
      "metadata": {
        "id": "o8GznqT97P96"
      },
      "source": [
        "* DataSet **Casos positivos COVID-19 en Colombia**\n",
        "-----"
      ]
    },
    {
      "cell_type": "markdown",
      "metadata": {
        "id": "Md6xIkZUB_hn"
      },
      "source": [
        "**EN EL PRESENTE TRABAJO SOLO SE USARÁN 3 MILLONES DE DATOS**"
      ]
    },
    {
      "cell_type": "code",
      "execution_count": null,
      "metadata": {
        "colab": {
          "background_save": true,
          "base_uri": "https://localhost:8080/"
        },
        "id": "R4pHLZzzY5PN",
        "outputId": "75799b58-8947-474c-e28b-f375682d88aa"
      },
      "outputs": [
        {
          "name": "stderr",
          "output_type": "stream",
          "text": [
            "WARNING:root:Requests made without an app_token will be subject to strict throttling limits.\n"
          ]
        }
      ],
      "source": [
        "# python client for the Socrata Open Data Api\n",
        "client = sodapy.Socrata(\"www.datos.gov.co\", None)\n",
        "# dictionaries by sodapy\n",
        "results = client.get(\"gt2j-8ykr\", limit=3000000)\n",
        "\n",
        "# Convert to pandas DataFrame\n",
        "covid = pd.DataFrame.from_records(results)\n",
        "\n",
        "covid_copia = covid.copy()"
      ]
    },
    {
      "cell_type": "markdown",
      "metadata": {
        "id": "Z0HyF2A27TL1"
      },
      "source": [
        "* DataSet **Casos confirmados de COVID-19 en Bogotá D.C.**\n",
        "-----"
      ]
    },
    {
      "cell_type": "code",
      "execution_count": null,
      "metadata": {
        "colab": {
          "background_save": true,
          "base_uri": "https://localhost:8080/"
        },
        "id": "vuXghX_-pJ1Y",
        "outputId": "7d6a64bb-1edb-442e-9426-a4f70a537950"
      },
      "outputs": [
        {
          "name": "stdout",
          "output_type": "stream",
          "text": [
            "Downloading...\n",
            "From: https://drive.google.com/uc?id=1HTBWSe6htrXYhhe6jD6xPUqjBw8LAB_0\n",
            "To: /content/osb_enftransm-covid-19_15092022.csv\n",
            "100% 147M/147M [00:00<00:00, 159MB/s]\n"
          ]
        }
      ],
      "source": [
        "!gdown https://drive.google.com/uc?id=1HTBWSe6htrXYhhe6jD6xPUqjBw8LAB_0"
      ]
    },
    {
      "cell_type": "code",
      "execution_count": null,
      "metadata": {
        "colab": {
          "background_save": true
        },
        "id": "j6isERyBpp4N"
      },
      "outputs": [],
      "source": [
        "bogota = pd.read_csv(\"osb_enftransm-covid-19_15092022.csv\")\n",
        "# Make changes to types for easier manipulation\n",
        "cols = [\"FECHA_DIAGNOSTICO\", \"FECHA_DE_INICIO_DE_SINTOMAS\",]\n",
        "\n",
        "bogota[cols] = bogota[cols].apply(pd.to_datetime, errors=\"coerce\")\n",
        "bogota_copia = bogota.copy()"
      ]
    },
    {
      "cell_type": "markdown",
      "metadata": {
        "id": "hAh7zA7JW3Oz"
      },
      "source": [
        "# 3.Preparación de los datos\n",
        "----\n",
        "Esta sección será la encargada de preparar los datos para posteriormente realizar un análisis y gráficas. Para ello se usarán herramientas de limpieza de datos (Data Cleaning) y unión del conjunto de datos para manejar una sola base de datos."
      ]
    },
    {
      "cell_type": "markdown",
      "metadata": {
        "id": "gELHEH1YW7SY"
      },
      "source": [
        "\n",
        "## **Limpieza de los datos (Primer Dataset)**\n",
        "----\n",
        "\n",
        "Columnas a eliminar : \n",
        "\n",
        "| Columnas             | Accion   |\n",
        "|----------------------|----------|\n",
        "| departamento_nom     | Eliminar |\n",
        "| ciudad_municipio_nom | Eliminar |\n",
        "| pais_viajo_1_cod     | Eliminar |\n",
        "| pais_viajo_1_nom     | Eliminar |\n",
        "\n",
        "\n",
        "Columnas con valores nulos: \n",
        "\n",
        "| Columnas              | Cantidad Datos |  Acción a realizar |\n",
        "|-----------------------|----------------|--------------------|\n",
        "| fecha_diagnostico     | 1              | Eliminar Fila      |\n",
        "| fecha_inicio_sintomas | 1251           | Agregación         |\n",
        "| fecha_recuperado      | 646            | Verificación       |\n",
        "| tipo_recuperacion     | 646            | Verificación       |\n",
        "| fecha_muerte          | 19329          | Verificación       |\n",
        "| estado                | 126            | Agregación         |\n",
        "\n",
        "Columnas que tienen mismos nombres pero errores de escritura que deben ser cambiados: \n",
        "\n",
        "| Columnas   | Valor a cambiar |  Nuevo Valor           |\n",
        "|------------|-----------------|------------------------|\n",
        "|  Ubicacion | Casa            | casa                   |\n",
        "\n"
      ]
    },
    {
      "cell_type": "markdown",
      "metadata": {
        "id": "HVrSrLNkZmFt"
      },
      "source": [
        "* #### **Eliminación de datos primer dataset**\n",
        "-----\n"
      ]
    },
    {
      "cell_type": "markdown",
      "metadata": {
        "id": "GGdyc4tEZzs2"
      },
      "source": [
        "* **Eliminación columna departamento_nom**\n",
        "\n",
        "Esta columna se eliminará puesto que ya se tiene el código del departamento y a su vez, la base de datos no nos muestra todos los nombres que corresponden a los códigos DIVIPOLA mencionados con anterioridad"
      ]
    },
    {
      "cell_type": "markdown",
      "metadata": {
        "id": "iqtVPTMTagIu"
      },
      "source": [
        "* **Eliminación columna ciudad_municipio_nom**\n",
        "\n",
        "Al igual que el caso anterior, ya se cuenta con el código que representa cada departamento los cuales se usarán en un futuro. Asi mismo, se tienen errores en esta columna pues por temas de privacidad la base de datos no muestra los nombres completos, unicamente el código DIVIPOLA que representa a cada ciudad/municipio."
      ]
    },
    {
      "cell_type": "markdown",
      "metadata": {
        "id": "KcBB4n5Q5uK8"
      },
      "source": [
        "* **Eliminación columna pais_viajo_1_cod**\n",
        "\n",
        "Esta columna se eliminará puesto que contiene cerca del 99.87% valores nulos los cuáles no representan información importante para el análisis de la incidencia de casos positivos en Bogotá que influyeron las demás regiones del país. "
      ]
    },
    {
      "cell_type": "markdown",
      "metadata": {
        "id": "oDNtHcNK7RoP"
      },
      "source": [
        "* **Eliminación columna pais_viajo_1_nom**\n",
        "\n",
        "Como se decidió a eliminar la columna **pais_viajo_1_cod** por su poca incidencia en el análisis y gran cantidad de valores nulos, es necesario eliminar la columna **pais_viajo_1_nom** puesto que es la representación del nombre de los países que anteriormente fueron eliminados. "
      ]
    },
    {
      "cell_type": "code",
      "execution_count": null,
      "metadata": {
        "colab": {
          "background_save": true,
          "base_uri": "https://localhost:8080/"
        },
        "id": "IFKyGaHDZzaS",
        "outputId": "e04ef83f-42b1-47a3-d562-2cc176eb6edc"
      },
      "outputs": [
        {
          "name": "stdout",
          "output_type": "stream",
          "text": [
            "El porcentaje de valores nulos para la columna 'pais_viajo_1_cod' es 99.92093333333332%\n",
            "El porcentaje de valores nulos para la columna 'pais_viajo_1_nom' es 99.92066666666666%\n",
            "El nuevo tamaño del dataset corresponde a (3000000, 19) \n"
          ]
        }
      ],
      "source": [
        "covid = covid_copia.copy()\n",
        "print('El porcentaje de valores nulos para la columna \\'pais_viajo_1_cod\\' '\n",
        "      'es {}%'.format( (covid['pais_viajo_1_cod'].isnull().sum() /covid.shape[0]  * 100)) )\n",
        "\n",
        "print('El porcentaje de valores nulos para la columna \\'pais_viajo_1_nom\\' '\n",
        "      'es {}%'.format( (covid['pais_viajo_1_nom'].isnull().sum() /covid.shape[0]  * 100)) )\n",
        "\n",
        "\n",
        "covid = covid.drop(columns = ['departamento_nom','ciudad_municipio_nom','pais_viajo_1_nom','pais_viajo_1_cod'])\n",
        "print(\"El nuevo tamaño del dataset corresponde a {} \".format(covid.shape))"
      ]
    },
    {
      "cell_type": "markdown",
      "metadata": {
        "id": "rAWqU-UQeOyH"
      },
      "source": [
        "* **Imputación filas fecha_diagnostico con na**\n",
        "---\n",
        "\n",
        "Dado que la fecha diagnostico no está presente en algunos datos se opta por imputar la fecha de notificación del caso covid, esto debido a que se considera una buena medida por los investigadores para reemplazar los valores faltantes."
      ]
    },
    {
      "cell_type": "code",
      "execution_count": null,
      "metadata": {
        "colab": {
          "background_save": true
        },
        "id": "a-pW0mBUeONy"
      },
      "outputs": [],
      "source": [
        "# Imputation\n",
        "covid.loc[covid[\"fecha_diagnostico\"].isna(), \"fecha_diagnostico\"] = covid[\"fecha_de_notificaci_n\"]"
      ]
    },
    {
      "cell_type": "code",
      "execution_count": null,
      "metadata": {
        "colab": {
          "background_save": true,
          "base_uri": "https://localhost:8080/"
        },
        "id": "UaFSLBn5fP8d",
        "outputId": "d1f485c2-20d3-4acb-9156-713acd35f24c"
      },
      "outputs": [
        {
          "name": "stdout",
          "output_type": "stream",
          "text": [
            "Existen valores nulos : False\n"
          ]
        }
      ],
      "source": [
        "# Check that the imputation is successful\n",
        "print('Existen valores nulos : {}'.format(covid['fecha_diagnostico'].isnull().any()))"
      ]
    },
    {
      "cell_type": "markdown",
      "metadata": {
        "id": "_LmtvBLgezUx"
      },
      "source": [
        "* #### **Corrección de datos primer dataset**\n",
        "----"
      ]
    },
    {
      "cell_type": "markdown",
      "metadata": {
        "id": "EK7psfXj7EPJ"
      },
      "source": [
        "* **Cambiar tipo de dato per_etn_**\n",
        "\n",
        "Se cambiará el tipo de dato str por int64"
      ]
    },
    {
      "cell_type": "code",
      "execution_count": null,
      "metadata": {
        "colab": {
          "background_save": true
        },
        "id": "Ztldvmyd7M_w"
      },
      "outputs": [],
      "source": [
        "covid['per_etn_'] = covid['per_etn_'].astype('int64')\n"
      ]
    },
    {
      "cell_type": "markdown",
      "metadata": {
        "id": "nYvx5K28Swmt"
      },
      "source": [
        "* **Cambio a lower y upper case según corresponda**\n",
        "\n",
        "Se opta por realizar este cambio dado que algunos registros tienen valores con formato upper case, lower case y capitalized por lo que se considera generalizar estos valores para toda la base de datos."
      ]
    },
    {
      "cell_type": "code",
      "execution_count": null,
      "metadata": {
        "colab": {
          "background_save": true
        },
        "id": "OuAKYjPkTYfb"
      },
      "outputs": [],
      "source": [
        "# Make changes to types for easier manipulation\n",
        "covid[\"sexo\"] = covid[\"sexo\"].str.upper()\n",
        "covid[\"recuperado\"] = covid[\"recuperado\"].str.lower()\n",
        "covid[\"ubicacion\"] = covid[\"ubicacion\"].str.lower()\n",
        "covid[\"estado\"] = covid[\"estado\"].str.lower()"
      ]
    },
    {
      "cell_type": "markdown",
      "metadata": {
        "id": "FsjFYuHgTbpB"
      },
      "source": [
        "* **Cambio de tipos en algunas columnas**\n",
        "\n",
        "Es importante notar que las fechas traídas son de tipo object por lo que se opta por realizar una conversión a datetime de modo que sean  más fáciles de manejar.\n",
        "\n",
        "En el caso de valores numéricos se realiza la conversión a int64 para facilitar algunas operaciones."
      ]
    },
    {
      "cell_type": "code",
      "execution_count": null,
      "metadata": {
        "colab": {
          "background_save": true
        },
        "id": "p2xpUbN1TgpX"
      },
      "outputs": [],
      "source": [
        "# Make changes to types for easier manipulation\n",
        "covid[[\"edad\", \"unidad_medida\", \"departamento\"]] = covid[[\"edad\", \"unidad_medida\", \"departamento\"]].astype(int)\n",
        "cols = [\"fecha_reporte_web\", \"fecha_de_notificaci_n\", \"fecha_inicio_sintomas\", \"fecha_muerte\", \"fecha_diagnostico\", \"fecha_recuperado\"]\n",
        "\n",
        "covid[cols] = covid[cols].apply(pd.to_datetime, errors=\"coerce\")"
      ]
    },
    {
      "cell_type": "markdown",
      "metadata": {
        "id": "O6BwqQbaW5Gw"
      },
      "source": [
        "* **Corrección datos fecha_inicio_sintomas**\n",
        "\n",
        "Según la tabla anterior para la columna **fecha_inicio_sintomas** se contará con el dato **fecha_diagnostico** y se asignará un valor de **quince** días anterior que representa la fecha máxima en la cuál la persona pudo contraer Covid-19 y presentar síntomas nulos, leves o graves.\n"
      ]
    },
    {
      "cell_type": "code",
      "execution_count": null,
      "metadata": {
        "colab": {
          "background_save": true
        },
        "collapsed": true,
        "id": "1nOCLuLaXOuM"
      },
      "outputs": [],
      "source": [
        "# Change values for notif day - 15 days\n",
        "covid.loc[covid[\"fecha_inicio_sintomas\"].isna(), \"fecha_inicio_sintomas\"] = covid[\"fecha_de_notificaci_n\"] - datetime.timedelta(days = 15)"
      ]
    },
    {
      "cell_type": "code",
      "execution_count": null,
      "metadata": {
        "colab": {
          "background_save": true,
          "base_uri": "https://localhost:8080/"
        },
        "id": "9-R0D57Id6vq",
        "outputId": "afbe5b0e-470a-4b53-99cf-22245eed3829"
      },
      "outputs": [
        {
          "name": "stdout",
          "output_type": "stream",
          "text": [
            "Existen valores nulos : False \n"
          ]
        }
      ],
      "source": [
        "# Check that the row have been modified\n",
        "print('Existen valores nulos : {} '.format(covid['fecha_inicio_sintomas'].isnull().any()))"
      ]
    },
    {
      "cell_type": "markdown",
      "metadata": {
        "id": "s2SCPVC3F7cl"
      },
      "source": [
        "## **Limpieza de los datos (Segundo Dataset)**\n",
        "\n",
        "Columnas que contienen valores nulos \n",
        "\n",
        "| Columna                     | Cantidad de Datos | Tipo de dato nulo |\n",
        "|-----------------------------|-------------------|-------------------|\n",
        "| FECHA_DE_INICIO_DE_SINTOMAS | 459370            | Null              |\n",
        "| LOCALIDAD_ASIS              | 58231             | Sin dato          |\n",
        "| CIUDAD                      | 58231             | Sin dato          |\n",
        "\n",
        "\n",
        "Columnas a las que se le debe cambiar el tipo de dato :\n",
        "\n",
        "| Columna  | Cantidad de Datos | Tipo de dato antiguo | Tipo de dato nuevo |\n",
        "|----------|-------------------|----------------------|--------------------|\n",
        "| EDAD     | 459370            | FLOAT                | INT                |\n",
        "\n",
        "Columnas con el mismo dato pero que deben cambiarse por erro de digitación : \n",
        "\n",
        "* FUENTE_O_TIPO_DE_CONTAGIO -> En Estudio por En estudio\n",
        "\n",
        "| Columna  | Cantidad de Datos | Tipo de dato antiguo | Tipo de dato nuevo |\n",
        "|----------|-------------------|----------------------|--------------------|\n",
        "| EDAD     | 481               | En Estudio           | En estudio                |\n"
      ]
    },
    {
      "cell_type": "markdown",
      "metadata": {
        "id": "iuAggtDOcYbg"
      },
      "source": [
        "#### Análisis de datos nulos\n",
        "---\n",
        "\n",
        "Algunas columnas de este conjunto de datos contienen valores nulos con la palabra 'Sin dato', los cuales es necesario analizarlos detalladamente pues pueden tener una incidencia en el proyecto o representar información importante."
      ]
    },
    {
      "cell_type": "markdown",
      "metadata": {
        "id": "fMgynjmocsC5"
      },
      "source": [
        "* **Análisis columna LOCALIDAD_ASIS**\n",
        "-----\n",
        "\n",
        "Esta columna representa la localidad en la que reside el caso es por eso que se tiene la variable de 'Sin dato' la cuál representa que no existe información acerca de donde esta ubicado el paciente. Se tienen 58231 filas con esta información por lo cuál no se eliminarán a pesar de representar unicamente un 3.14% de todo el conjunto de datos totales."
      ]
    },
    {
      "cell_type": "code",
      "execution_count": null,
      "metadata": {
        "colab": {
          "background_save": true,
          "base_uri": "https://localhost:8080/"
        },
        "id": "vnl5znGRdENc",
        "outputId": "52cbfe9e-d60e-4d3c-9e07-4e60a04848d5"
      },
      "outputs": [
        {
          "name": "stdout",
          "output_type": "stream",
          "text": [
            "El porcentaje de pacientes que tienen el valor de 'Sin dato' correspondea 3.143243168839946 % siendo un total de 58231 datos\n"
          ]
        }
      ],
      "source": [
        "cantidad_datos =  bogota.LOCALIDAD_ASIS.value_counts()['Sin dato'] \n",
        "print('El porcentaje de pacientes que tienen el valor de \\'Sin dato\\' corresponde'\n",
        "     'a {} % siendo un total de {} datos'.format((cantidad_datos/bogota.shape[0])*100,cantidad_datos))\n"
      ]
    },
    {
      "cell_type": "markdown",
      "metadata": {
        "id": "uo4IETxzeoux"
      },
      "source": [
        "* **Análisis columna CIUDAD**\n",
        "\n",
        "Al igual que la columna anterior se tiene que existe el valor de 'Sin dato' 58231 veces, representado un 3.14%. A pesar de qué es un porcentaje bajo son bastantes datos por lo cuál se considera no eliminar dichas filas que contengan esta información puesto que pueden tener una información importante que se encontrará en futuras secciones."
      ]
    },
    {
      "cell_type": "code",
      "execution_count": null,
      "metadata": {
        "colab": {
          "background_save": true,
          "base_uri": "https://localhost:8080/"
        },
        "id": "BK1W-kkYeyHj",
        "outputId": "335e1fdb-a8d1-4c3e-85f4-096814ba78e1"
      },
      "outputs": [
        {
          "name": "stdout",
          "output_type": "stream",
          "text": [
            "La cantidad de datos son 58231 y su porcentaje en el conjunto de datos es de 3.143243168839946% \n"
          ]
        }
      ],
      "source": [
        "cantidad_datos = bogota.CIUDAD.value_counts()['Sin dato']\n",
        "\n",
        "print('La cantidad de datos son {} y su porcentaje en el conjunto de datos es de {}% '\n",
        "      ''.format(cantidad_datos, (cantidad_datos/bogota.shape[0])*100))"
      ]
    },
    {
      "cell_type": "markdown",
      "metadata": {
        "id": "QCEshXvJioEw"
      },
      "source": [
        "#### Corrección de datos segundo dataset\n",
        "----"
      ]
    },
    {
      "cell_type": "markdown",
      "metadata": {
        "id": "6qlYNXhAcTkF"
      },
      "source": [
        "* **Modificación columna FECHA_INICIO_SINTOMAS**\n",
        "\n",
        "Al igual que en el **dataset** anterior se complementará esta información suponiendo que cada paciente se contagió a lo sumo **quince** días antes de realizada la prueba, valor que corresponde a la fecha máxima en la que el virus **Covid-19** se encuentra presente en el cuerpo humano."
      ]
    },
    {
      "cell_type": "code",
      "execution_count": null,
      "metadata": {
        "colab": {
          "background_save": true,
          "base_uri": "https://localhost:8080/"
        },
        "collapsed": true,
        "id": "lBut9Mq_ioE1",
        "outputId": "20eddcdd-7006-492e-bc1d-1e2cf03886b1"
      },
      "outputs": [
        {
          "name": "stdout",
          "output_type": "stream",
          "text": [
            "Comprobación, valores nulos en columna FECHA_DE_INCIO_DE_SINTOMAS son : 0 \n"
          ]
        }
      ],
      "source": [
        "bogota.loc[bogota['FECHA_DE_INICIO_DE_SINTOMAS'].isna(),'FECHA_DE_INICIO_DE_SINTOMAS'] = bogota['FECHA_DIAGNOSTICO'] - datetime.timedelta(days = 15) \n",
        "\n",
        "print('Comprobación, valores nulos en columna FECHA_DE_INCIO_DE_SINTOMAS son : {} '.format(bogota['FECHA_DE_INICIO_DE_SINTOMAS'].isnull().sum()))"
      ]
    },
    {
      "cell_type": "markdown",
      "metadata": {
        "id": "eNUk5xNrgCjn"
      },
      "source": [
        "* **Cambio de dato columna EDAD**\n",
        "-----\n",
        "Esta columna contiene 1852577 los cuales se deben cambiar al tipo de dato 'int'"
      ]
    },
    {
      "cell_type": "code",
      "execution_count": null,
      "metadata": {
        "colab": {
          "background_save": true,
          "base_uri": "https://localhost:8080/"
        },
        "id": "lw24jrF8gB8x",
        "outputId": "cf3553ea-8d0b-4a59-cd26-bdebe136fb04"
      },
      "outputs": [
        {
          "name": "stdout",
          "output_type": "stream",
          "text": [
            "El tipo de dato para la columna EDAD es int64 \n"
          ]
        }
      ],
      "source": [
        "bogota['EDAD'] = bogota['EDAD'].astype('int')\n",
        "\n",
        "print('El tipo de dato para la columna EDAD es {} '.format(bogota.EDAD.dtypes))"
      ]
    },
    {
      "cell_type": "markdown",
      "metadata": {
        "id": "y_nULKtRjlVM"
      },
      "source": [
        "* **Corrección de dato columna FUENTE_O_TIPO_DE_CONTAGIO**\n"
      ]
    },
    {
      "cell_type": "code",
      "execution_count": null,
      "metadata": {
        "colab": {
          "background_save": true,
          "base_uri": "https://localhost:8080/"
        },
        "id": "dihzH4lljrQn",
        "outputId": "bcf58c86-ecca-4369-92b6-72cce9f828a4"
      },
      "outputs": [
        {
          "name": "stdout",
          "output_type": "stream",
          "text": [
            "Comprobación\n"
          ]
        },
        {
          "data": {
            "text/plain": [
              "array(['importado', 'relacionado', 'en estudio', 'desconocido',\n",
              "       'comunitaria'], dtype=object)"
            ]
          },
          "execution_count": 19,
          "metadata": {},
          "output_type": "execute_result"
        }
      ],
      "source": [
        "bogota[\"FUENTE_O_TIPO_DE_CONTAGIO\"] = bogota[\"FUENTE_O_TIPO_DE_CONTAGIO\"].str.lower()\n",
        "print(\"Comprobación\")\n",
        "bogota.FUENTE_O_TIPO_DE_CONTAGIO.unique()\n"
      ]
    },
    {
      "cell_type": "markdown",
      "metadata": {
        "id": "O_yBejesiSur"
      },
      "source": [
        "* **Modificación columna FECHA_INICIO_SINTOMAS**\n",
        "\n",
        "Al igual que en el **dataset** anterior se complementará esta información suponiendo que cada paciente se contagió a lo sumo **quince** días antes de realizada la prueba, valor que corresponde a la fecha máxima en la que el virus **Covid-19** se encuentra presente en el cuerpo humano."
      ]
    },
    {
      "cell_type": "code",
      "execution_count": null,
      "metadata": {
        "colab": {
          "background_save": true,
          "base_uri": "https://localhost:8080/"
        },
        "collapsed": true,
        "id": "i-yKHBlaiSus",
        "outputId": "b23f4749-0d6a-4f33-ef35-c3775081807c"
      },
      "outputs": [
        {
          "name": "stdout",
          "output_type": "stream",
          "text": [
            "Comprobación, valores nulos en columna FECHA_DE_INCIO_DE_SINTOMAS son : 0 \n"
          ]
        }
      ],
      "source": [
        "bogota = bogota_copia.copy()\n",
        "\n",
        "bogota.loc[bogota['FECHA_DE_INICIO_DE_SINTOMAS'].isna(),'FECHA_DE_INICIO_DE_SINTOMAS'] = bogota['FECHA_DIAGNOSTICO'] - datetime.timedelta(days = 15) \n",
        "\n",
        "print('Comprobación, valores nulos en columna FECHA_DE_INCIO_DE_SINTOMAS son : {} '.format(bogota['FECHA_DE_INICIO_DE_SINTOMAS'].isnull().sum()))"
      ]
    },
    {
      "cell_type": "markdown",
      "metadata": {
        "id": "NPWy2Ikk3ZVz"
      },
      "source": [
        "* **Eliminación datos atípicos edad**\n",
        "---\n",
        "Se eliminarán las edades mayores a 100 años puesto que son edades extremadamente altas."
      ]
    },
    {
      "cell_type": "code",
      "execution_count": null,
      "metadata": {
        "colab": {
          "background_save": true
        },
        "id": "t1ifqH4l3lkO"
      },
      "outputs": [],
      "source": [
        "\n",
        "max = bogota['EDAD'].max()\n",
        "Inmax = bogota['EDAD'].idxmax()\n",
        "cont = 0\n",
        "\n",
        "while 100 < max: \n",
        "  bogota = bogota.drop([Inmax],axis = 0) \n",
        "  max = bogota['EDAD'].max()\n",
        "  Inmax = bogota['EDAD'].idxmax()\n"
      ]
    },
    {
      "cell_type": "markdown",
      "metadata": {
        "id": "Awu06XgxTaD6"
      },
      "source": [
        "# 4.Descripción inicial de los datos \n",
        "------"
      ]
    },
    {
      "cell_type": "markdown",
      "metadata": {
        "id": "4URRv0rv2wNR"
      },
      "source": [
        "#### **Casos positivos COVID-19 en Colombia (Primer Dataset)**\n",
        "----"
      ]
    },
    {
      "cell_type": "code",
      "execution_count": null,
      "metadata": {
        "colab": {
          "background_save": true,
          "base_uri": "https://localhost:8080/",
          "height": 300
        },
        "id": "dtDCYYu-0PKu",
        "outputId": "e183dcec-ea3f-4d04-8525-8e2c49372be2"
      },
      "outputs": [
        {
          "data": {
            "text/html": [
              "\n",
              "  <div id=\"df-e98fda7d-c209-4cc4-9659-64b00c531bfe\">\n",
              "    <div class=\"colab-df-container\">\n",
              "      <div>\n",
              "<style scoped>\n",
              "    .dataframe tbody tr th:only-of-type {\n",
              "        vertical-align: middle;\n",
              "    }\n",
              "\n",
              "    .dataframe tbody tr th {\n",
              "        vertical-align: top;\n",
              "    }\n",
              "\n",
              "    .dataframe thead th {\n",
              "        text-align: right;\n",
              "    }\n",
              "</style>\n",
              "<table border=\"1\" class=\"dataframe\">\n",
              "  <thead>\n",
              "    <tr style=\"text-align: right;\">\n",
              "      <th></th>\n",
              "      <th>departamento</th>\n",
              "      <th>edad</th>\n",
              "      <th>unidad_medida</th>\n",
              "      <th>per_etn_</th>\n",
              "    </tr>\n",
              "  </thead>\n",
              "  <tbody>\n",
              "    <tr>\n",
              "      <th>count</th>\n",
              "      <td>3.000000e+06</td>\n",
              "      <td>3.000000e+06</td>\n",
              "      <td>3.000000e+06</td>\n",
              "      <td>3.000000e+06</td>\n",
              "    </tr>\n",
              "    <tr>\n",
              "      <th>mean</th>\n",
              "      <td>1.166847e+03</td>\n",
              "      <td>3.936209e+01</td>\n",
              "      <td>1.003608e+00</td>\n",
              "      <td>5.904891e+00</td>\n",
              "    </tr>\n",
              "    <tr>\n",
              "      <th>std</th>\n",
              "      <td>5.606015e+03</td>\n",
              "      <td>1.795352e+01</td>\n",
              "      <td>6.510494e-02</td>\n",
              "      <td>6.128060e-01</td>\n",
              "    </tr>\n",
              "    <tr>\n",
              "      <th>min</th>\n",
              "      <td>5.000000e+00</td>\n",
              "      <td>1.000000e+00</td>\n",
              "      <td>1.000000e+00</td>\n",
              "      <td>1.000000e+00</td>\n",
              "    </tr>\n",
              "    <tr>\n",
              "      <th>25%</th>\n",
              "      <td>1.100000e+01</td>\n",
              "      <td>2.600000e+01</td>\n",
              "      <td>1.000000e+00</td>\n",
              "      <td>6.000000e+00</td>\n",
              "    </tr>\n",
              "    <tr>\n",
              "      <th>50%</th>\n",
              "      <td>1.700000e+01</td>\n",
              "      <td>3.700000e+01</td>\n",
              "      <td>1.000000e+00</td>\n",
              "      <td>6.000000e+00</td>\n",
              "    </tr>\n",
              "    <tr>\n",
              "      <th>75%</th>\n",
              "      <td>6.800000e+01</td>\n",
              "      <td>5.100000e+01</td>\n",
              "      <td>1.000000e+00</td>\n",
              "      <td>6.000000e+00</td>\n",
              "    </tr>\n",
              "    <tr>\n",
              "      <th>max</th>\n",
              "      <td>4.700100e+04</td>\n",
              "      <td>1.140000e+02</td>\n",
              "      <td>3.000000e+00</td>\n",
              "      <td>6.000000e+00</td>\n",
              "    </tr>\n",
              "  </tbody>\n",
              "</table>\n",
              "</div>\n",
              "      <button class=\"colab-df-convert\" onclick=\"convertToInteractive('df-e98fda7d-c209-4cc4-9659-64b00c531bfe')\"\n",
              "              title=\"Convert this dataframe to an interactive table.\"\n",
              "              style=\"display:none;\">\n",
              "        \n",
              "  <svg xmlns=\"http://www.w3.org/2000/svg\" height=\"24px\"viewBox=\"0 0 24 24\"\n",
              "       width=\"24px\">\n",
              "    <path d=\"M0 0h24v24H0V0z\" fill=\"none\"/>\n",
              "    <path d=\"M18.56 5.44l.94 2.06.94-2.06 2.06-.94-2.06-.94-.94-2.06-.94 2.06-2.06.94zm-11 1L8.5 8.5l.94-2.06 2.06-.94-2.06-.94L8.5 2.5l-.94 2.06-2.06.94zm10 10l.94 2.06.94-2.06 2.06-.94-2.06-.94-.94-2.06-.94 2.06-2.06.94z\"/><path d=\"M17.41 7.96l-1.37-1.37c-.4-.4-.92-.59-1.43-.59-.52 0-1.04.2-1.43.59L10.3 9.45l-7.72 7.72c-.78.78-.78 2.05 0 2.83L4 21.41c.39.39.9.59 1.41.59.51 0 1.02-.2 1.41-.59l7.78-7.78 2.81-2.81c.8-.78.8-2.07 0-2.86zM5.41 20L4 18.59l7.72-7.72 1.47 1.35L5.41 20z\"/>\n",
              "  </svg>\n",
              "      </button>\n",
              "      \n",
              "  <style>\n",
              "    .colab-df-container {\n",
              "      display:flex;\n",
              "      flex-wrap:wrap;\n",
              "      gap: 12px;\n",
              "    }\n",
              "\n",
              "    .colab-df-convert {\n",
              "      background-color: #E8F0FE;\n",
              "      border: none;\n",
              "      border-radius: 50%;\n",
              "      cursor: pointer;\n",
              "      display: none;\n",
              "      fill: #1967D2;\n",
              "      height: 32px;\n",
              "      padding: 0 0 0 0;\n",
              "      width: 32px;\n",
              "    }\n",
              "\n",
              "    .colab-df-convert:hover {\n",
              "      background-color: #E2EBFA;\n",
              "      box-shadow: 0px 1px 2px rgba(60, 64, 67, 0.3), 0px 1px 3px 1px rgba(60, 64, 67, 0.15);\n",
              "      fill: #174EA6;\n",
              "    }\n",
              "\n",
              "    [theme=dark] .colab-df-convert {\n",
              "      background-color: #3B4455;\n",
              "      fill: #D2E3FC;\n",
              "    }\n",
              "\n",
              "    [theme=dark] .colab-df-convert:hover {\n",
              "      background-color: #434B5C;\n",
              "      box-shadow: 0px 1px 3px 1px rgba(0, 0, 0, 0.15);\n",
              "      filter: drop-shadow(0px 1px 2px rgba(0, 0, 0, 0.3));\n",
              "      fill: #FFFFFF;\n",
              "    }\n",
              "  </style>\n",
              "\n",
              "      <script>\n",
              "        const buttonEl =\n",
              "          document.querySelector('#df-e98fda7d-c209-4cc4-9659-64b00c531bfe button.colab-df-convert');\n",
              "        buttonEl.style.display =\n",
              "          google.colab.kernel.accessAllowed ? 'block' : 'none';\n",
              "\n",
              "        async function convertToInteractive(key) {\n",
              "          const element = document.querySelector('#df-e98fda7d-c209-4cc4-9659-64b00c531bfe');\n",
              "          const dataTable =\n",
              "            await google.colab.kernel.invokeFunction('convertToInteractive',\n",
              "                                                     [key], {});\n",
              "          if (!dataTable) return;\n",
              "\n",
              "          const docLinkHtml = 'Like what you see? Visit the ' +\n",
              "            '<a target=\"_blank\" href=https://colab.research.google.com/notebooks/data_table.ipynb>data table notebook</a>'\n",
              "            + ' to learn more about interactive tables.';\n",
              "          element.innerHTML = '';\n",
              "          dataTable['output_type'] = 'display_data';\n",
              "          await google.colab.output.renderOutput(dataTable, element);\n",
              "          const docLink = document.createElement('div');\n",
              "          docLink.innerHTML = docLinkHtml;\n",
              "          element.appendChild(docLink);\n",
              "        }\n",
              "      </script>\n",
              "    </div>\n",
              "  </div>\n",
              "  "
            ],
            "text/plain": [
              "       departamento          edad  unidad_medida      per_etn_\n",
              "count  3.000000e+06  3.000000e+06   3.000000e+06  3.000000e+06\n",
              "mean   1.166847e+03  3.936209e+01   1.003608e+00  5.904891e+00\n",
              "std    5.606015e+03  1.795352e+01   6.510494e-02  6.128060e-01\n",
              "min    5.000000e+00  1.000000e+00   1.000000e+00  1.000000e+00\n",
              "25%    1.100000e+01  2.600000e+01   1.000000e+00  6.000000e+00\n",
              "50%    1.700000e+01  3.700000e+01   1.000000e+00  6.000000e+00\n",
              "75%    6.800000e+01  5.100000e+01   1.000000e+00  6.000000e+00\n",
              "max    4.700100e+04  1.140000e+02   3.000000e+00  6.000000e+00"
            ]
          },
          "execution_count": 22,
          "metadata": {},
          "output_type": "execute_result"
        }
      ],
      "source": [
        "covid.describe(include = [np.number])"
      ]
    },
    {
      "cell_type": "code",
      "execution_count": null,
      "metadata": {
        "colab": {
          "background_save": true,
          "base_uri": "https://localhost:8080/",
          "height": 175
        },
        "id": "ktlOX3XD3_-l",
        "outputId": "d91908ad-0560-4626-bca5-dd8c8ca9c62e"
      },
      "outputs": [
        {
          "data": {
            "text/html": [
              "\n",
              "  <div id=\"df-7b9cb4be-9371-45b8-b576-f1a0de71483f\">\n",
              "    <div class=\"colab-df-container\">\n",
              "      <div>\n",
              "<style scoped>\n",
              "    .dataframe tbody tr th:only-of-type {\n",
              "        vertical-align: middle;\n",
              "    }\n",
              "\n",
              "    .dataframe tbody tr th {\n",
              "        vertical-align: top;\n",
              "    }\n",
              "\n",
              "    .dataframe thead th {\n",
              "        text-align: right;\n",
              "    }\n",
              "</style>\n",
              "<table border=\"1\" class=\"dataframe\">\n",
              "  <thead>\n",
              "    <tr style=\"text-align: right;\">\n",
              "      <th></th>\n",
              "      <th>id_de_caso</th>\n",
              "      <th>ciudad_municipio</th>\n",
              "      <th>sexo</th>\n",
              "      <th>fuente_tipo_contagio</th>\n",
              "      <th>ubicacion</th>\n",
              "      <th>estado</th>\n",
              "      <th>recuperado</th>\n",
              "      <th>tipo_recuperacion</th>\n",
              "      <th>nom_grupo_</th>\n",
              "    </tr>\n",
              "  </thead>\n",
              "  <tbody>\n",
              "    <tr>\n",
              "      <th>count</th>\n",
              "      <td>3000000</td>\n",
              "      <td>3000000</td>\n",
              "      <td>3000000</td>\n",
              "      <td>3000000</td>\n",
              "      <td>3000000</td>\n",
              "      <td>3000000</td>\n",
              "      <td>3000000</td>\n",
              "      <td>2914881</td>\n",
              "      <td>43202</td>\n",
              "    </tr>\n",
              "    <tr>\n",
              "      <th>unique</th>\n",
              "      <td>3000000</td>\n",
              "      <td>1120</td>\n",
              "      <td>2</td>\n",
              "      <td>3</td>\n",
              "      <td>3</td>\n",
              "      <td>3</td>\n",
              "      <td>3</td>\n",
              "      <td>2</td>\n",
              "      <td>1321</td>\n",
              "    </tr>\n",
              "    <tr>\n",
              "      <th>top</th>\n",
              "      <td>2265685</td>\n",
              "      <td>11001</td>\n",
              "      <td>F</td>\n",
              "      <td>Comunitaria</td>\n",
              "      <td>casa</td>\n",
              "      <td>leve</td>\n",
              "      <td>recuperado</td>\n",
              "      <td>Tiempo</td>\n",
              "      <td>Por definir</td>\n",
              "    </tr>\n",
              "    <tr>\n",
              "      <th>freq</th>\n",
              "      <td>1</td>\n",
              "      <td>892682</td>\n",
              "      <td>1577104</td>\n",
              "      <td>2000242</td>\n",
              "      <td>2912383</td>\n",
              "      <td>2912383</td>\n",
              "      <td>2914881</td>\n",
              "      <td>2395430</td>\n",
              "      <td>10576</td>\n",
              "    </tr>\n",
              "  </tbody>\n",
              "</table>\n",
              "</div>\n",
              "      <button class=\"colab-df-convert\" onclick=\"convertToInteractive('df-7b9cb4be-9371-45b8-b576-f1a0de71483f')\"\n",
              "              title=\"Convert this dataframe to an interactive table.\"\n",
              "              style=\"display:none;\">\n",
              "        \n",
              "  <svg xmlns=\"http://www.w3.org/2000/svg\" height=\"24px\"viewBox=\"0 0 24 24\"\n",
              "       width=\"24px\">\n",
              "    <path d=\"M0 0h24v24H0V0z\" fill=\"none\"/>\n",
              "    <path d=\"M18.56 5.44l.94 2.06.94-2.06 2.06-.94-2.06-.94-.94-2.06-.94 2.06-2.06.94zm-11 1L8.5 8.5l.94-2.06 2.06-.94-2.06-.94L8.5 2.5l-.94 2.06-2.06.94zm10 10l.94 2.06.94-2.06 2.06-.94-2.06-.94-.94-2.06-.94 2.06-2.06.94z\"/><path d=\"M17.41 7.96l-1.37-1.37c-.4-.4-.92-.59-1.43-.59-.52 0-1.04.2-1.43.59L10.3 9.45l-7.72 7.72c-.78.78-.78 2.05 0 2.83L4 21.41c.39.39.9.59 1.41.59.51 0 1.02-.2 1.41-.59l7.78-7.78 2.81-2.81c.8-.78.8-2.07 0-2.86zM5.41 20L4 18.59l7.72-7.72 1.47 1.35L5.41 20z\"/>\n",
              "  </svg>\n",
              "      </button>\n",
              "      \n",
              "  <style>\n",
              "    .colab-df-container {\n",
              "      display:flex;\n",
              "      flex-wrap:wrap;\n",
              "      gap: 12px;\n",
              "    }\n",
              "\n",
              "    .colab-df-convert {\n",
              "      background-color: #E8F0FE;\n",
              "      border: none;\n",
              "      border-radius: 50%;\n",
              "      cursor: pointer;\n",
              "      display: none;\n",
              "      fill: #1967D2;\n",
              "      height: 32px;\n",
              "      padding: 0 0 0 0;\n",
              "      width: 32px;\n",
              "    }\n",
              "\n",
              "    .colab-df-convert:hover {\n",
              "      background-color: #E2EBFA;\n",
              "      box-shadow: 0px 1px 2px rgba(60, 64, 67, 0.3), 0px 1px 3px 1px rgba(60, 64, 67, 0.15);\n",
              "      fill: #174EA6;\n",
              "    }\n",
              "\n",
              "    [theme=dark] .colab-df-convert {\n",
              "      background-color: #3B4455;\n",
              "      fill: #D2E3FC;\n",
              "    }\n",
              "\n",
              "    [theme=dark] .colab-df-convert:hover {\n",
              "      background-color: #434B5C;\n",
              "      box-shadow: 0px 1px 3px 1px rgba(0, 0, 0, 0.15);\n",
              "      filter: drop-shadow(0px 1px 2px rgba(0, 0, 0, 0.3));\n",
              "      fill: #FFFFFF;\n",
              "    }\n",
              "  </style>\n",
              "\n",
              "      <script>\n",
              "        const buttonEl =\n",
              "          document.querySelector('#df-7b9cb4be-9371-45b8-b576-f1a0de71483f button.colab-df-convert');\n",
              "        buttonEl.style.display =\n",
              "          google.colab.kernel.accessAllowed ? 'block' : 'none';\n",
              "\n",
              "        async function convertToInteractive(key) {\n",
              "          const element = document.querySelector('#df-7b9cb4be-9371-45b8-b576-f1a0de71483f');\n",
              "          const dataTable =\n",
              "            await google.colab.kernel.invokeFunction('convertToInteractive',\n",
              "                                                     [key], {});\n",
              "          if (!dataTable) return;\n",
              "\n",
              "          const docLinkHtml = 'Like what you see? Visit the ' +\n",
              "            '<a target=\"_blank\" href=https://colab.research.google.com/notebooks/data_table.ipynb>data table notebook</a>'\n",
              "            + ' to learn more about interactive tables.';\n",
              "          element.innerHTML = '';\n",
              "          dataTable['output_type'] = 'display_data';\n",
              "          await google.colab.output.renderOutput(dataTable, element);\n",
              "          const docLink = document.createElement('div');\n",
              "          docLink.innerHTML = docLinkHtml;\n",
              "          element.appendChild(docLink);\n",
              "        }\n",
              "      </script>\n",
              "    </div>\n",
              "  </div>\n",
              "  "
            ],
            "text/plain": [
              "       id_de_caso ciudad_municipio     sexo fuente_tipo_contagio ubicacion  \\\n",
              "count     3000000          3000000  3000000              3000000   3000000   \n",
              "unique    3000000             1120        2                    3         3   \n",
              "top       2265685            11001        F          Comunitaria      casa   \n",
              "freq            1           892682  1577104              2000242   2912383   \n",
              "\n",
              "         estado  recuperado tipo_recuperacion   nom_grupo_  \n",
              "count   3000000     3000000           2914881        43202  \n",
              "unique        3           3                 2         1321  \n",
              "top        leve  recuperado            Tiempo  Por definir  \n",
              "freq    2912383     2914881           2395430        10576  "
            ]
          },
          "execution_count": 23,
          "metadata": {},
          "output_type": "execute_result"
        }
      ],
      "source": [
        "covid.describe(include = ['O'])"
      ]
    },
    {
      "cell_type": "code",
      "execution_count": null,
      "metadata": {
        "colab": {
          "background_save": true,
          "base_uri": "https://localhost:8080/"
        },
        "id": "NmuLZ-_X0Tri",
        "outputId": "05cc4cb7-5ad3-44b6-d83d-40f361c79eee"
      },
      "outputs": [
        {
          "name": "stdout",
          "output_type": "stream",
          "text": [
            "<class 'pandas.core.frame.DataFrame'>\n",
            "RangeIndex: 3000000 entries, 0 to 2999999\n",
            "Data columns (total 19 columns):\n",
            " #   Column                 Dtype         \n",
            "---  ------                 -----         \n",
            " 0   fecha_reporte_web      datetime64[ns]\n",
            " 1   id_de_caso             object        \n",
            " 2   fecha_de_notificaci_n  datetime64[ns]\n",
            " 3   departamento           int64         \n",
            " 4   ciudad_municipio       object        \n",
            " 5   edad                   int64         \n",
            " 6   unidad_medida          int64         \n",
            " 7   sexo                   object        \n",
            " 8   fuente_tipo_contagio   object        \n",
            " 9   ubicacion              object        \n",
            " 10  estado                 object        \n",
            " 11  recuperado             object        \n",
            " 12  fecha_inicio_sintomas  datetime64[ns]\n",
            " 13  fecha_diagnostico      datetime64[ns]\n",
            " 14  fecha_recuperado       datetime64[ns]\n",
            " 15  tipo_recuperacion      object        \n",
            " 16  per_etn_               int64         \n",
            " 17  nom_grupo_             object        \n",
            " 18  fecha_muerte           datetime64[ns]\n",
            "dtypes: datetime64[ns](6), int64(4), object(9)\n",
            "memory usage: 434.9+ MB\n"
          ]
        }
      ],
      "source": [
        "covid.info()"
      ]
    },
    {
      "cell_type": "markdown",
      "metadata": {
        "id": "7QRR887v2xqs"
      },
      "source": [
        "#### **Casos positivos COVID-19 en Bogotá (Segundo DataSet)**\n",
        "----"
      ]
    },
    {
      "cell_type": "code",
      "execution_count": null,
      "metadata": {
        "colab": {
          "background_save": true,
          "base_uri": "https://localhost:8080/",
          "height": 300
        },
        "id": "66dIjSjsZHW9",
        "outputId": "11e1b29f-e45b-4ff6-da87-0b10e17632a5"
      },
      "outputs": [
        {
          "data": {
            "text/html": [
              "\n",
              "  <div id=\"df-08fef0b6-f39d-4deb-8910-ad30b05ac227\">\n",
              "    <div class=\"colab-df-container\">\n",
              "      <div>\n",
              "<style scoped>\n",
              "    .dataframe tbody tr th:only-of-type {\n",
              "        vertical-align: middle;\n",
              "    }\n",
              "\n",
              "    .dataframe tbody tr th {\n",
              "        vertical-align: top;\n",
              "    }\n",
              "\n",
              "    .dataframe thead th {\n",
              "        text-align: right;\n",
              "    }\n",
              "</style>\n",
              "<table border=\"1\" class=\"dataframe\">\n",
              "  <thead>\n",
              "    <tr style=\"text-align: right;\">\n",
              "      <th></th>\n",
              "      <th>CASO</th>\n",
              "      <th>EDAD</th>\n",
              "      <th>UNI_MED</th>\n",
              "    </tr>\n",
              "  </thead>\n",
              "  <tbody>\n",
              "    <tr>\n",
              "      <th>count</th>\n",
              "      <td>1.852426e+06</td>\n",
              "      <td>1.852426e+06</td>\n",
              "      <td>1.852426e+06</td>\n",
              "    </tr>\n",
              "    <tr>\n",
              "      <th>mean</th>\n",
              "      <td>9.262739e+05</td>\n",
              "      <td>3.909275e+01</td>\n",
              "      <td>1.004928e+00</td>\n",
              "    </tr>\n",
              "    <tr>\n",
              "      <th>std</th>\n",
              "      <td>5.347813e+05</td>\n",
              "      <td>1.810003e+01</td>\n",
              "      <td>7.464691e-02</td>\n",
              "    </tr>\n",
              "    <tr>\n",
              "      <th>min</th>\n",
              "      <td>1.000000e+00</td>\n",
              "      <td>0.000000e+00</td>\n",
              "      <td>1.000000e+00</td>\n",
              "    </tr>\n",
              "    <tr>\n",
              "      <th>25%</th>\n",
              "      <td>4.631392e+05</td>\n",
              "      <td>2.600000e+01</td>\n",
              "      <td>1.000000e+00</td>\n",
              "    </tr>\n",
              "    <tr>\n",
              "      <th>50%</th>\n",
              "      <td>9.262775e+05</td>\n",
              "      <td>3.700000e+01</td>\n",
              "      <td>1.000000e+00</td>\n",
              "    </tr>\n",
              "    <tr>\n",
              "      <th>75%</th>\n",
              "      <td>1.389399e+06</td>\n",
              "      <td>5.200000e+01</td>\n",
              "      <td>1.000000e+00</td>\n",
              "    </tr>\n",
              "    <tr>\n",
              "      <th>max</th>\n",
              "      <td>1.852577e+06</td>\n",
              "      <td>1.000000e+02</td>\n",
              "      <td>3.000000e+00</td>\n",
              "    </tr>\n",
              "  </tbody>\n",
              "</table>\n",
              "</div>\n",
              "      <button class=\"colab-df-convert\" onclick=\"convertToInteractive('df-08fef0b6-f39d-4deb-8910-ad30b05ac227')\"\n",
              "              title=\"Convert this dataframe to an interactive table.\"\n",
              "              style=\"display:none;\">\n",
              "        \n",
              "  <svg xmlns=\"http://www.w3.org/2000/svg\" height=\"24px\"viewBox=\"0 0 24 24\"\n",
              "       width=\"24px\">\n",
              "    <path d=\"M0 0h24v24H0V0z\" fill=\"none\"/>\n",
              "    <path d=\"M18.56 5.44l.94 2.06.94-2.06 2.06-.94-2.06-.94-.94-2.06-.94 2.06-2.06.94zm-11 1L8.5 8.5l.94-2.06 2.06-.94-2.06-.94L8.5 2.5l-.94 2.06-2.06.94zm10 10l.94 2.06.94-2.06 2.06-.94-2.06-.94-.94-2.06-.94 2.06-2.06.94z\"/><path d=\"M17.41 7.96l-1.37-1.37c-.4-.4-.92-.59-1.43-.59-.52 0-1.04.2-1.43.59L10.3 9.45l-7.72 7.72c-.78.78-.78 2.05 0 2.83L4 21.41c.39.39.9.59 1.41.59.51 0 1.02-.2 1.41-.59l7.78-7.78 2.81-2.81c.8-.78.8-2.07 0-2.86zM5.41 20L4 18.59l7.72-7.72 1.47 1.35L5.41 20z\"/>\n",
              "  </svg>\n",
              "      </button>\n",
              "      \n",
              "  <style>\n",
              "    .colab-df-container {\n",
              "      display:flex;\n",
              "      flex-wrap:wrap;\n",
              "      gap: 12px;\n",
              "    }\n",
              "\n",
              "    .colab-df-convert {\n",
              "      background-color: #E8F0FE;\n",
              "      border: none;\n",
              "      border-radius: 50%;\n",
              "      cursor: pointer;\n",
              "      display: none;\n",
              "      fill: #1967D2;\n",
              "      height: 32px;\n",
              "      padding: 0 0 0 0;\n",
              "      width: 32px;\n",
              "    }\n",
              "\n",
              "    .colab-df-convert:hover {\n",
              "      background-color: #E2EBFA;\n",
              "      box-shadow: 0px 1px 2px rgba(60, 64, 67, 0.3), 0px 1px 3px 1px rgba(60, 64, 67, 0.15);\n",
              "      fill: #174EA6;\n",
              "    }\n",
              "\n",
              "    [theme=dark] .colab-df-convert {\n",
              "      background-color: #3B4455;\n",
              "      fill: #D2E3FC;\n",
              "    }\n",
              "\n",
              "    [theme=dark] .colab-df-convert:hover {\n",
              "      background-color: #434B5C;\n",
              "      box-shadow: 0px 1px 3px 1px rgba(0, 0, 0, 0.15);\n",
              "      filter: drop-shadow(0px 1px 2px rgba(0, 0, 0, 0.3));\n",
              "      fill: #FFFFFF;\n",
              "    }\n",
              "  </style>\n",
              "\n",
              "      <script>\n",
              "        const buttonEl =\n",
              "          document.querySelector('#df-08fef0b6-f39d-4deb-8910-ad30b05ac227 button.colab-df-convert');\n",
              "        buttonEl.style.display =\n",
              "          google.colab.kernel.accessAllowed ? 'block' : 'none';\n",
              "\n",
              "        async function convertToInteractive(key) {\n",
              "          const element = document.querySelector('#df-08fef0b6-f39d-4deb-8910-ad30b05ac227');\n",
              "          const dataTable =\n",
              "            await google.colab.kernel.invokeFunction('convertToInteractive',\n",
              "                                                     [key], {});\n",
              "          if (!dataTable) return;\n",
              "\n",
              "          const docLinkHtml = 'Like what you see? Visit the ' +\n",
              "            '<a target=\"_blank\" href=https://colab.research.google.com/notebooks/data_table.ipynb>data table notebook</a>'\n",
              "            + ' to learn more about interactive tables.';\n",
              "          element.innerHTML = '';\n",
              "          dataTable['output_type'] = 'display_data';\n",
              "          await google.colab.output.renderOutput(dataTable, element);\n",
              "          const docLink = document.createElement('div');\n",
              "          docLink.innerHTML = docLinkHtml;\n",
              "          element.appendChild(docLink);\n",
              "        }\n",
              "      </script>\n",
              "    </div>\n",
              "  </div>\n",
              "  "
            ],
            "text/plain": [
              "               CASO          EDAD       UNI_MED\n",
              "count  1.852426e+06  1.852426e+06  1.852426e+06\n",
              "mean   9.262739e+05  3.909275e+01  1.004928e+00\n",
              "std    5.347813e+05  1.810003e+01  7.464691e-02\n",
              "min    1.000000e+00  0.000000e+00  1.000000e+00\n",
              "25%    4.631392e+05  2.600000e+01  1.000000e+00\n",
              "50%    9.262775e+05  3.700000e+01  1.000000e+00\n",
              "75%    1.389399e+06  5.200000e+01  1.000000e+00\n",
              "max    1.852577e+06  1.000000e+02  3.000000e+00"
            ]
          },
          "execution_count": 25,
          "metadata": {},
          "output_type": "execute_result"
        }
      ],
      "source": [
        "bogota.describe(include = [np.number])"
      ]
    },
    {
      "cell_type": "code",
      "execution_count": null,
      "metadata": {
        "colab": {
          "background_save": true,
          "base_uri": "https://localhost:8080/",
          "height": 175
        },
        "id": "CX0hl7y_ZNoD",
        "outputId": "9edb2cf2-7b72-44b6-e08d-a52bd7abc8ca"
      },
      "outputs": [
        {
          "data": {
            "text/html": [
              "\n",
              "  <div id=\"df-6c3ae2fa-3a54-432a-b5f9-6bf045abdc27\">\n",
              "    <div class=\"colab-df-container\">\n",
              "      <div>\n",
              "<style scoped>\n",
              "    .dataframe tbody tr th:only-of-type {\n",
              "        vertical-align: middle;\n",
              "    }\n",
              "\n",
              "    .dataframe tbody tr th {\n",
              "        vertical-align: top;\n",
              "    }\n",
              "\n",
              "    .dataframe thead th {\n",
              "        text-align: right;\n",
              "    }\n",
              "</style>\n",
              "<table border=\"1\" class=\"dataframe\">\n",
              "  <thead>\n",
              "    <tr style=\"text-align: right;\">\n",
              "      <th></th>\n",
              "      <th>CIUDAD</th>\n",
              "      <th>LOCALIDAD_ASIS</th>\n",
              "      <th>SEXO</th>\n",
              "      <th>FUENTE_O_TIPO_DE_CONTAGIO</th>\n",
              "      <th>UBICACION</th>\n",
              "      <th>ESTADO</th>\n",
              "    </tr>\n",
              "  </thead>\n",
              "  <tbody>\n",
              "    <tr>\n",
              "      <th>count</th>\n",
              "      <td>1852426</td>\n",
              "      <td>1852426</td>\n",
              "      <td>1852426</td>\n",
              "      <td>1852426</td>\n",
              "      <td>1852426</td>\n",
              "      <td>1852426</td>\n",
              "    </tr>\n",
              "    <tr>\n",
              "      <th>unique</th>\n",
              "      <td>3</td>\n",
              "      <td>22</td>\n",
              "      <td>2</td>\n",
              "      <td>6</td>\n",
              "      <td>5</td>\n",
              "      <td>6</td>\n",
              "    </tr>\n",
              "    <tr>\n",
              "      <th>top</th>\n",
              "      <td>Bogotá</td>\n",
              "      <td>Suba</td>\n",
              "      <td>F</td>\n",
              "      <td>En estudio</td>\n",
              "      <td>Casa</td>\n",
              "      <td>Recuperado</td>\n",
              "    </tr>\n",
              "    <tr>\n",
              "      <th>freq</th>\n",
              "      <td>1762183</td>\n",
              "      <td>287150</td>\n",
              "      <td>1005321</td>\n",
              "      <td>1167368</td>\n",
              "      <td>1815063</td>\n",
              "      <td>1814879</td>\n",
              "    </tr>\n",
              "  </tbody>\n",
              "</table>\n",
              "</div>\n",
              "      <button class=\"colab-df-convert\" onclick=\"convertToInteractive('df-6c3ae2fa-3a54-432a-b5f9-6bf045abdc27')\"\n",
              "              title=\"Convert this dataframe to an interactive table.\"\n",
              "              style=\"display:none;\">\n",
              "        \n",
              "  <svg xmlns=\"http://www.w3.org/2000/svg\" height=\"24px\"viewBox=\"0 0 24 24\"\n",
              "       width=\"24px\">\n",
              "    <path d=\"M0 0h24v24H0V0z\" fill=\"none\"/>\n",
              "    <path d=\"M18.56 5.44l.94 2.06.94-2.06 2.06-.94-2.06-.94-.94-2.06-.94 2.06-2.06.94zm-11 1L8.5 8.5l.94-2.06 2.06-.94-2.06-.94L8.5 2.5l-.94 2.06-2.06.94zm10 10l.94 2.06.94-2.06 2.06-.94-2.06-.94-.94-2.06-.94 2.06-2.06.94z\"/><path d=\"M17.41 7.96l-1.37-1.37c-.4-.4-.92-.59-1.43-.59-.52 0-1.04.2-1.43.59L10.3 9.45l-7.72 7.72c-.78.78-.78 2.05 0 2.83L4 21.41c.39.39.9.59 1.41.59.51 0 1.02-.2 1.41-.59l7.78-7.78 2.81-2.81c.8-.78.8-2.07 0-2.86zM5.41 20L4 18.59l7.72-7.72 1.47 1.35L5.41 20z\"/>\n",
              "  </svg>\n",
              "      </button>\n",
              "      \n",
              "  <style>\n",
              "    .colab-df-container {\n",
              "      display:flex;\n",
              "      flex-wrap:wrap;\n",
              "      gap: 12px;\n",
              "    }\n",
              "\n",
              "    .colab-df-convert {\n",
              "      background-color: #E8F0FE;\n",
              "      border: none;\n",
              "      border-radius: 50%;\n",
              "      cursor: pointer;\n",
              "      display: none;\n",
              "      fill: #1967D2;\n",
              "      height: 32px;\n",
              "      padding: 0 0 0 0;\n",
              "      width: 32px;\n",
              "    }\n",
              "\n",
              "    .colab-df-convert:hover {\n",
              "      background-color: #E2EBFA;\n",
              "      box-shadow: 0px 1px 2px rgba(60, 64, 67, 0.3), 0px 1px 3px 1px rgba(60, 64, 67, 0.15);\n",
              "      fill: #174EA6;\n",
              "    }\n",
              "\n",
              "    [theme=dark] .colab-df-convert {\n",
              "      background-color: #3B4455;\n",
              "      fill: #D2E3FC;\n",
              "    }\n",
              "\n",
              "    [theme=dark] .colab-df-convert:hover {\n",
              "      background-color: #434B5C;\n",
              "      box-shadow: 0px 1px 3px 1px rgba(0, 0, 0, 0.15);\n",
              "      filter: drop-shadow(0px 1px 2px rgba(0, 0, 0, 0.3));\n",
              "      fill: #FFFFFF;\n",
              "    }\n",
              "  </style>\n",
              "\n",
              "      <script>\n",
              "        const buttonEl =\n",
              "          document.querySelector('#df-6c3ae2fa-3a54-432a-b5f9-6bf045abdc27 button.colab-df-convert');\n",
              "        buttonEl.style.display =\n",
              "          google.colab.kernel.accessAllowed ? 'block' : 'none';\n",
              "\n",
              "        async function convertToInteractive(key) {\n",
              "          const element = document.querySelector('#df-6c3ae2fa-3a54-432a-b5f9-6bf045abdc27');\n",
              "          const dataTable =\n",
              "            await google.colab.kernel.invokeFunction('convertToInteractive',\n",
              "                                                     [key], {});\n",
              "          if (!dataTable) return;\n",
              "\n",
              "          const docLinkHtml = 'Like what you see? Visit the ' +\n",
              "            '<a target=\"_blank\" href=https://colab.research.google.com/notebooks/data_table.ipynb>data table notebook</a>'\n",
              "            + ' to learn more about interactive tables.';\n",
              "          element.innerHTML = '';\n",
              "          dataTable['output_type'] = 'display_data';\n",
              "          await google.colab.output.renderOutput(dataTable, element);\n",
              "          const docLink = document.createElement('div');\n",
              "          docLink.innerHTML = docLinkHtml;\n",
              "          element.appendChild(docLink);\n",
              "        }\n",
              "      </script>\n",
              "    </div>\n",
              "  </div>\n",
              "  "
            ],
            "text/plain": [
              "         CIUDAD LOCALIDAD_ASIS     SEXO FUENTE_O_TIPO_DE_CONTAGIO UBICACION  \\\n",
              "count   1852426        1852426  1852426                   1852426   1852426   \n",
              "unique        3             22        2                         6         5   \n",
              "top      Bogotá           Suba        F                En estudio      Casa   \n",
              "freq    1762183         287150  1005321                   1167368   1815063   \n",
              "\n",
              "            ESTADO  \n",
              "count      1852426  \n",
              "unique           6  \n",
              "top     Recuperado  \n",
              "freq       1814879  "
            ]
          },
          "execution_count": 26,
          "metadata": {},
          "output_type": "execute_result"
        }
      ],
      "source": [
        "bogota.describe(include =['O'])"
      ]
    },
    {
      "cell_type": "code",
      "execution_count": null,
      "metadata": {
        "colab": {
          "background_save": true,
          "base_uri": "https://localhost:8080/"
        },
        "id": "ctRk3covZD5o",
        "outputId": "366b416d-ef2f-4928-c649-dbbf6c4bc375"
      },
      "outputs": [
        {
          "name": "stdout",
          "output_type": "stream",
          "text": [
            "<class 'pandas.core.frame.DataFrame'>\n",
            "Int64Index: 1852426 entries, 0 to 1852576\n",
            "Data columns (total 11 columns):\n",
            " #   Column                       Dtype         \n",
            "---  ------                       -----         \n",
            " 0   CASO                         int64         \n",
            " 1   FECHA_DE_INICIO_DE_SINTOMAS  datetime64[ns]\n",
            " 2   FECHA_DIAGNOSTICO            datetime64[ns]\n",
            " 3   CIUDAD                       object        \n",
            " 4   LOCALIDAD_ASIS               object        \n",
            " 5   EDAD                         float64       \n",
            " 6   UNI_MED                      int64         \n",
            " 7   SEXO                         object        \n",
            " 8   FUENTE_O_TIPO_DE_CONTAGIO    object        \n",
            " 9   UBICACION                    object        \n",
            " 10  ESTADO                       object        \n",
            "dtypes: datetime64[ns](2), float64(1), int64(2), object(6)\n",
            "memory usage: 169.6+ MB\n"
          ]
        }
      ],
      "source": [
        "bogota.info()"
      ]
    },
    {
      "cell_type": "markdown",
      "metadata": {
        "id": "QmweiJ-ZQI9h"
      },
      "source": [
        "# 5.Entendimiento de los datos\n",
        "\n",
        "----\n",
        "Siguiendo la metodología **CRISP - DM** es necesario **entender** los datos por lo que se usará la estadística descriptiva y visualización de datos para cumplir con esta tarea."
      ]
    },
    {
      "cell_type": "markdown",
      "metadata": {
        "id": "xZCilYBPQI9k"
      },
      "source": [
        "## Estadística exploratoria\n",
        "------\n",
        "\n",
        "El uso de la estadística descriptiva en esta sección es importante para empezar a encontrar relaciones, diferencias y valores atípicos entre las variables. Para ello se creará un nuevo **DataFrame** que contenga la información importante sobre cada variable.\n",
        "\n",
        "Las medidas encontradas en el DataFrame corresponden a :\n",
        "\n",
        "* Medidas de tenencia central\n",
        "  * Media\n",
        "  * Moda\n",
        "  * Mediana\n",
        "\n",
        "* Medidas de dispersión\n",
        "  * Desviación estandar\n",
        "  * Varianza\n",
        "\n",
        "* Kurtosis\n",
        "* Sesgo\n",
        "\n",
        "* Máximos y minimos\n",
        "\n",
        "El respectivo DataFrame contiene la siguiente estructura : \n",
        "\n",
        "|          | count | mean | std | min | 25% | 50% | 75% | max | kurtosis | skew | Range |\n",
        "|----------|-------|------|-----|-----|-----|-----|-----|-----|----------|------|-------|\n",
        "| variable |       |      |     |     |     |     |     |     |          |      |       |\n"
      ]
    },
    {
      "cell_type": "markdown",
      "metadata": {
        "id": "Etkzm6-tQI9l"
      },
      "source": [
        "#### Primer DataSet\n",
        "---\n",
        "A continuación se realiza la estadistica exploratoria para las variables númericas y aquellas que no usando conceptos de **tasas**,**proporciones** y **razones**."
      ]
    },
    {
      "cell_type": "markdown",
      "metadata": {
        "id": "zBum_NJvQI9m"
      },
      "source": [
        "* **Estadística para variables numéricas**\n",
        "---\n"
      ]
    },
    {
      "cell_type": "code",
      "execution_count": null,
      "metadata": {
        "colab": {
          "background_save": true,
          "base_uri": "https://localhost:8080/",
          "height": 285
        },
        "id": "tC25fJE46bCN",
        "outputId": "8e5a44f8-2760-47b2-da6e-3bedf5403720"
      },
      "outputs": [
        {
          "data": {
            "text/html": [
              "\n",
              "  <div id=\"df-999ba17e-6427-4b91-85f8-014e29ae8e89\">\n",
              "    <div class=\"colab-df-container\">\n",
              "      <div>\n",
              "<style scoped>\n",
              "    .dataframe tbody tr th:only-of-type {\n",
              "        vertical-align: middle;\n",
              "    }\n",
              "\n",
              "    .dataframe tbody tr th {\n",
              "        vertical-align: top;\n",
              "    }\n",
              "\n",
              "    .dataframe thead th {\n",
              "        text-align: right;\n",
              "    }\n",
              "</style>\n",
              "<table border=\"1\" class=\"dataframe\">\n",
              "  <thead>\n",
              "    <tr style=\"text-align: right;\">\n",
              "      <th></th>\n",
              "      <th>count</th>\n",
              "      <th>mean</th>\n",
              "      <th>std</th>\n",
              "      <th>min</th>\n",
              "      <th>25%</th>\n",
              "      <th>50%</th>\n",
              "      <th>75%</th>\n",
              "      <th>max</th>\n",
              "      <th>kurtosis</th>\n",
              "      <th>skew</th>\n",
              "      <th>range</th>\n",
              "    </tr>\n",
              "  </thead>\n",
              "  <tbody>\n",
              "    <tr>\n",
              "      <th>edad</th>\n",
              "      <td>3000000.0</td>\n",
              "      <td>39.362092</td>\n",
              "      <td>17.953524</td>\n",
              "      <td>1.0</td>\n",
              "      <td>26.0</td>\n",
              "      <td>37.0</td>\n",
              "      <td>51.0</td>\n",
              "      <td>114.0</td>\n",
              "      <td>-0.144565</td>\n",
              "      <td>0.434133</td>\n",
              "      <td>113</td>\n",
              "    </tr>\n",
              "    <tr>\n",
              "      <th>unidad_medida</th>\n",
              "      <td>3000000.0</td>\n",
              "      <td>1.003608</td>\n",
              "      <td>0.065105</td>\n",
              "      <td>1.0</td>\n",
              "      <td>1.0</td>\n",
              "      <td>1.0</td>\n",
              "      <td>1.0</td>\n",
              "      <td>3.0</td>\n",
              "      <td>444.289118</td>\n",
              "      <td>19.907978</td>\n",
              "      <td>2</td>\n",
              "    </tr>\n",
              "    <tr>\n",
              "      <th>per_etn_</th>\n",
              "      <td>3000000.0</td>\n",
              "      <td>5.904891</td>\n",
              "      <td>0.612806</td>\n",
              "      <td>1.0</td>\n",
              "      <td>6.0</td>\n",
              "      <td>6.0</td>\n",
              "      <td>6.0</td>\n",
              "      <td>6.0</td>\n",
              "      <td>56.448799</td>\n",
              "      <td>-7.486857</td>\n",
              "      <td>5</td>\n",
              "    </tr>\n",
              "    <tr>\n",
              "      <th>fecha_inicio_sintomas</th>\n",
              "      <td>3000000.0</td>\n",
              "      <td>2021-02-19 10:08:53.376001024</td>\n",
              "      <td>124 days 22:39:23.520554410</td>\n",
              "      <td>2020-02-27 00:00:00</td>\n",
              "      <td>2020-11-20 00:00:00</td>\n",
              "      <td>2021-03-04 00:00:00</td>\n",
              "      <td>2021-06-14 00:00:00</td>\n",
              "      <td>2021-12-29 00:00:00</td>\n",
              "      <td>NaN</td>\n",
              "      <td>NaN</td>\n",
              "      <td>671 days 00:00:00</td>\n",
              "    </tr>\n",
              "    <tr>\n",
              "      <th>fecha_diagnostico</th>\n",
              "      <td>3000000.0</td>\n",
              "      <td>2021-03-01 01:54:34.300800768</td>\n",
              "      <td>124 days 05:24:53.390960168</td>\n",
              "      <td>2020-03-06 00:00:00</td>\n",
              "      <td>2020-11-28 00:00:00</td>\n",
              "      <td>2021-03-13 00:00:00</td>\n",
              "      <td>2021-06-24 00:00:00</td>\n",
              "      <td>2021-12-30 00:00:00</td>\n",
              "      <td>NaN</td>\n",
              "      <td>NaN</td>\n",
              "      <td>664 days 00:00:00</td>\n",
              "    </tr>\n",
              "  </tbody>\n",
              "</table>\n",
              "</div>\n",
              "      <button class=\"colab-df-convert\" onclick=\"convertToInteractive('df-999ba17e-6427-4b91-85f8-014e29ae8e89')\"\n",
              "              title=\"Convert this dataframe to an interactive table.\"\n",
              "              style=\"display:none;\">\n",
              "        \n",
              "  <svg xmlns=\"http://www.w3.org/2000/svg\" height=\"24px\"viewBox=\"0 0 24 24\"\n",
              "       width=\"24px\">\n",
              "    <path d=\"M0 0h24v24H0V0z\" fill=\"none\"/>\n",
              "    <path d=\"M18.56 5.44l.94 2.06.94-2.06 2.06-.94-2.06-.94-.94-2.06-.94 2.06-2.06.94zm-11 1L8.5 8.5l.94-2.06 2.06-.94-2.06-.94L8.5 2.5l-.94 2.06-2.06.94zm10 10l.94 2.06.94-2.06 2.06-.94-2.06-.94-.94-2.06-.94 2.06-2.06.94z\"/><path d=\"M17.41 7.96l-1.37-1.37c-.4-.4-.92-.59-1.43-.59-.52 0-1.04.2-1.43.59L10.3 9.45l-7.72 7.72c-.78.78-.78 2.05 0 2.83L4 21.41c.39.39.9.59 1.41.59.51 0 1.02-.2 1.41-.59l7.78-7.78 2.81-2.81c.8-.78.8-2.07 0-2.86zM5.41 20L4 18.59l7.72-7.72 1.47 1.35L5.41 20z\"/>\n",
              "  </svg>\n",
              "      </button>\n",
              "      \n",
              "  <style>\n",
              "    .colab-df-container {\n",
              "      display:flex;\n",
              "      flex-wrap:wrap;\n",
              "      gap: 12px;\n",
              "    }\n",
              "\n",
              "    .colab-df-convert {\n",
              "      background-color: #E8F0FE;\n",
              "      border: none;\n",
              "      border-radius: 50%;\n",
              "      cursor: pointer;\n",
              "      display: none;\n",
              "      fill: #1967D2;\n",
              "      height: 32px;\n",
              "      padding: 0 0 0 0;\n",
              "      width: 32px;\n",
              "    }\n",
              "\n",
              "    .colab-df-convert:hover {\n",
              "      background-color: #E2EBFA;\n",
              "      box-shadow: 0px 1px 2px rgba(60, 64, 67, 0.3), 0px 1px 3px 1px rgba(60, 64, 67, 0.15);\n",
              "      fill: #174EA6;\n",
              "    }\n",
              "\n",
              "    [theme=dark] .colab-df-convert {\n",
              "      background-color: #3B4455;\n",
              "      fill: #D2E3FC;\n",
              "    }\n",
              "\n",
              "    [theme=dark] .colab-df-convert:hover {\n",
              "      background-color: #434B5C;\n",
              "      box-shadow: 0px 1px 3px 1px rgba(0, 0, 0, 0.15);\n",
              "      filter: drop-shadow(0px 1px 2px rgba(0, 0, 0, 0.3));\n",
              "      fill: #FFFFFF;\n",
              "    }\n",
              "  </style>\n",
              "\n",
              "      <script>\n",
              "        const buttonEl =\n",
              "          document.querySelector('#df-999ba17e-6427-4b91-85f8-014e29ae8e89 button.colab-df-convert');\n",
              "        buttonEl.style.display =\n",
              "          google.colab.kernel.accessAllowed ? 'block' : 'none';\n",
              "\n",
              "        async function convertToInteractive(key) {\n",
              "          const element = document.querySelector('#df-999ba17e-6427-4b91-85f8-014e29ae8e89');\n",
              "          const dataTable =\n",
              "            await google.colab.kernel.invokeFunction('convertToInteractive',\n",
              "                                                     [key], {});\n",
              "          if (!dataTable) return;\n",
              "\n",
              "          const docLinkHtml = 'Like what you see? Visit the ' +\n",
              "            '<a target=\"_blank\" href=https://colab.research.google.com/notebooks/data_table.ipynb>data table notebook</a>'\n",
              "            + ' to learn more about interactive tables.';\n",
              "          element.innerHTML = '';\n",
              "          dataTable['output_type'] = 'display_data';\n",
              "          await google.colab.output.renderOutput(dataTable, element);\n",
              "          const docLink = document.createElement('div');\n",
              "          docLink.innerHTML = docLinkHtml;\n",
              "          element.appendChild(docLink);\n",
              "        }\n",
              "      </script>\n",
              "    </div>\n",
              "  </div>\n",
              "  "
            ],
            "text/plain": [
              "                           count                           mean  \\\n",
              "edad                   3000000.0                      39.362092   \n",
              "unidad_medida          3000000.0                       1.003608   \n",
              "per_etn_               3000000.0                       5.904891   \n",
              "fecha_inicio_sintomas  3000000.0  2021-02-19 10:08:53.376001024   \n",
              "fecha_diagnostico      3000000.0  2021-03-01 01:54:34.300800768   \n",
              "\n",
              "                                               std                  min  \\\n",
              "edad                                     17.953524                  1.0   \n",
              "unidad_medida                             0.065105                  1.0   \n",
              "per_etn_                                  0.612806                  1.0   \n",
              "fecha_inicio_sintomas  124 days 22:39:23.520554410  2020-02-27 00:00:00   \n",
              "fecha_diagnostico      124 days 05:24:53.390960168  2020-03-06 00:00:00   \n",
              "\n",
              "                                       25%                  50%  \\\n",
              "edad                                  26.0                 37.0   \n",
              "unidad_medida                          1.0                  1.0   \n",
              "per_etn_                               6.0                  6.0   \n",
              "fecha_inicio_sintomas  2020-11-20 00:00:00  2021-03-04 00:00:00   \n",
              "fecha_diagnostico      2020-11-28 00:00:00  2021-03-13 00:00:00   \n",
              "\n",
              "                                       75%                  max    kurtosis  \\\n",
              "edad                                  51.0                114.0   -0.144565   \n",
              "unidad_medida                          1.0                  3.0  444.289118   \n",
              "per_etn_                               6.0                  6.0   56.448799   \n",
              "fecha_inicio_sintomas  2021-06-14 00:00:00  2021-12-29 00:00:00         NaN   \n",
              "fecha_diagnostico      2021-06-24 00:00:00  2021-12-30 00:00:00         NaN   \n",
              "\n",
              "                            skew              range  \n",
              "edad                    0.434133                113  \n",
              "unidad_medida          19.907978                  2  \n",
              "per_etn_               -7.486857                  5  \n",
              "fecha_inicio_sintomas        NaN  671 days 00:00:00  \n",
              "fecha_diagnostico            NaN  664 days 00:00:00  "
            ]
          },
          "execution_count": 28,
          "metadata": {},
          "output_type": "execute_result"
        }
      ],
      "source": [
        "# Create DataFrame structure\n",
        "estadistica_covid = covid.describe().drop(columns = ['departamento']).T\n",
        "\n",
        "kurtosis = [covid.edad.kurtosis(),covid.unidad_medida.kurtosis(),covid.per_etn_.kurtosis()]\n",
        "\n",
        "skew = [covid.edad.skew(),covid.unidad_medida.skew(),covid.per_etn_.skew()]\n",
        "\n",
        "range = [covid.edad.max() - covid.edad.min(),\n",
        "        covid.unidad_medida.max() - covid.unidad_medida.min(),\n",
        "        covid.per_etn_.max() - covid.per_etn_.min()]\n",
        "\n",
        "estadistica_covid = estadistica_covid.assign(kurtosis = kurtosis,skew = skew, range = range)\n",
        "\n",
        "columns = [covid.fecha_inicio_sintomas,covid.fecha_diagnostico]\n",
        "\n",
        "for column in columns :\n",
        "  data = [column.value_counts().sum(),column.mean(),\n",
        "            column.std(),column.min(),\n",
        "            column.quantile(0.25),column.quantile(0.50),column.quantile(0.75),\n",
        "            column.max(),np.nan,np.nan,column.max() - column.min()]\n",
        "  columns_name = ['count','mean','std','min','25%','50%','75%','max','kurtosis','skew','range']\n",
        "\n",
        "  temp_series = pd.DataFrame(data = [data],index = [column.name],columns=columns_name)\n",
        "\n",
        "  estadistica_covid = estadistica_covid.append(temp_series,ignore_index= False)\n",
        "\n",
        "estadistica_covid"
      ]
    },
    {
      "cell_type": "markdown",
      "metadata": {
        "id": "fi1fRWYNs7-T"
      },
      "source": [
        "* **Interpretación de resultados**\n",
        "---\n",
        "Dado el DataFrame anterior se pueden realizar las siguientes interpretaciones: \n",
        "\n",
        "* Intepretación para la variable edad : \n",
        "\n",
        "  * Se tiene una media de edad de 39.36 años de personas diagnosticadas por contagio de covid-19.\n",
        "  * Dado una desviación estándar de 17 años, nos damos cuenta que los datos estan alejados unos de otro, y al tratarse de una enfermedad catalogada como **Pandemía** nos damos cuenta que dicha desviación es correcta puesto que afecto a toda la población de todas las edades. Este hecho también se puede comprobar debido al Rango de 99 años que tenemos, pues se tienen valores de edades muy pequeña, incluso de dias o meses hasta años muy grandes como el máximo de 100 años que se puede evidenciar.\n",
        "  \n",
        "  * El 25% o menos de personas diagnosticas con covid-19 tienen una edad de 26 años y el 50% o menos tiene una edad máxima de 37 años. A su vez, nos damos cuenta que el 75% o menos tienen una edad de 51 años para el contagio de covid-19. Esto se puede apreciar debido a las medidas tomadas por las familias y gobierno de permanecer en cuarentena aquellos individuos de una edad superior o igual a los 60 años. Estos percentiles nos indican que la población adulta-vieja no tuvo tantos contagios positivos respecto a la adulta-joven.\n",
        "\n",
        "  * Para complementar el análisis anterior en donde la mayoria de contagios se econtraban en edades jovenes o adultas-jovenes podemos darnos cuenta que la dispersión de los datos se encuentra hacia la izquierda, es decir, que hay mayor cantidad de contagio en esas edades que en edades avanzadas. \n",
        "\n",
        "\n",
        "Antes de realizar una interpretación de los datos recordemos que significan los valore de 1,2 y 3 en la siguiente tabla\n",
        "\n",
        "| Valor |  Unidad Medida |\n",
        "|-------|----------------|\n",
        "| 1     | Años           |\n",
        "| 2     | Días           |\n",
        "| 3     | Meses          |\n",
        "\n",
        "* Interpretación para la variable unidad_medida: \n",
        "\n",
        "  * El promedio de la población es de caracter 'Años' es decir que el promedio de personas que fueron diagnosticadas con Covid-19 tienen por lo menos un año de vida. \n",
        "  \n",
        "  * Podemos afirmar que la mayoria de pacientes su edad es media en años por lo que mínimo tienen un año de vida, puesto que, los datos se encuentran muy cercanos a la media que es 1, lo cuál lo podemos confirmar por medio del valor de la kurtosis.\n",
        "\n",
        "  * Hay un sesgo hacia la izquierda el cuál nos indica nuevamente que la frecuencia de los datos se encuentran dirigidos hacia la unidad de media de años. \n",
        "\n",
        "\n",
        "Antes de realizar un análisis recordemos el valor que representa cada comunidad por medio de la siguiente tabla \n",
        "\n",
        "| Valor |  Grupo Étnico |\n",
        "|-------|---------------|\n",
        "| 1     | Indígena      |\n",
        "| 2     | ROM           |\n",
        "| 3     | Raizal        |\n",
        "| 4     | Palenquero    |\n",
        "| 5     | Negro         |\n",
        "| 6     | Otro          |\n",
        "\n",
        "* Interpretación para la variable per_etn:\n",
        "\n",
        "  * La media de los datos se encuentra en la categoria de 'OTRO' con una desviación del 0.61, en donde, gracias a la kurtosis podemos darnos cuenta que la mayoria de los datos se encuentran cercanos a la media. Es decir, que la mayoria de los pacientes se identifican como pertenencientes a 'OTRA' étnia. Asi mismo, podemos detallar que la distribución de los datos se encuentra sesgada hacia la derecha confirmando así que la mayoria de las personas se identican como 'OTRO'.\n",
        "\n",
        "  * El dato más representado fue el 6 que corresponde al grupo étnico 'OTRO' puesto que el valor de la moda y el percentil 50 nos lo indican.\n",
        "\n",
        "\n",
        "* Interpretación para la variable fecha_inicio_sintomas : \n",
        "\n",
        "  * Según los datos obtenidos en la base de datos se presenta que el 75% de inicio de sintomas en los pacientes se dierón entre la fecha 2020-02-27 y 2021-06-14. Lo que significa que despues del mes de Junio del 2021 los casos que presentaban sintomas empezaron a disminuir hasta la fecha máxima que se tiene que es 2021-12-29.\n",
        "\n",
        "  * Hay una gran desviación (124 días) entre las fechas de inicio de sintomas, lo que significa que a lo largo de los años de estudio hubo incrementos (picos) y valles de contagios que se expresan por medio del inicio de sintomas. Los cuáles en siguientes secciones se detallarán por medio de otras herramientas matemáticas y visuales\n",
        "\n",
        "  * En los 671 días que se tienen registros se sabe que el dia que hubo el dia 4 del mes de Marzo del 2021 hubo mayor expresión de sintomas en las personas contagiadas por covid-19 puesto que se encuentra en el percentil 50 o también conocido como la moda, representado así el dato con mayor número de repeticiones\n",
        "\n",
        "* Interpretación para la variable fecha_diagnostico\n",
        "\n",
        "* El día que hubo un mayor diagnostico de los 671 días de estudio corresponde al 2021-03-13 el cuál es muy similar al día en el cuál las personas sintieron mayor sintomas, hecho que comprueba la veracidad de la afirmación anterior.\n",
        "\n",
        "* Con una desviación de 124 días podemos y la media de diagnostico para el día 2021-03-01 podemos afirmar que el diagnostico de la enfermedad se encuentra muy distante entre las fechas, por lo que se puede decir que en el intervalo de tiempo de estudio hubo picos y valles de diagnostico. En futuras secciones se hará hincapié en esta afirmación.\n",
        "\n",
        "\n"
      ]
    },
    {
      "cell_type": "markdown",
      "metadata": {
        "id": "frByHnMm7pZw"
      },
      "source": [
        "\n",
        "* **Estadística para variables no numéricas**\n",
        "---\n",
        "\n",
        "Debido a qué no se pueden realizar medidas de resumen como las anteriores para variables cualitativas puesto que no tienen un significado lógico y matemático. Usaremos como medidas de resumen las **tasas**, **proporciones** y **razones** entre diferentes variables cualitativas. \n",
        "\n",
        "Antes de realizar dicho procedimiento mencionado anteriormente es importante recordar los siguientes conceptos:\n",
        "\n",
        "* **Razones**: Comparación hecha por medio de la división de dos conjuntos diferentes. $Razon = \\frac{Conjunto A}{Conjunto B}$\n",
        "\n",
        "* **Proporciones**: Comparación realizada por medio de la división entre un subconjunto y el mismo conjunto de datos. $Proporción = \\frac{SubConjunto A}{Conjunto A}$\n",
        "\n",
        "* **Tasas**: Comparación hecha por medio de la división de la frecuencia de un subconjunto de datos que representa un evento determinado por un conjunto de posibles en los que se puede dar dicho caso. $Tasas = \\frac{FrecuenciaEventoA}{PoblacionDondePuedeOcurrir A}$\n"
      ]
    },
    {
      "cell_type": "markdown",
      "metadata": {
        "id": "OTczTGTKruj-"
      },
      "source": [
        "* **Razón para el sexo**\n",
        "-----\n",
        "En esta parte se realizará una proporción para el sexo respecto a la edad en intervalos de 10 años , estado y tipo o fuente de contagio.\n",
        "\n",
        "Esto se hace con la finalidad de entender la proporción y si existe alguna incidencia respecto al genero y su relación con el contagio de covid-19.\n",
        "\n",
        "* **Sexo/Estado**"
      ]
    },
    {
      "cell_type": "code",
      "execution_count": null,
      "metadata": {
        "colab": {
          "background_save": true,
          "base_uri": "https://localhost:8080/"
        },
        "id": "friUavbDPtzD",
        "outputId": "028962e3-5b7b-4ea2-b5a3-9a3b5257f2d1"
      },
      "outputs": [
        {
          "name": "stdout",
          "output_type": "stream",
          "text": [
            "Razón Hombres vs Estado leve  0.4885676094112622 \n",
            "\n",
            "Razón Hombres vs Estado Fallecido  19.37943151328603 \n",
            "\n",
            "Razón Mujeres vs Estado leve  0.5415166892541262 \n",
            "\n",
            "Razón Mujeres vs Estado Fallecido  21.479699821581793 \n",
            "\n"
          ]
        }
      ],
      "source": [
        "copia = covid.copy()\n",
        "\n",
        "# Get female and male amount\n",
        "\n",
        "hombres = int(covid.sexo.where(covid.sexo == 'M').value_counts())\n",
        "mujeres = int(covid.sexo.where(covid.sexo == 'F').value_counts())\n",
        "\n",
        "# Create intervals for the age\n",
        "\n",
        "# Razon hombres y mujeres respecto al estado\n",
        "leve = int(covid.estado.where(covid.estado == 'leve').value_counts())\n",
        "fallecido = int(covid.estado.where(covid.estado == 'fallecido').value_counts())\n",
        "\n",
        "print('Razón Hombres vs Estado leve  {} \\n'.format(hombres / leve))\n",
        "print('Razón Hombres vs Estado Fallecido  {} \\n'.format(hombres / fallecido))\n",
        "print('Razón Mujeres vs Estado leve  {} \\n'.format(mujeres / leve))\n",
        "print('Razón Mujeres vs Estado Fallecido  {} \\n'.format(mujeres / fallecido))\n"
      ]
    },
    {
      "cell_type": "markdown",
      "metadata": {
        "id": "YkITFvC2UdnN"
      },
      "source": [
        "* **Interpretación Razón sexo/estado**\n",
        "\n",
        "Dados los valores anteriores podemos realizar las siguientes interpretaciones : \n",
        "\n",
        "  > Existen 0.5 hombres que se diagnositicaron con covid - 19 por cada paciente en estado leve\n",
        "\n",
        "  > Existen 19 hombres que tuvieron covid-19 por cada persona fallecida\n",
        "\n",
        "  > Existen 0.5 mujeres que tuvieron covid-19 por cada persona persona en estado leve\n",
        "\n",
        "  > Existen 21 mujeres que tuvieron covid-19 por cada persona fallecida\n",
        "\n"
      ]
    },
    {
      "cell_type": "markdown",
      "metadata": {
        "id": "-n_9PTW8XD_F"
      },
      "source": [
        "* **Razón sexo/fuente contagio**"
      ]
    },
    {
      "cell_type": "code",
      "execution_count": null,
      "metadata": {
        "colab": {
          "background_save": true,
          "base_uri": "https://localhost:8080/"
        },
        "id": "nmcL82e1W-Lo",
        "outputId": "9e5d61f0-fd85-406e-a0ac-ca51a6f9de1f"
      },
      "outputs": [
        {
          "name": "stdout",
          "output_type": "stream",
          "text": [
            "Razón Hombre / comunitaria 0.71136192520705 \n",
            "\n",
            "Razón Hombre / relacionado 1.4266266286338776 \n",
            "\n",
            "Razón Hombre / importado 599.6190476190476 \n",
            "\n",
            "Razón Mujeres / comunitaria 0.788456596751793 \n",
            "\n",
            "Razón Mujeres / relacionado 1.5812389398276494 \n",
            "\n",
            "Razón Mujeres / importado 664.6034555415087 \n",
            "\n"
          ]
        }
      ],
      "source": [
        "comunitaria = int(covid.fuente_tipo_contagio.where(covid.fuente_tipo_contagio == 'Comunitaria').value_counts())\n",
        "relacionado = int(covid.fuente_tipo_contagio.where(covid.fuente_tipo_contagio == 'Relacionado').value_counts())\n",
        "importado = int(covid.fuente_tipo_contagio.where(covid.fuente_tipo_contagio == 'Importado').value_counts())\n",
        "\n",
        "print('Razón Hombre / comunitaria {} \\n'.format(hombres / comunitaria))\n",
        "print('Razón Hombre / relacionado {} \\n'.format(hombres / relacionado))\n",
        "print('Razón Hombre / importado {} \\n'.format(hombres / importado))\n",
        "\n",
        "print('Razón Mujeres / comunitaria {} \\n'.format(mujeres / comunitaria))\n",
        "print('Razón Mujeres / relacionado {} \\n'.format(mujeres / relacionado))\n",
        "print('Razón Mujeres / importado {} \\n'.format(mujeres / importado))\n"
      ]
    },
    {
      "cell_type": "markdown",
      "metadata": {
        "id": "g4NqxnJhZvxk"
      },
      "source": [
        "* **Interpretacion Razón sexo/fuente o tipo de contagio**\n",
        "\n",
        "> Por cada 0.71 hombres hay un paciente que se contagió de manera comunitaria\n",
        "\n",
        "> Por cada 1.42 hombres hay un paciente que su tipo de contagio fue relacional\n",
        "\n",
        "> Por cada 600 hombres hay un paciente que se contagio de manera externa ( importado fuera del país )\n",
        "\n",
        "> Por cada 0.78 mujeres hay un paciente que se contagió de manera comunitaria\n",
        "\n",
        "> Por cada 1.58 mujeres hay un paciente que su tipo de contagio fue relacional\n",
        "\n",
        "> Por cada 664 hombres hay un paciente que se contagio de manera externa ( importado fuera del país )\n"
      ]
    },
    {
      "cell_type": "markdown",
      "metadata": {
        "id": "_NnVJL_tbnwY"
      },
      "source": [
        "* **Razón sexo/edad**\n",
        "\n",
        "Acá se realizarán 11 intervalos para la edad.\n"
      ]
    },
    {
      "cell_type": "code",
      "execution_count": null,
      "metadata": {
        "colab": {
          "background_save": true,
          "base_uri": "https://localhost:8080/"
        },
        "id": "z38hPLdEbzqP",
        "outputId": "968d49c8-5f3e-4ecc-88df-bc39f34f6ed5"
      },
      "outputs": [
        {
          "name": "stdout",
          "output_type": "stream",
          "text": [
            "Razón hombres vs Intervalo 1 es 12.247656592957298\n",
            "Razón mujeres vs Intervalo 1 es 13.575010544255747\n",
            "\n",
            "Razón hombres vs Intervalo 2 es 5.363084356967054\n",
            "Razón mujeres vs Intervalo 2 es 5.9443148281463785\n",
            "\n",
            "Razón hombres vs Intervalo 3 es 2.118325224651188\n",
            "Razón mujeres vs Intervalo 3 es 2.3479011713423095\n",
            "\n",
            "Razón hombres vs Intervalo 4 es 2.1421671945946597\n",
            "Razón mujeres vs Intervalo 4 es 2.374327042358694\n",
            "\n",
            "Razón hombres vs Intervalo 5 es 2.884180441678744\n",
            "Razón mujeres vs Intervalo 5 es 3.196756833453263\n",
            "\n",
            "Razón hombres vs Intervalo 6 es 3.6457963944204734\n",
            "Razón mujeres vs Intervalo 6 es 4.04091379610745\n",
            "\n",
            "Razón hombres vs Intervalo 7 es 6.3310166852057845\n",
            "Razón mujeres vs Intervalo 7 es 7.017147942157953\n",
            "\n",
            "Razón hombres vs Intervalo 8 es 12.532663936231119\n",
            "Razón mujeres vs Intervalo 8 es 13.890905888052142\n",
            "\n",
            "Razón hombres vs Intervalo 9 es 27.926205055738734\n",
            "Razón mujeres vs Intervalo 9 es 30.95273983356885\n",
            "\n",
            "Razón hombres vs Intervalo 10 es 150.97039787798408\n",
            "Razón mujeres vs Intervalo 10 es 167.33198938992044\n",
            "\n"
          ]
        }
      ],
      "source": [
        "intervalos = []\n",
        "for i in np.arange(10,112,10):\n",
        "  intervalos.append(covid.edad.where((i-9 <= covid.edad)  & (covid.edad <= i)).value_counts().sum())\n",
        "\n",
        "for i in np.arange(1,11):\n",
        "  print('Razón hombres vs Intervalo {} es {}'.format(i,hombres/intervalos[i-1]))\n",
        "  print('Razón mujeres vs Intervalo {} es {}\\n'.format(i,mujeres/intervalos[i-1]))"
      ]
    },
    {
      "cell_type": "markdown",
      "metadata": {
        "id": "wCk8HtDujoUo"
      },
      "source": [
        "* **Interpretación sexo vs edad**\n",
        "\n",
        "> Por cada 12 hombres hay una persona contagiada entre 1 y 10 años\n",
        "> Por cada 13 mujeres hay una persona contagiada entre 1 y 10 años\n",
        "\n",
        "Como nos damos cuenta la interpretación es la misma de manera iterada por lo que se invita a realizar dichas interpretaciones por cuenta propia dada la información anterior. Sin embargo nos damos cuenta que hay unas interpretaciones importantes que realizar. \n",
        "\n",
        "> Por cada 2 hombres y 2 mujeres hay una persona contagiada en los intervalos de 31 a 51 años, información que anteriormente habiamos enunciado."
      ]
    },
    {
      "cell_type": "markdown",
      "metadata": {
        "id": "dY4RVda1lbUW"
      },
      "source": [
        "* **Proporción Estado vs tipo contagio**\n"
      ]
    },
    {
      "cell_type": "code",
      "execution_count": null,
      "metadata": {
        "colab": {
          "background_save": true,
          "base_uri": "https://localhost:8080/"
        },
        "id": "h6VI92TGmOTB",
        "outputId": "e34d70f7-0214-45be-da5d-b76b4f180e74"
      },
      "outputs": [
        {
          "name": "stdout",
          "output_type": "stream",
          "text": [
            "Razón estado leve vs tipo contagio comunitaria es 1.4560153221460204\n",
            "Razón estado fallecido vs tipo contagio comunitaria es 0.036707058445928045 \n",
            "\n",
            "Razón estado leve vs tipo contagio importado es 1227.30004214075\n",
            "Razón estado fallecido vs tipo contagio importado es 30.941002949852507 \n",
            "\n",
            "Razón estado leve vs tipo contagio relacionado es 2.9200188492908956\n",
            "Razón estado fallecido vs tipo contagio relacionado es 0.07361550454438356 \n",
            "\n"
          ]
        }
      ],
      "source": [
        "tipo_contagio = [comunitaria,importado,relacionado]\n",
        "tipo = ['comunitaria','importado','relacionado']\n",
        "for i in np.arange(3): \n",
        "  print(\"Razón estado leve vs tipo contagio {} es {}\".format(str(tipo[i]),leve/tipo_contagio[i]))\n",
        "  print(\"Razón estado fallecido vs tipo contagio {} es {} \\n\".format(str(tipo[i]),fallecido/tipo_contagio[i]))"
      ]
    },
    {
      "cell_type": "markdown",
      "metadata": {
        "id": "CRrWm_ASmxHS"
      },
      "source": [
        "* **Interpretación Estado vs Tipo contagio**\n",
        "\n",
        "Se pueden realizar las siguientes interpretaciones importantes\n",
        "\n",
        "> Por cada paciente en estado leve hay uno que se contagio de manera comunitaria\n",
        "> Por cada 1227 pacientes en estado leve hay uno que se contagio de manera importada\n",
        "> Por cada 2 pacientes en estado leve hay uno que se contagio de manera relacionada\n",
        "> Por cada 30 fallecidos hay un contagio por importado ( fuera del país )"
      ]
    },
    {
      "cell_type": "markdown",
      "metadata": {
        "id": "zHxynbfBnqkN"
      },
      "source": [
        "* **Proporción para el estado**\n",
        "---\n",
        "A continuación se realizará una medida de resumen para la variable estado usando la proporción.\n"
      ]
    },
    {
      "cell_type": "code",
      "execution_count": null,
      "metadata": {
        "colab": {
          "background_save": true,
          "base_uri": "https://localhost:8080/"
        },
        "id": "iRZWMK_wnqTG",
        "outputId": "ac4fd09b-b4fa-4f59-ceb7-f7b3e32e8900"
      },
      "outputs": [
        {
          "name": "stdout",
          "output_type": "stream",
          "text": [
            "Proporción leve : 0.975409319962516\n",
            "Proporcion Fallecido : 0.024590680037484016\n"
          ]
        }
      ],
      "source": [
        "print(\"Proporción leve : {}\".format(leve/(leve+fallecido)))\n",
        "print(\"Proporcion Fallecido : {}\".format(fallecido/(leve+fallecido)))\n"
      ]
    },
    {
      "cell_type": "markdown",
      "metadata": {
        "id": "ffAliwpAoBr6"
      },
      "source": [
        "Al momento de realizar una interpretación nos damos cuenta que el porcentaje de casos de fallecimiento en nuestro dataset del país corresponde unicamente al 2% del total de casos. Sin embargo, es un número bastante grande de personas pues equivale a 73423 muertes en tan solo 641 dias debido a una enfermedad."
      ]
    },
    {
      "cell_type": "markdown",
      "metadata": {
        "id": "ZsWMDeYUokiJ"
      },
      "source": [
        "* **Proporción para el sexo**\n",
        "----"
      ]
    },
    {
      "cell_type": "code",
      "execution_count": null,
      "metadata": {
        "colab": {
          "background_save": true,
          "base_uri": "https://localhost:8080/"
        },
        "id": "MK7yUv5Koo1H",
        "outputId": "601606dd-316c-4df5-bb19-0e1c53b42555"
      },
      "outputs": [
        {
          "name": "stdout",
          "output_type": "stream",
          "text": [
            "Proporción hombres : 0.47429866666666665\n",
            "Proporción mujeres : 0.5257013333333334\n"
          ]
        }
      ],
      "source": [
        "print(\"Proporción hombres : {}\".format(hombres/(hombres+mujeres)))\n",
        "print(\"Proporción mujeres : {}\".format(mujeres/(hombres+mujeres)))"
      ]
    },
    {
      "cell_type": "markdown",
      "metadata": {
        "id": "kn9SmBz6oyJF"
      },
      "source": [
        "La interpretación nos indica que hay mayor contagio de covid-19 en nuestro conjunto de datos por parte de mujeres con un porcentaje del 52% de toda la población del dataset.\n",
        "\n",
        "Esta información también se puede evidenciar en la sección de **RAZONES** en donde cada razón que de mujeres era mucho mayor que a la razón de hombres."
      ]
    },
    {
      "cell_type": "markdown",
      "metadata": {
        "id": "bpQFNQU3pbRS"
      },
      "source": [
        "* **Proporción para tipo de contagio**\n",
        "----"
      ]
    },
    {
      "cell_type": "code",
      "execution_count": null,
      "metadata": {
        "colab": {
          "background_save": true,
          "base_uri": "https://localhost:8080/"
        },
        "id": "-GcKfAk_pfBS",
        "outputId": "8e35c87d-7ca3-4266-c572-2e76dc0c5550"
      },
      "outputs": [
        {
          "name": "stdout",
          "output_type": "stream",
          "text": [
            "Proporción para el tipo de contagio comunitario 0.6667473333333334\n",
            "\n",
            "Proporción para el tipo de contagio relacionado 0.33246166666666666\n",
            "\n",
            "Proporción para el tipo de contagio importado 0.000791\n"
          ]
        }
      ],
      "source": [
        "print(\"Proporción para el tipo de contagio comunitario {}\\n\".format(comunitaria/(comunitaria+importado+relacionado)))\n",
        "print(\"Proporción para el tipo de contagio relacionado {}\\n\".format(relacionado/(comunitaria+importado+relacionado)))\n",
        "print(\"Proporción para el tipo de contagio importado {}\".format(importado/(comunitaria+importado+relacionado)))"
      ]
    },
    {
      "cell_type": "markdown",
      "metadata": {
        "id": "AGQAbpoLr660"
      },
      "source": [
        "La interpretación que se puede llegar a tener es que un 66,66% de los datos obtenidos corresponden a un tipo de contagio comunitario y que el tipo de contagio proveniente de otros paises (importado) no tiene mayor incidencia en el contagio de Covid-19."
      ]
    },
    {
      "cell_type": "markdown",
      "metadata": {
        "id": "K33I887OJHz9"
      },
      "source": [
        "#### **Segundo DataSet**\n",
        "---\n",
        "A continuación se realiza la estadistica exploratoria para las variables númericas y aquellas que no haciendo uso de **razones** y **proporciones**."
      ]
    },
    {
      "cell_type": "code",
      "execution_count": null,
      "metadata": {
        "colab": {
          "background_save": true,
          "base_uri": "https://localhost:8080/",
          "height": 288
        },
        "id": "-yQsSDxuJWBP",
        "outputId": "042f1dab-c66f-4fdf-aa31-3f7ef7d10a1c"
      },
      "outputs": [
        {
          "data": {
            "text/html": [
              "\n",
              "  <div id=\"df-dfd39456-6062-474d-b710-424bea6d6297\">\n",
              "    <div class=\"colab-df-container\">\n",
              "      <div>\n",
              "<style scoped>\n",
              "    .dataframe tbody tr th:only-of-type {\n",
              "        vertical-align: middle;\n",
              "    }\n",
              "\n",
              "    .dataframe tbody tr th {\n",
              "        vertical-align: top;\n",
              "    }\n",
              "\n",
              "    .dataframe thead th {\n",
              "        text-align: right;\n",
              "    }\n",
              "</style>\n",
              "<table border=\"1\" class=\"dataframe\">\n",
              "  <thead>\n",
              "    <tr style=\"text-align: right;\">\n",
              "      <th></th>\n",
              "      <th>count</th>\n",
              "      <th>mean</th>\n",
              "      <th>std</th>\n",
              "      <th>min</th>\n",
              "      <th>25%</th>\n",
              "      <th>50%</th>\n",
              "      <th>75%</th>\n",
              "      <th>max</th>\n",
              "      <th>kurtosis</th>\n",
              "      <th>skew</th>\n",
              "      <th>range</th>\n",
              "    </tr>\n",
              "  </thead>\n",
              "  <tbody>\n",
              "    <tr>\n",
              "      <th>EDAD</th>\n",
              "      <td>1852426.0</td>\n",
              "      <td>39.09275</td>\n",
              "      <td>18.10003</td>\n",
              "      <td>0.0</td>\n",
              "      <td>26.0</td>\n",
              "      <td>37.0</td>\n",
              "      <td>52.0</td>\n",
              "      <td>100.0</td>\n",
              "      <td>-0.198420</td>\n",
              "      <td>0.377734</td>\n",
              "      <td>100.0</td>\n",
              "    </tr>\n",
              "    <tr>\n",
              "      <th>UNI_MED</th>\n",
              "      <td>1852426.0</td>\n",
              "      <td>1.004928</td>\n",
              "      <td>0.074647</td>\n",
              "      <td>1.0</td>\n",
              "      <td>1.0</td>\n",
              "      <td>1.0</td>\n",
              "      <td>1.0</td>\n",
              "      <td>3.0</td>\n",
              "      <td>302.018132</td>\n",
              "      <td>16.469934</td>\n",
              "      <td>2.0</td>\n",
              "    </tr>\n",
              "    <tr>\n",
              "      <th>FECHA_DE_INICIO_DE_SINTOMAS</th>\n",
              "      <td>1852426.0</td>\n",
              "      <td>2021-05-04 02:08:17.299864320</td>\n",
              "      <td>190 days 12:02:05.943284216</td>\n",
              "      <td>2020-02-26 00:00:00</td>\n",
              "      <td>2020-12-18 00:00:00</td>\n",
              "      <td>2021-05-14 00:00:00</td>\n",
              "      <td>2021-07-13 00:00:00</td>\n",
              "      <td>2022-09-09 00:00:00</td>\n",
              "      <td>NaN</td>\n",
              "      <td>NaN</td>\n",
              "      <td>926 days 00:00:00</td>\n",
              "    </tr>\n",
              "    <tr>\n",
              "      <th>FECHA_DIAGNOSTICO</th>\n",
              "      <td>1852426.0</td>\n",
              "      <td>2021-05-12 01:57:34.392887296</td>\n",
              "      <td>188 days 14:38:43.735870162</td>\n",
              "      <td>2020-03-06 00:00:00</td>\n",
              "      <td>2020-12-27 00:00:00</td>\n",
              "      <td>2021-05-24 00:00:00</td>\n",
              "      <td>2021-07-18 00:00:00</td>\n",
              "      <td>2022-09-13 00:00:00</td>\n",
              "      <td>NaN</td>\n",
              "      <td>NaN</td>\n",
              "      <td>921 days 00:00:00</td>\n",
              "    </tr>\n",
              "  </tbody>\n",
              "</table>\n",
              "</div>\n",
              "      <button class=\"colab-df-convert\" onclick=\"convertToInteractive('df-dfd39456-6062-474d-b710-424bea6d6297')\"\n",
              "              title=\"Convert this dataframe to an interactive table.\"\n",
              "              style=\"display:none;\">\n",
              "        \n",
              "  <svg xmlns=\"http://www.w3.org/2000/svg\" height=\"24px\"viewBox=\"0 0 24 24\"\n",
              "       width=\"24px\">\n",
              "    <path d=\"M0 0h24v24H0V0z\" fill=\"none\"/>\n",
              "    <path d=\"M18.56 5.44l.94 2.06.94-2.06 2.06-.94-2.06-.94-.94-2.06-.94 2.06-2.06.94zm-11 1L8.5 8.5l.94-2.06 2.06-.94-2.06-.94L8.5 2.5l-.94 2.06-2.06.94zm10 10l.94 2.06.94-2.06 2.06-.94-2.06-.94-.94-2.06-.94 2.06-2.06.94z\"/><path d=\"M17.41 7.96l-1.37-1.37c-.4-.4-.92-.59-1.43-.59-.52 0-1.04.2-1.43.59L10.3 9.45l-7.72 7.72c-.78.78-.78 2.05 0 2.83L4 21.41c.39.39.9.59 1.41.59.51 0 1.02-.2 1.41-.59l7.78-7.78 2.81-2.81c.8-.78.8-2.07 0-2.86zM5.41 20L4 18.59l7.72-7.72 1.47 1.35L5.41 20z\"/>\n",
              "  </svg>\n",
              "      </button>\n",
              "      \n",
              "  <style>\n",
              "    .colab-df-container {\n",
              "      display:flex;\n",
              "      flex-wrap:wrap;\n",
              "      gap: 12px;\n",
              "    }\n",
              "\n",
              "    .colab-df-convert {\n",
              "      background-color: #E8F0FE;\n",
              "      border: none;\n",
              "      border-radius: 50%;\n",
              "      cursor: pointer;\n",
              "      display: none;\n",
              "      fill: #1967D2;\n",
              "      height: 32px;\n",
              "      padding: 0 0 0 0;\n",
              "      width: 32px;\n",
              "    }\n",
              "\n",
              "    .colab-df-convert:hover {\n",
              "      background-color: #E2EBFA;\n",
              "      box-shadow: 0px 1px 2px rgba(60, 64, 67, 0.3), 0px 1px 3px 1px rgba(60, 64, 67, 0.15);\n",
              "      fill: #174EA6;\n",
              "    }\n",
              "\n",
              "    [theme=dark] .colab-df-convert {\n",
              "      background-color: #3B4455;\n",
              "      fill: #D2E3FC;\n",
              "    }\n",
              "\n",
              "    [theme=dark] .colab-df-convert:hover {\n",
              "      background-color: #434B5C;\n",
              "      box-shadow: 0px 1px 3px 1px rgba(0, 0, 0, 0.15);\n",
              "      filter: drop-shadow(0px 1px 2px rgba(0, 0, 0, 0.3));\n",
              "      fill: #FFFFFF;\n",
              "    }\n",
              "  </style>\n",
              "\n",
              "      <script>\n",
              "        const buttonEl =\n",
              "          document.querySelector('#df-dfd39456-6062-474d-b710-424bea6d6297 button.colab-df-convert');\n",
              "        buttonEl.style.display =\n",
              "          google.colab.kernel.accessAllowed ? 'block' : 'none';\n",
              "\n",
              "        async function convertToInteractive(key) {\n",
              "          const element = document.querySelector('#df-dfd39456-6062-474d-b710-424bea6d6297');\n",
              "          const dataTable =\n",
              "            await google.colab.kernel.invokeFunction('convertToInteractive',\n",
              "                                                     [key], {});\n",
              "          if (!dataTable) return;\n",
              "\n",
              "          const docLinkHtml = 'Like what you see? Visit the ' +\n",
              "            '<a target=\"_blank\" href=https://colab.research.google.com/notebooks/data_table.ipynb>data table notebook</a>'\n",
              "            + ' to learn more about interactive tables.';\n",
              "          element.innerHTML = '';\n",
              "          dataTable['output_type'] = 'display_data';\n",
              "          await google.colab.output.renderOutput(dataTable, element);\n",
              "          const docLink = document.createElement('div');\n",
              "          docLink.innerHTML = docLinkHtml;\n",
              "          element.appendChild(docLink);\n",
              "        }\n",
              "      </script>\n",
              "    </div>\n",
              "  </div>\n",
              "  "
            ],
            "text/plain": [
              "                                 count                           mean  \\\n",
              "EDAD                         1852426.0                       39.09275   \n",
              "UNI_MED                      1852426.0                       1.004928   \n",
              "FECHA_DE_INICIO_DE_SINTOMAS  1852426.0  2021-05-04 02:08:17.299864320   \n",
              "FECHA_DIAGNOSTICO            1852426.0  2021-05-12 01:57:34.392887296   \n",
              "\n",
              "                                                     std                  min  \\\n",
              "EDAD                                            18.10003                  0.0   \n",
              "UNI_MED                                         0.074647                  1.0   \n",
              "FECHA_DE_INICIO_DE_SINTOMAS  190 days 12:02:05.943284216  2020-02-26 00:00:00   \n",
              "FECHA_DIAGNOSTICO            188 days 14:38:43.735870162  2020-03-06 00:00:00   \n",
              "\n",
              "                                             25%                  50%  \\\n",
              "EDAD                                        26.0                 37.0   \n",
              "UNI_MED                                      1.0                  1.0   \n",
              "FECHA_DE_INICIO_DE_SINTOMAS  2020-12-18 00:00:00  2021-05-14 00:00:00   \n",
              "FECHA_DIAGNOSTICO            2020-12-27 00:00:00  2021-05-24 00:00:00   \n",
              "\n",
              "                                             75%                  max  \\\n",
              "EDAD                                        52.0                100.0   \n",
              "UNI_MED                                      1.0                  3.0   \n",
              "FECHA_DE_INICIO_DE_SINTOMAS  2021-07-13 00:00:00  2022-09-09 00:00:00   \n",
              "FECHA_DIAGNOSTICO            2021-07-18 00:00:00  2022-09-13 00:00:00   \n",
              "\n",
              "                               kurtosis       skew              range  \n",
              "EDAD                          -0.198420   0.377734              100.0  \n",
              "UNI_MED                      302.018132  16.469934                2.0  \n",
              "FECHA_DE_INICIO_DE_SINTOMAS         NaN        NaN  926 days 00:00:00  \n",
              "FECHA_DIAGNOSTICO                   NaN        NaN  921 days 00:00:00  "
            ]
          },
          "execution_count": 36,
          "metadata": {},
          "output_type": "execute_result"
        }
      ],
      "source": [
        "kurtosis = [bogota['EDAD'].kurtosis(),bogota['UNI_MED'].kurtosis()]\n",
        "skew = [bogota['EDAD'].skew(),bogota['UNI_MED'].skew()]\n",
        "range = [bogota['EDAD'].max() - bogota['EDAD'].min(), bogota['UNI_MED'].max()-bogota['UNI_MED'].min()]\n",
        "\n",
        "estadistica_bogota = bogota.drop(columns = ['CASO']).describe().T\n",
        "\n",
        "estadistica_bogota = estadistica_bogota.assign(kurtosis = kurtosis,skew = skew,range = range)\n",
        "\n",
        "# Append values for FECHA_DE_INICIO_DE_SINTOMAS and FECHA_DIAGNOSTICO\n",
        "\n",
        "columnas = [bogota.FECHA_DE_INICIO_DE_SINTOMAS,bogota.FECHA_DIAGNOSTICO]\n",
        "\n",
        "for column in columnas :\n",
        "  data = [column.value_counts().sum(),column.mean(),\n",
        "            column.std(),column.min(),\n",
        "            column.quantile(0.25),column.quantile(0.50),column.quantile(0.75),\n",
        "            column.max(),np.nan,np.nan,column.max() - column.min()]\n",
        "  columns_name = ['count','mean','std','min','25%','50%','75%','max','kurtosis','skew','range']\n",
        "\n",
        "  temp_series = pd.DataFrame(data = [data],index = [column.name],columns=columns_name)\n",
        "  \n",
        "  estadistica_bogota = estadistica_bogota.append(temp_series,ignore_index= False)\n",
        "\n",
        "estadistica_bogota"
      ]
    },
    {
      "cell_type": "markdown",
      "metadata": {
        "id": "5rg772Mm-9Ec"
      },
      "source": [
        "* **Interpretación de resultados**\n",
        "---\n",
        "\n",
        "Antes de realizar una interpretación de los datos es importante destacar que para la variable **edad** y **unidad de medida** se tienen muchas similitudes en términos de la media, desviación estándar, percentiles, kurtosis, asimetria y rango. Esto nos indica de primera mano que los datos de ambas bases de datos son consistentes o representan un mismo evento que en nuestro caso corresponde al contagio y diagnostico de covid-19. \n",
        "\n",
        "\n"
      ]
    },
    {
      "cell_type": "markdown",
      "metadata": {
        "id": "ItRtICGrAlRY"
      },
      "source": [
        "\n",
        "* **Interpretación para la edad**\n",
        "  * Podemos detallar que la media de personas positivas para el contagio de covid-19 en Bogotá fueron de 39 años y el 75% o menos de dichos contagios tiene a lo sumo 52 años. Hecho que ratifica las medidas tomadas por familias para realizar una cuarentena de las personas de mayor edad. \n",
        "\n",
        "  * Podemos evidenciar que hay una desviación de los datos de 18 años, lo cuál significa que los contagios a pesar de ser sesgados para edades jovenes o adultos-jovenes se presentaron en todas las edades pero no tan alejados de la media de 39 años.\n",
        "\n",
        "  * La edad en la que más se presento un reporte positivo de covid-19 fue de 37 años\n",
        "\n",
        "* **Interpretación para la unidad de medida**\n",
        "\n",
        "> Recordemos que '1' equivale a 'Años', '2' a 'Meses' y '3' a 'días'.\n",
        "  * La media de los datos y moda es de '1' lo que representa que la mayoria de datos corresponden a personas que tienen como minimo un año de vida y su unidad de medida corresponde al \"Año\".\n",
        "  * Los datos no tienen una desviación grande, por lo que podemos afirmar que la mayoria de estos se encuentran cerca a la unidad de mediad \"Año\". A su vez, podemos verificarlo puesto que se tiene una distribución sesgada hacia la izquierda, lo que significa que la mayoria de datos se encuentran en la variable \"Año\".\n",
        "\n",
        "* **Interpretación para fecha inicio sintomas**\n",
        "\n",
        "  * Este dataset contiene más información respecto a las fechas pues tiene el registro de 926 días. El día que mayor casos de covid hubo fue el 2020-12-18 que fue 9 días antes que se registrará el dia con más reportes de contagios, lo cuál nos indica la veracidad de la información pues esta entre el rango de 15 días de posible contagio y presentación de sintomas.\n",
        "\n",
        "  * A partir del día 2021-07-18 se tiene que hay unicamente un 25% de los datos registrados para el inicio de los sintomas.\n",
        "\n",
        "  \n"
      ]
    },
    {
      "cell_type": "code",
      "execution_count": null,
      "metadata": {
        "colab": {
          "background_save": true,
          "base_uri": "https://localhost:8080/",
          "height": 143
        },
        "id": "I0yu0cXaqjup",
        "outputId": "bb662637-d8fc-4651-e6ae-2f66c2e1c4fc"
      },
      "outputs": [
        {
          "data": {
            "text/html": [
              "\n",
              "  <div id=\"df-24ae3bb8-ac32-4fc8-9e6d-f30a4644ed64\">\n",
              "    <div class=\"colab-df-container\">\n",
              "      <div>\n",
              "<style scoped>\n",
              "    .dataframe tbody tr th:only-of-type {\n",
              "        vertical-align: middle;\n",
              "    }\n",
              "\n",
              "    .dataframe tbody tr th {\n",
              "        vertical-align: top;\n",
              "    }\n",
              "\n",
              "    .dataframe thead th {\n",
              "        text-align: right;\n",
              "    }\n",
              "</style>\n",
              "<table border=\"1\" class=\"dataframe\">\n",
              "  <thead>\n",
              "    <tr style=\"text-align: right;\">\n",
              "      <th></th>\n",
              "      <th>departamento</th>\n",
              "      <th>edad</th>\n",
              "      <th>unidad_medida</th>\n",
              "      <th>per_etn_</th>\n",
              "    </tr>\n",
              "    <tr>\n",
              "      <th>fecha_de_notificaci_n</th>\n",
              "      <th></th>\n",
              "      <th></th>\n",
              "      <th></th>\n",
              "      <th></th>\n",
              "    </tr>\n",
              "  </thead>\n",
              "  <tbody>\n",
              "    <tr>\n",
              "      <th>2020-12-31</th>\n",
              "      <td>1097.098968</td>\n",
              "      <td>40.005774</td>\n",
              "      <td>1.004319</td>\n",
              "      <td>5.881023</td>\n",
              "    </tr>\n",
              "    <tr>\n",
              "      <th>2021-12-31</th>\n",
              "      <td>1201.217978</td>\n",
              "      <td>39.044907</td>\n",
              "      <td>1.003257</td>\n",
              "      <td>5.916653</td>\n",
              "    </tr>\n",
              "  </tbody>\n",
              "</table>\n",
              "</div>\n",
              "      <button class=\"colab-df-convert\" onclick=\"convertToInteractive('df-24ae3bb8-ac32-4fc8-9e6d-f30a4644ed64')\"\n",
              "              title=\"Convert this dataframe to an interactive table.\"\n",
              "              style=\"display:none;\">\n",
              "        \n",
              "  <svg xmlns=\"http://www.w3.org/2000/svg\" height=\"24px\"viewBox=\"0 0 24 24\"\n",
              "       width=\"24px\">\n",
              "    <path d=\"M0 0h24v24H0V0z\" fill=\"none\"/>\n",
              "    <path d=\"M18.56 5.44l.94 2.06.94-2.06 2.06-.94-2.06-.94-.94-2.06-.94 2.06-2.06.94zm-11 1L8.5 8.5l.94-2.06 2.06-.94-2.06-.94L8.5 2.5l-.94 2.06-2.06.94zm10 10l.94 2.06.94-2.06 2.06-.94-2.06-.94-.94-2.06-.94 2.06-2.06.94z\"/><path d=\"M17.41 7.96l-1.37-1.37c-.4-.4-.92-.59-1.43-.59-.52 0-1.04.2-1.43.59L10.3 9.45l-7.72 7.72c-.78.78-.78 2.05 0 2.83L4 21.41c.39.39.9.59 1.41.59.51 0 1.02-.2 1.41-.59l7.78-7.78 2.81-2.81c.8-.78.8-2.07 0-2.86zM5.41 20L4 18.59l7.72-7.72 1.47 1.35L5.41 20z\"/>\n",
              "  </svg>\n",
              "      </button>\n",
              "      \n",
              "  <style>\n",
              "    .colab-df-container {\n",
              "      display:flex;\n",
              "      flex-wrap:wrap;\n",
              "      gap: 12px;\n",
              "    }\n",
              "\n",
              "    .colab-df-convert {\n",
              "      background-color: #E8F0FE;\n",
              "      border: none;\n",
              "      border-radius: 50%;\n",
              "      cursor: pointer;\n",
              "      display: none;\n",
              "      fill: #1967D2;\n",
              "      height: 32px;\n",
              "      padding: 0 0 0 0;\n",
              "      width: 32px;\n",
              "    }\n",
              "\n",
              "    .colab-df-convert:hover {\n",
              "      background-color: #E2EBFA;\n",
              "      box-shadow: 0px 1px 2px rgba(60, 64, 67, 0.3), 0px 1px 3px 1px rgba(60, 64, 67, 0.15);\n",
              "      fill: #174EA6;\n",
              "    }\n",
              "\n",
              "    [theme=dark] .colab-df-convert {\n",
              "      background-color: #3B4455;\n",
              "      fill: #D2E3FC;\n",
              "    }\n",
              "\n",
              "    [theme=dark] .colab-df-convert:hover {\n",
              "      background-color: #434B5C;\n",
              "      box-shadow: 0px 1px 3px 1px rgba(0, 0, 0, 0.15);\n",
              "      filter: drop-shadow(0px 1px 2px rgba(0, 0, 0, 0.3));\n",
              "      fill: #FFFFFF;\n",
              "    }\n",
              "  </style>\n",
              "\n",
              "      <script>\n",
              "        const buttonEl =\n",
              "          document.querySelector('#df-24ae3bb8-ac32-4fc8-9e6d-f30a4644ed64 button.colab-df-convert');\n",
              "        buttonEl.style.display =\n",
              "          google.colab.kernel.accessAllowed ? 'block' : 'none';\n",
              "\n",
              "        async function convertToInteractive(key) {\n",
              "          const element = document.querySelector('#df-24ae3bb8-ac32-4fc8-9e6d-f30a4644ed64');\n",
              "          const dataTable =\n",
              "            await google.colab.kernel.invokeFunction('convertToInteractive',\n",
              "                                                     [key], {});\n",
              "          if (!dataTable) return;\n",
              "\n",
              "          const docLinkHtml = 'Like what you see? Visit the ' +\n",
              "            '<a target=\"_blank\" href=https://colab.research.google.com/notebooks/data_table.ipynb>data table notebook</a>'\n",
              "            + ' to learn more about interactive tables.';\n",
              "          element.innerHTML = '';\n",
              "          dataTable['output_type'] = 'display_data';\n",
              "          await google.colab.output.renderOutput(dataTable, element);\n",
              "          const docLink = document.createElement('div');\n",
              "          docLink.innerHTML = docLinkHtml;\n",
              "          element.appendChild(docLink);\n",
              "        }\n",
              "      </script>\n",
              "    </div>\n",
              "  </div>\n",
              "  "
            ],
            "text/plain": [
              "                       departamento       edad  unidad_medida  per_etn_\n",
              "fecha_de_notificaci_n                                                  \n",
              "2020-12-31              1097.098968  40.005774       1.004319  5.881023\n",
              "2021-12-31              1201.217978  39.044907       1.003257  5.916653"
            ]
          },
          "execution_count": 37,
          "metadata": {},
          "output_type": "execute_result"
        }
      ],
      "source": [
        "# covid.groupby(pd.PeriodIndex(covid[\"fecha_de_notificaci_n\"]))\n",
        "data_year = covid.resample(\"Y\", on='fecha_de_notificaci_n').mean()\n",
        "data_year[:-1]"
      ]
    },
    {
      "cell_type": "markdown",
      "metadata": {
        "id": "MerFqnCgTszt"
      },
      "source": [
        "## Uniones de datasets\n",
        "------\n"
      ]
    },
    {
      "cell_type": "markdown",
      "metadata": {
        "id": "xWWlPrk2-IEo"
      },
      "source": [
        "En cuanto a Uniones de datasets se realizó un inner join entre el dataset `covid` y el GeoPandasDataFrame obtenido a partir del archivo .shp para la representación del mapa de Colombia por departamentos usando la clasificación DIVIPOLA."
      ]
    },
    {
      "cell_type": "markdown",
      "metadata": {
        "id": "eOYbHIsv-mmx"
      },
      "source": [
        "El inner merge se realiza haciendo ***match*** entre las columnas **departamento** del dataframe covid y la columna **COD_DEPART** del dataframe col_deps.\n",
        "\n",
        "Para un mejor entendimiento de este proceso a continuación se muestra como funciona el inner merge a través de una imagen:\n",
        "\n",
        "![imagen_2022-09-18_184431848.png](https://www.ionos.es/digitalguide/fileadmin/DigitalGuide/Screenshots_2019/inner-join.png)\n",
        "\n",
        "> Imagen tomada de https://www.ionos.es/digitalguide/hosting/cuestiones-tecnicas/inner-join/"
      ]
    },
    {
      "cell_type": "code",
      "execution_count": null,
      "metadata": {
        "colab": {
          "background_save": true,
          "base_uri": "https://localhost:8080/"
        },
        "id": "kDEuV7ptaeoN",
        "outputId": "df8e544b-20fd-46a3-b73f-17f7b66cc8bf"
      },
      "outputs": [
        {
          "name": "stdout",
          "output_type": "stream",
          "text": [
            "Downloading...\n",
            "From: https://drive.google.com/uc?id=1wMwLcKZ0v18Dwse0Ln1-GTimFHpgSlir\n",
            "To: /content/colombia.zip\n",
            "100% 50.2M/50.2M [00:00<00:00, 167MB/s]\n",
            "Archive:  colombia.zip\n",
            "  inflating: divipola_dpto_index.hdf  \n",
            "  inflating: divipola_mun_index.hdf  \n",
            "  inflating: shapes/Cabecera Municipal.dbf  \n",
            "  inflating: shapes/Cabecera Municipal.prj  \n",
            "  inflating: shapes/Cabecera Municipal.sbn  \n",
            "  inflating: shapes/Cabecera Municipal.sbx  \n",
            "  inflating: shapes/Cabecera Municipal.shp  \n",
            "  inflating: shapes/Cabecera Municipal.shp.xml  \n",
            "  inflating: shapes/Cabecera Municipal.shx  \n",
            "  inflating: shapes/desktop.ini      \n",
            "  inflating: shapes/Fuera colombia.dbf  \n",
            "  inflating: shapes/Fuera colombia.prj  \n",
            "  inflating: shapes/Fuera colombia.sbn  \n",
            "  inflating: shapes/Fuera colombia.sbx  \n",
            "  inflating: shapes/Fuera colombia.shp  \n",
            "  inflating: shapes/Fuera colombia.shx  \n",
            "  inflating: shapes/Limite Departamental.dbf  \n",
            "  inflating: shapes/Limite Departamental.prj  \n",
            "  inflating: shapes/Limite Departamental.sbn  \n",
            "  inflating: shapes/Limite Departamental.sbx  \n",
            "  inflating: shapes/Limite Departamental.shp  \n",
            "  inflating: shapes/Limite Departamental.shp.xml  \n",
            "  inflating: shapes/Limite Departamental.shx  \n",
            "  inflating: shapes/Limite Municipal.dbf  \n",
            "  inflating: shapes/Limite Municipal.prj  \n",
            "  inflating: shapes/Limite Municipal.sbn  \n",
            "  inflating: shapes/Limite Municipal.sbx  \n",
            "  inflating: shapes/Limite Municipal.shp  \n",
            "  inflating: shapes/Limite Municipal.shp.xml  \n",
            "  inflating: shapes/Limite Municipal.shx  \n"
          ]
        }
      ],
      "source": [
        "!gdown https://drive.google.com/uc?id=1wMwLcKZ0v18Dwse0Ln1-GTimFHpgSlir\n",
        "!unzip colombia.zip"
      ]
    },
    {
      "cell_type": "code",
      "execution_count": null,
      "metadata": {
        "colab": {
          "background_save": true
        },
        "id": "mIUCpLuUcNQq"
      },
      "outputs": [],
      "source": [
        "col_deps = gpd.read_file(r\"shapes/Limite Departamental.shp\")  # Departamentos\n",
        "col_deps[[\"COD_DEPART\"]] = col_deps[[\"COD_DEPART\"]].astype(int)"
      ]
    },
    {
      "cell_type": "code",
      "execution_count": null,
      "metadata": {
        "colab": {
          "background_save": true
        },
        "id": "J7bR8LIG0Sec"
      },
      "outputs": [],
      "source": [
        "groupedByDepartment = covid.groupby([\"departamento\"], as_index=False).size()\n",
        "departmentWithGeometry = pd.merge(groupedByDepartment, col_deps, left_on=\"departamento\", right_on=\"COD_DEPART\")"
      ]
    },
    {
      "cell_type": "markdown",
      "metadata": {
        "id": "7d5KadnGVzK-"
      },
      "source": [
        "## Visualización de datos\n",
        "------"
      ]
    },
    {
      "cell_type": "markdown",
      "metadata": {
        "id": "lpe5s0btkU-I"
      },
      "source": [
        "Ahora bien, a continuación se presentarán algunas visualizaciones que se consideraron interesantes por parte de los investigadores."
      ]
    },
    {
      "cell_type": "markdown",
      "metadata": {
        "id": "tcr2fd0BkbQT"
      },
      "source": [
        "Para visualizar el estado de los casos y la relación de estos con la edad y sexo del paciente se optó por utilizar un stripplot, muy similar al swarmplot, en este caso se usa un stripplot por la cantidad de datos que se está manejando.\n",
        "\n",
        "La función `stripplot` permite que los puntos se solapen y los ajusta al eje x que contiene las variables categoricas.\n",
        "\n",
        "<br/>\n",
        "<br/>\n",
        "\n",
        "Del siguiente gráfico lo primero que se observa es que en edades más tempranas de 0 a apróx 20 años los casos de deceso a causa de covid 19 no son muy comunes.\n",
        "\n",
        "También se evidencia poca diferencia entre el estado de los pacientes según se sexo, por lo que parece no ser un factor determinante en el estado de las personas.\n",
        "\n"
      ]
    },
    {
      "cell_type": "code",
      "execution_count": null,
      "metadata": {
        "colab": {
          "background_save": true,
          "base_uri": "https://localhost:8080/",
          "height": 660
        },
        "id": "p-eRa8Q1ZtCN",
        "outputId": "aaff0a3c-fdc9-42a2-e584-8766723cdf00"
      },
      "outputs": [
        {
          "data": {
            "image/png": "[encoded data removed]",
            "text/plain": [
              "<Figure size 792x792 with 1 Axes>"
            ]
          },
          "metadata": {},
          "output_type": "display_data"
        }
      ],
      "source": [
        "plt.figure(figsize=(11,11))\n",
        "covid_stripplot = sns.stripplot(x=\"recuperado\", y=\"edad\", data=covid, palette=\"Set1\", hue=\"sexo\", alpha=0.3, dodge=True, size=3);"
      ]
    },
    {
      "cell_type": "markdown",
      "metadata": {
        "id": "409xauLElWwh"
      },
      "source": [
        "También se realizó la gráfica de la cantidad de casos de covid 19 vs la edad, de esta figura podemos aprecia como el promedio se encuentra al rededor de los 39 años aproximadamente.\n",
        "\n",
        "Destaca que conforme se avanza hasta llegar a la edad de 39 la cantidad de casos aumento y posterior a cumplir esa cantidad de años la cantidad de casos empieza a decrecer, este comportamiento puede estar relacionado con los hábitos y actividades que realiza una persona según su edad, resultando en mayores posibilidades de contagio para determinados grupos."
      ]
    },
    {
      "cell_type": "code",
      "execution_count": null,
      "metadata": {
        "colab": {
          "background_save": true,
          "base_uri": "https://localhost:8080/",
          "height": 542
        },
        "id": "zzB7GZKyip2t",
        "outputId": "971f05e3-759b-4ffc-b67b-cb3e1a886f6b"
      },
      "outputs": [
        {
          "data": {
            "text/html": [
              "<html>\n",
              "<head><meta charset=\"utf-8\" /></head>\n",
              "<body>\n",
              "    <div>            <script src=\"https://cdnjs.cloudflare.com/ajax/libs/mathjax/2.7.5/MathJax.js?config=TeX-AMS-MML_SVG\"></script><script type=\"text/javascript\">if (window.MathJax) {MathJax.Hub.Config({SVG: {font: \"STIX-Web\"}});}</script>                <script type=\"text/javascript\">window.PlotlyConfig = {MathJaxConfig: 'local'};</script>\n",
              "        <script src=\"https://cdn.plot.ly/plotly-2.8.3.min.js\"></script>                <div id=\"c2daec96-1265-4ce9-8964-6d881b3030ab\" class=\"plotly-graph-div\" style=\"height:525px; width:100%;\"></div>            <script type=\"text/javascript\">                                    window.PLOTLYENV=window.PLOTLYENV || {};                                    if (document.getElementById(\"c2daec96-1265-4ce9-8964-6d881b3030ab\")) {                    Plotly.newPlot(                        \"c2daec96-1265-4ce9-8964-6d881b3030ab\",                        [{\"hovertemplate\":\"edad=%{x}<br>size=%{y}<extra></extra>\",\"legendgroup\":\"\",\"line\":{\"color\":\"#636efa\",\"dash\":\"solid\"},\"marker\":{\"symbol\":\"circle\"},\"mode\":\"lines\",\"name\":\"\",\"orientation\":\"v\",\"showlegend\":false,\"x\":[1,2,3,4,5,6,7,8,9,10,11,12,13,14,15,16,17,18,19,20,21,22,23,24,25,26,27,28,29,30,31,32,33,34,35,36,37,38,39,40,41,42,43,44,45,46,47,48,49,50,51,52,53,54,55,56,57,58,59,60,61,62,63,64,65,66,67,68,69,70,71,72,73,74,75,76,77,78,79,80,81,82,83,84,85,86,87,88,89,90,91,92,93,94,95,96,97,98,99,100,101,102,103,104,105,106,107,108,109,110,111,114],\"xaxis\":\"x\",\"y\":[10967,9941,9749,10155,10714,11233,11719,13174,13850,14675,16376,17217,18891,20387,22148,24199,27211,32366,40029,46489,52022,56233,61518,66393,69770,72193,72692,73483,73273,74131,72074,70231,67465,66715,67052,65797,63917,64583,63783,62615,59995,55527,52654,50897,48329,46197,45329,44822,45661,43934,42685,42363,41484,41299,40482,39586,38402,36629,34367,32987,29778,28363,26715,24853,22755,20993,19435,18423,17089,16346,15259,14291,13361,12412,11576,10459,9522,9368,8607,8680,7707,7096,6563,5736,5560,4800,4165,3593,2943,2789,2298,1869,1461,1149,818,575,458,385,249,163,99,57,54,32,13,10,4,2,2,2,3,1],\"yaxis\":\"y\",\"type\":\"scatter\"}],                        {\"template\":{\"data\":{\"bar\":[{\"error_x\":{\"color\":\"#2a3f5f\"},\"error_y\":{\"color\":\"#2a3f5f\"},\"marker\":{\"line\":{\"color\":\"#E5ECF6\",\"width\":0.5},\"pattern\":{\"fillmode\":\"overlay\",\"size\":10,\"solidity\":0.2}},\"type\":\"bar\"}],\"barpolar\":[{\"marker\":{\"line\":{\"color\":\"#E5ECF6\",\"width\":0.5},\"pattern\":{\"fillmode\":\"overlay\",\"size\":10,\"solidity\":0.2}},\"type\":\"barpolar\"}],\"carpet\":[{\"aaxis\":{\"endlinecolor\":\"#2a3f5f\",\"gridcolor\":\"white\",\"linecolor\":\"white\",\"minorgridcolor\":\"white\",\"startlinecolor\":\"#2a3f5f\"},\"baxis\":{\"endlinecolor\":\"#2a3f5f\",\"gridcolor\":\"white\",\"linecolor\":\"white\",\"minorgridcolor\":\"white\",\"startlinecolor\":\"#2a3f5f\"},\"type\":\"carpet\"}],\"choropleth\":[{\"colorbar\":{\"outlinewidth\":0,\"ticks\":\"\"},\"type\":\"choropleth\"}],\"contour\":[{\"colorbar\":{\"outlinewidth\":0,\"ticks\":\"\"},\"colorscale\":[[0.0,\"#0d0887\"],[0.1111111111111111,\"#46039f\"],[0.2222222222222222,\"#7201a8\"],[0.3333333333333333,\"#9c179e\"],[0.4444444444444444,\"#bd3786\"],[0.5555555555555556,\"#d8576b\"],[0.6666666666666666,\"#ed7953\"],[0.7777777777777778,\"#fb9f3a\"],[0.8888888888888888,\"#fdca26\"],[1.0,\"#f0f921\"]],\"type\":\"contour\"}],\"contourcarpet\":[{\"colorbar\":{\"outlinewidth\":0,\"ticks\":\"\"},\"type\":\"contourcarpet\"}],\"heatmap\":[{\"colorbar\":{\"outlinewidth\":0,\"ticks\":\"\"},\"colorscale\":[[0.0,\"#0d0887\"],[0.1111111111111111,\"#46039f\"],[0.2222222222222222,\"#7201a8\"],[0.3333333333333333,\"#9c179e\"],[0.4444444444444444,\"#bd3786\"],[0.5555555555555556,\"#d8576b\"],[0.6666666666666666,\"#ed7953\"],[0.7777777777777778,\"#fb9f3a\"],[0.8888888888888888,\"#fdca26\"],[1.0,\"#f0f921\"]],\"type\":\"heatmap\"}],\"heatmapgl\":[{\"colorbar\":{\"outlinewidth\":0,\"ticks\":\"\"},\"colorscale\":[[0.0,\"#0d0887\"],[0.1111111111111111,\"#46039f\"],[0.2222222222222222,\"#7201a8\"],[0.3333333333333333,\"#9c179e\"],[0.4444444444444444,\"#bd3786\"],[0.5555555555555556,\"#d8576b\"],[0.6666666666666666,\"#ed7953\"],[0.7777777777777778,\"#fb9f3a\"],[0.8888888888888888,\"#fdca26\"],[1.0,\"#f0f921\"]],\"type\":\"heatmapgl\"}],\"histogram\":[{\"marker\":{\"pattern\":{\"fillmode\":\"overlay\",\"size\":10,\"solidity\":0.2}},\"type\":\"histogram\"}],\"histogram2d\":[{\"colorbar\":{\"outlinewidth\":0,\"ticks\":\"\"},\"colorscale\":[[0.0,\"#0d0887\"],[0.1111111111111111,\"#46039f\"],[0.2222222222222222,\"#7201a8\"],[0.3333333333333333,\"#9c179e\"],[0.4444444444444444,\"#bd3786\"],[0.5555555555555556,\"#d8576b\"],[0.6666666666666666,\"#ed7953\"],[0.7777777777777778,\"#fb9f3a\"],[0.8888888888888888,\"#fdca26\"],[1.0,\"#f0f921\"]],\"type\":\"histogram2d\"}],\"histogram2dcontour\":[{\"colorbar\":{\"outlinewidth\":0,\"ticks\":\"\"},\"colorscale\":[[0.0,\"#0d0887\"],[0.1111111111111111,\"#46039f\"],[0.2222222222222222,\"#7201a8\"],[0.3333333333333333,\"#9c179e\"],[0.4444444444444444,\"#bd3786\"],[0.5555555555555556,\"#d8576b\"],[0.6666666666666666,\"#ed7953\"],[0.7777777777777778,\"#fb9f3a\"],[0.8888888888888888,\"#fdca26\"],[1.0,\"#f0f921\"]],\"type\":\"histogram2dcontour\"}],\"mesh3d\":[{\"colorbar\":{\"outlinewidth\":0,\"ticks\":\"\"},\"type\":\"mesh3d\"}],\"parcoords\":[{\"line\":{\"colorbar\":{\"outlinewidth\":0,\"ticks\":\"\"}},\"type\":\"parcoords\"}],\"pie\":[{\"automargin\":true,\"type\":\"pie\"}],\"scatter\":[{\"marker\":{\"colorbar\":{\"outlinewidth\":0,\"ticks\":\"\"}},\"type\":\"scatter\"}],\"scatter3d\":[{\"line\":{\"colorbar\":{\"outlinewidth\":0,\"ticks\":\"\"}},\"marker\":{\"colorbar\":{\"outlinewidth\":0,\"ticks\":\"\"}},\"type\":\"scatter3d\"}],\"scattercarpet\":[{\"marker\":{\"colorbar\":{\"outlinewidth\":0,\"ticks\":\"\"}},\"type\":\"scattercarpet\"}],\"scattergeo\":[{\"marker\":{\"colorbar\":{\"outlinewidth\":0,\"ticks\":\"\"}},\"type\":\"scattergeo\"}],\"scattergl\":[{\"marker\":{\"colorbar\":{\"outlinewidth\":0,\"ticks\":\"\"}},\"type\":\"scattergl\"}],\"scattermapbox\":[{\"marker\":{\"colorbar\":{\"outlinewidth\":0,\"ticks\":\"\"}},\"type\":\"scattermapbox\"}],\"scatterpolar\":[{\"marker\":{\"colorbar\":{\"outlinewidth\":0,\"ticks\":\"\"}},\"type\":\"scatterpolar\"}],\"scatterpolargl\":[{\"marker\":{\"colorbar\":{\"outlinewidth\":0,\"ticks\":\"\"}},\"type\":\"scatterpolargl\"}],\"scatterternary\":[{\"marker\":{\"colorbar\":{\"outlinewidth\":0,\"ticks\":\"\"}},\"type\":\"scatterternary\"}],\"surface\":[{\"colorbar\":{\"outlinewidth\":0,\"ticks\":\"\"},\"colorscale\":[[0.0,\"#0d0887\"],[0.1111111111111111,\"#46039f\"],[0.2222222222222222,\"#7201a8\"],[0.3333333333333333,\"#9c179e\"],[0.4444444444444444,\"#bd3786\"],[0.5555555555555556,\"#d8576b\"],[0.6666666666666666,\"#ed7953\"],[0.7777777777777778,\"#fb9f3a\"],[0.8888888888888888,\"#fdca26\"],[1.0,\"#f0f921\"]],\"type\":\"surface\"}],\"table\":[{\"cells\":{\"fill\":{\"color\":\"#EBF0F8\"},\"line\":{\"color\":\"white\"}},\"header\":{\"fill\":{\"color\":\"#C8D4E3\"},\"line\":{\"color\":\"white\"}},\"type\":\"table\"}]},\"layout\":{\"annotationdefaults\":{\"arrowcolor\":\"#2a3f5f\",\"arrowhead\":0,\"arrowwidth\":1},\"autotypenumbers\":\"strict\",\"coloraxis\":{\"colorbar\":{\"outlinewidth\":0,\"ticks\":\"\"}},\"colorscale\":{\"diverging\":[[0,\"#8e0152\"],[0.1,\"#c51b7d\"],[0.2,\"#de77ae\"],[0.3,\"#f1b6da\"],[0.4,\"#fde0ef\"],[0.5,\"#f7f7f7\"],[0.6,\"#e6f5d0\"],[0.7,\"#b8e186\"],[0.8,\"#7fbc41\"],[0.9,\"#4d9221\"],[1,\"#276419\"]],\"sequential\":[[0.0,\"#0d0887\"],[0.1111111111111111,\"#46039f\"],[0.2222222222222222,\"#7201a8\"],[0.3333333333333333,\"#9c179e\"],[0.4444444444444444,\"#bd3786\"],[0.5555555555555556,\"#d8576b\"],[0.6666666666666666,\"#ed7953\"],[0.7777777777777778,\"#fb9f3a\"],[0.8888888888888888,\"#fdca26\"],[1.0,\"#f0f921\"]],\"sequentialminus\":[[0.0,\"#0d0887\"],[0.1111111111111111,\"#46039f\"],[0.2222222222222222,\"#7201a8\"],[0.3333333333333333,\"#9c179e\"],[0.4444444444444444,\"#bd3786\"],[0.5555555555555556,\"#d8576b\"],[0.6666666666666666,\"#ed7953\"],[0.7777777777777778,\"#fb9f3a\"],[0.8888888888888888,\"#fdca26\"],[1.0,\"#f0f921\"]]},\"colorway\":[\"#636efa\",\"#EF553B\",\"#00cc96\",\"#ab63fa\",\"#FFA15A\",\"#19d3f3\",\"#FF6692\",\"#B6E880\",\"#FF97FF\",\"#FECB52\"],\"font\":{\"color\":\"#2a3f5f\"},\"geo\":{\"bgcolor\":\"white\",\"lakecolor\":\"white\",\"landcolor\":\"#E5ECF6\",\"showlakes\":true,\"showland\":true,\"subunitcolor\":\"white\"},\"hoverlabel\":{\"align\":\"left\"},\"hovermode\":\"closest\",\"mapbox\":{\"style\":\"light\"},\"paper_bgcolor\":\"white\",\"plot_bgcolor\":\"#E5ECF6\",\"polar\":{\"angularaxis\":{\"gridcolor\":\"white\",\"linecolor\":\"white\",\"ticks\":\"\"},\"bgcolor\":\"#E5ECF6\",\"radialaxis\":{\"gridcolor\":\"white\",\"linecolor\":\"white\",\"ticks\":\"\"}},\"scene\":{\"xaxis\":{\"backgroundcolor\":\"#E5ECF6\",\"gridcolor\":\"white\",\"gridwidth\":2,\"linecolor\":\"white\",\"showbackground\":true,\"ticks\":\"\",\"zerolinecolor\":\"white\"},\"yaxis\":{\"backgroundcolor\":\"#E5ECF6\",\"gridcolor\":\"white\",\"gridwidth\":2,\"linecolor\":\"white\",\"showbackground\":true,\"ticks\":\"\",\"zerolinecolor\":\"white\"},\"zaxis\":{\"backgroundcolor\":\"#E5ECF6\",\"gridcolor\":\"white\",\"gridwidth\":2,\"linecolor\":\"white\",\"showbackground\":true,\"ticks\":\"\",\"zerolinecolor\":\"white\"}},\"shapedefaults\":{\"line\":{\"color\":\"#2a3f5f\"}},\"ternary\":{\"aaxis\":{\"gridcolor\":\"white\",\"linecolor\":\"white\",\"ticks\":\"\"},\"baxis\":{\"gridcolor\":\"white\",\"linecolor\":\"white\",\"ticks\":\"\"},\"bgcolor\":\"#E5ECF6\",\"caxis\":{\"gridcolor\":\"white\",\"linecolor\":\"white\",\"ticks\":\"\"}},\"title\":{\"x\":0.05},\"xaxis\":{\"automargin\":true,\"gridcolor\":\"white\",\"linecolor\":\"white\",\"ticks\":\"\",\"title\":{\"standoff\":15},\"zerolinecolor\":\"white\",\"zerolinewidth\":2},\"yaxis\":{\"automargin\":true,\"gridcolor\":\"white\",\"linecolor\":\"white\",\"ticks\":\"\",\"title\":{\"standoff\":15},\"zerolinecolor\":\"white\",\"zerolinewidth\":2}}},\"xaxis\":{\"anchor\":\"y\",\"domain\":[0.0,1.0],\"title\":{\"text\":\"edad\"}},\"yaxis\":{\"anchor\":\"x\",\"domain\":[0.0,1.0],\"title\":{\"text\":\"size\"}},\"legend\":{\"tracegroupgap\":0},\"margin\":{\"t\":60}},                        {\"responsive\": true}                    ).then(function(){\n",
              "                            \n",
              "var gd = document.getElementById('c2daec96-1265-4ce9-8964-6d881b3030ab');\n",
              "var x = new MutationObserver(function (mutations, observer) {{\n",
              "        var display = window.getComputedStyle(gd).display;\n",
              "        if (!display || display === 'none') {{\n",
              "            console.log([gd, 'removed!']);\n",
              "            Plotly.purge(gd);\n",
              "            observer.disconnect();\n",
              "        }}\n",
              "}});\n",
              "\n",
              "// Listen for the removal of the full notebook cells\n",
              "var notebookContainer = gd.closest('#notebook-container');\n",
              "if (notebookContainer) {{\n",
              "    x.observe(notebookContainer, {childList: true});\n",
              "}}\n",
              "\n",
              "// Listen for the clearing of the current output cell\n",
              "var outputEl = gd.closest('.output');\n",
              "if (outputEl) {{\n",
              "    x.observe(outputEl, {childList: true});\n",
              "}}\n",
              "\n",
              "                        })                };                            </script>        </div>\n",
              "</body>\n",
              "</html>"
            ]
          },
          "metadata": {},
          "output_type": "display_data"
        }
      ],
      "source": [
        "covidByEdad = covid.groupby(\"edad\", as_index=False).size()\n",
        "px.line(data_frame=covidByEdad, x=\"edad\", y=\"size\")"
      ]
    },
    {
      "cell_type": "markdown",
      "metadata": {
        "id": "pXiuUmlBmg_f"
      },
      "source": [
        "A partir de la agrupación obtenida en la sección de Unión de datasets se obtuvo el dataframe `departmentWithGeometry`, en esta sección se convierte en GeoDataFrame de modo que sea posible usar las características de geometría y mapas de la librería GeoPandas."
      ]
    },
    {
      "cell_type": "markdown",
      "metadata": {
        "id": "5WEFuScLnKLa"
      },
      "source": [
        "A continuación se presenta un mapa coroplético de la cantidad de casos positivos Covid-19 por departamento, rápidamente destaca el centro del país como un foco grande de casos, adicionalmente se evidencia que en zonas con ciudades principales también hay un aumento de casos."
      ]
    },
    {
      "cell_type": "code",
      "execution_count": null,
      "metadata": {
        "colab": {
          "background_save": true
        },
        "id": "PweoPo4neWGn"
      },
      "outputs": [],
      "source": [
        "geopandasMap = gpd.GeoDataFrame(departmentWithGeometry)"
      ]
    },
    {
      "cell_type": "code",
      "execution_count": null,
      "metadata": {
        "colab": {
          "background_save": true,
          "base_uri": "https://localhost:8080/",
          "height": 863
        },
        "id": "-uBpYUG9lwUY",
        "outputId": "700b24cf-3478-456e-82f3-8eaa881dcd46"
      },
      "outputs": [
        {
          "data": {
            "image/png": "[encoded data removed]",
            "text/plain": [
              "<Figure size 1080x1080 with 1 Axes>"
            ]
          },
          "metadata": {},
          "output_type": "display_data"
        }
      ],
      "source": [
        "geopandasMap.plot(column='size',\n",
        "           cmap='YlOrRd', \n",
        "           scheme='quantiles',\n",
        "           legend=True,\n",
        "           figsize = (15,15));"
      ]
    },
    {
      "cell_type": "markdown",
      "metadata": {
        "id": "vwCkKMc-m7Q9"
      },
      "source": [
        "Profundizando un poco más en la meta de estudio del presente trabajo se realiza un gráfico de dispersión de la cantidad de casos a través del tiempo.\n",
        "\n",
        "En este apartado destacan 2 picos bastante pronunciados que coinciden con los meses de Enero y Junio que de hecho comprenden el periodo de vacaciones de los colombianos."
      ]
    },
    {
      "cell_type": "code",
      "execution_count": null,
      "metadata": {
        "colab": {
          "background_save": true,
          "base_uri": "https://localhost:8080/",
          "height": 542
        },
        "id": "qtnwydinm6B-",
        "outputId": "536bf1bb-5282-48fe-ed84-870de364211a"
      },
      "outputs": [
        {
          "data": {
            "text/html": [
              "<html>\n",
              "<head><meta charset=\"utf-8\" /></head>\n",
              "<body>\n",
              "    <div>            <script src=\"https://cdnjs.cloudflare.com/ajax/libs/mathjax/2.7.5/MathJax.js?config=TeX-AMS-MML_SVG\"></script><script type=\"text/javascript\">if (window.MathJax) {MathJax.Hub.Config({SVG: {font: \"STIX-Web\"}});}</script>                <script type=\"text/javascript\">window.PlotlyConfig = {MathJaxConfig: 'local'};</script>\n",
              "        <script src=\"https://cdn.plot.ly/plotly-2.8.3.min.js\"></script>                <div id=\"09290f46-4dba-4f6e-890d-1e97f214e7a5\" class=\"plotly-graph-div\" style=\"height:525px; width:100%;\"></div>            <script type=\"text/javascript\">                                    window.PLOTLYENV=window.PLOTLYENV || {};                                    if (document.getElementById(\"09290f46-4dba-4f6e-890d-1e97f214e7a5\")) {                    Plotly.newPlot(                        \"09290f46-4dba-4f6e-890d-1e97f214e7a5\",                        [{\"hovertemplate\":\"fecha_diagnostico=%{x}<br>size=%{y}<extra></extra>\",\"legendgroup\":\"\",\"marker\":{\"color\":\"#636efa\",\"symbol\":\"circle\"},\"mode\":\"markers\",\"name\":\"\",\"orientation\":\"v\",\"showlegend\":false,\"x\":[\"2020-03-06T00:00:00\",\"2020-03-09T00:00:00\",\"2020-03-11T00:00:00\",\"2020-03-12T00:00:00\",\"2020-03-13T00:00:00\",\"2020-03-14T00:00:00\",\"2020-03-15T00:00:00\",\"2020-03-16T00:00:00\",\"2020-03-17T00:00:00\",\"2020-03-18T00:00:00\",\"2020-03-19T00:00:00\",\"2020-03-20T00:00:00\",\"2020-03-21T00:00:00\",\"2020-03-22T00:00:00\",\"2020-03-23T00:00:00\",\"2020-03-24T00:00:00\",\"2020-03-25T00:00:00\",\"2020-03-26T00:00:00\",\"2020-03-27T00:00:00\",\"2020-03-28T00:00:00\",\"2020-03-29T00:00:00\",\"2020-03-30T00:00:00\",\"2020-03-31T00:00:00\",\"2020-04-01T00:00:00\",\"2020-04-02T00:00:00\",\"2020-04-03T00:00:00\",\"2020-04-04T00:00:00\",\"2020-04-05T00:00:00\",\"2020-04-06T00:00:00\",\"2020-04-07T00:00:00\",\"2020-04-08T00:00:00\",\"2020-04-09T00:00:00\",\"2020-04-10T00:00:00\",\"2020-04-11T00:00:00\",\"2020-04-12T00:00:00\",\"2020-04-13T00:00:00\",\"2020-04-14T00:00:00\",\"2020-04-15T00:00:00\",\"2020-04-16T00:00:00\",\"2020-04-17T00:00:00\",\"2020-04-18T00:00:00\",\"2020-04-19T00:00:00\",\"2020-04-20T00:00:00\",\"2020-04-21T00:00:00\",\"2020-04-22T00:00:00\",\"2020-04-23T00:00:00\",\"2020-04-24T00:00:00\",\"2020-04-25T00:00:00\",\"2020-04-26T00:00:00\",\"2020-04-27T00:00:00\",\"2020-04-28T00:00:00\",\"2020-04-29T00:00:00\",\"2020-04-30T00:00:00\",\"2020-05-01T00:00:00\",\"2020-05-02T00:00:00\",\"2020-05-03T00:00:00\",\"2020-05-04T00:00:00\",\"2020-05-05T00:00:00\",\"2020-05-06T00:00:00\",\"2020-05-07T00:00:00\",\"2020-05-08T00:00:00\",\"2020-05-09T00:00:00\",\"2020-05-10T00:00:00\",\"2020-05-11T00:00:00\",\"2020-05-12T00:00:00\",\"2020-05-13T00:00:00\",\"2020-05-14T00:00:00\",\"2020-05-15T00:00:00\",\"2020-05-16T00:00:00\",\"2020-05-17T00:00:00\",\"2020-05-18T00:00:00\",\"2020-05-19T00:00:00\",\"2020-05-20T00:00:00\",\"2020-05-21T00:00:00\",\"2020-05-22T00:00:00\",\"2020-05-23T00:00:00\",\"2020-05-24T00:00:00\",\"2020-05-25T00:00:00\",\"2020-05-26T00:00:00\",\"2020-05-27T00:00:00\",\"2020-05-28T00:00:00\",\"2020-05-29T00:00:00\",\"2020-05-30T00:00:00\",\"2020-05-31T00:00:00\",\"2020-06-01T00:00:00\",\"2020-06-02T00:00:00\",\"2020-06-03T00:00:00\",\"2020-06-04T00:00:00\",\"2020-06-05T00:00:00\",\"2020-06-06T00:00:00\",\"2020-06-07T00:00:00\",\"2020-06-08T00:00:00\",\"2020-06-09T00:00:00\",\"2020-06-10T00:00:00\",\"2020-06-11T00:00:00\",\"2020-06-12T00:00:00\",\"2020-06-13T00:00:00\",\"2020-06-14T00:00:00\",\"2020-06-15T00:00:00\",\"2020-06-16T00:00:00\",\"2020-06-17T00:00:00\",\"2020-06-18T00:00:00\",\"2020-06-19T00:00:00\",\"2020-06-20T00:00:00\",\"2020-06-21T00:00:00\",\"2020-06-22T00:00:00\",\"2020-06-23T00:00:00\",\"2020-06-24T00:00:00\",\"2020-06-25T00:00:00\",\"2020-06-26T00:00:00\",\"2020-06-27T00:00:00\",\"2020-06-28T00:00:00\",\"2020-06-29T00:00:00\",\"2020-06-30T00:00:00\",\"2020-07-01T00:00:00\",\"2020-07-02T00:00:00\",\"2020-07-03T00:00:00\",\"2020-07-04T00:00:00\",\"2020-07-05T00:00:00\",\"2020-07-06T00:00:00\",\"2020-07-07T00:00:00\",\"2020-07-08T00:00:00\",\"2020-07-09T00:00:00\",\"2020-07-10T00:00:00\",\"2020-07-11T00:00:00\",\"2020-07-12T00:00:00\",\"2020-07-13T00:00:00\",\"2020-07-14T00:00:00\",\"2020-07-15T00:00:00\",\"2020-07-16T00:00:00\",\"2020-07-17T00:00:00\",\"2020-07-18T00:00:00\",\"2020-07-19T00:00:00\",\"2020-07-20T00:00:00\",\"2020-07-21T00:00:00\",\"2020-07-22T00:00:00\",\"2020-07-23T00:00:00\",\"2020-07-24T00:00:00\",\"2020-07-25T00:00:00\",\"2020-07-26T00:00:00\",\"2020-07-27T00:00:00\",\"2020-07-28T00:00:00\",\"2020-07-29T00:00:00\",\"2020-07-30T00:00:00\",\"2020-07-31T00:00:00\",\"2020-08-01T00:00:00\",\"2020-08-02T00:00:00\",\"2020-08-03T00:00:00\",\"2020-08-04T00:00:00\",\"2020-08-05T00:00:00\",\"2020-08-06T00:00:00\",\"2020-08-07T00:00:00\",\"2020-08-08T00:00:00\",\"2020-08-09T00:00:00\",\"2020-08-10T00:00:00\",\"2020-08-11T00:00:00\",\"2020-08-12T00:00:00\",\"2020-08-13T00:00:00\",\"2020-08-14T00:00:00\",\"2020-08-15T00:00:00\",\"2020-08-16T00:00:00\",\"2020-08-17T00:00:00\",\"2020-08-18T00:00:00\",\"2020-08-19T00:00:00\",\"2020-08-20T00:00:00\",\"2020-08-21T00:00:00\",\"2020-08-22T00:00:00\",\"2020-08-23T00:00:00\",\"2020-08-24T00:00:00\",\"2020-08-25T00:00:00\",\"2020-08-26T00:00:00\",\"2020-08-27T00:00:00\",\"2020-08-28T00:00:00\",\"2020-08-29T00:00:00\",\"2020-08-30T00:00:00\",\"2020-08-31T00:00:00\",\"2020-09-01T00:00:00\",\"2020-09-02T00:00:00\",\"2020-09-03T00:00:00\",\"2020-09-04T00:00:00\",\"2020-09-05T00:00:00\",\"2020-09-06T00:00:00\",\"2020-09-07T00:00:00\",\"2020-09-08T00:00:00\",\"2020-09-09T00:00:00\",\"2020-09-10T00:00:00\",\"2020-09-11T00:00:00\",\"2020-09-12T00:00:00\",\"2020-09-13T00:00:00\",\"2020-09-14T00:00:00\",\"2020-09-15T00:00:00\",\"2020-09-16T00:00:00\",\"2020-09-17T00:00:00\",\"2020-09-18T00:00:00\",\"2020-09-19T00:00:00\",\"2020-09-20T00:00:00\",\"2020-09-21T00:00:00\",\"2020-09-22T00:00:00\",\"2020-09-23T00:00:00\",\"2020-09-24T00:00:00\",\"2020-09-25T00:00:00\",\"2020-09-26T00:00:00\",\"2020-09-27T00:00:00\",\"2020-09-28T00:00:00\",\"2020-09-29T00:00:00\",\"2020-09-30T00:00:00\",\"2020-10-01T00:00:00\",\"2020-10-02T00:00:00\",\"2020-10-03T00:00:00\",\"2020-10-04T00:00:00\",\"2020-10-05T00:00:00\",\"2020-10-06T00:00:00\",\"2020-10-07T00:00:00\",\"2020-10-07T00:00:01\",\"2020-10-08T00:00:00\",\"2020-10-09T00:00:00\",\"2020-10-10T00:00:00\",\"2020-10-11T00:00:00\",\"2020-10-12T00:00:00\",\"2020-10-13T00:00:00\",\"2020-10-14T00:00:00\",\"2020-10-15T00:00:00\",\"2020-10-16T00:00:00\",\"2020-10-17T00:00:00\",\"2020-10-18T00:00:00\",\"2020-10-19T00:00:00\",\"2020-10-20T00:00:00\",\"2020-10-21T00:00:00\",\"2020-10-22T00:00:00\",\"2020-10-23T00:00:00\",\"2020-10-24T00:00:00\",\"2020-10-25T00:00:00\",\"2020-10-26T00:00:00\",\"2020-10-27T00:00:00\",\"2020-10-28T00:00:00\",\"2020-10-29T00:00:00\",\"2020-10-30T00:00:00\",\"2020-10-31T00:00:00\",\"2020-11-01T00:00:00\",\"2020-11-02T00:00:00\",\"2020-11-03T00:00:00\",\"2020-11-04T00:00:00\",\"2020-11-05T00:00:00\",\"2020-11-06T00:00:00\",\"2020-11-07T00:00:00\",\"2020-11-08T00:00:00\",\"2020-11-09T00:00:00\",\"2020-11-10T00:00:00\",\"2020-11-11T00:00:00\",\"2020-11-12T00:00:00\",\"2020-11-13T00:00:00\",\"2020-11-14T00:00:00\",\"2020-11-15T00:00:00\",\"2020-11-16T00:00:00\",\"2020-11-17T00:00:00\",\"2020-11-18T00:00:00\",\"2020-11-19T00:00:00\",\"2020-11-20T00:00:00\",\"2020-11-21T00:00:00\",\"2020-11-22T00:00:00\",\"2020-11-23T00:00:00\",\"2020-11-24T00:00:00\",\"2020-11-25T00:00:00\",\"2020-11-26T00:00:00\",\"2020-11-27T00:00:00\",\"2020-11-28T00:00:00\",\"2020-11-29T00:00:00\",\"2020-11-30T00:00:00\",\"2020-12-01T00:00:00\",\"2020-12-02T00:00:00\",\"2020-12-03T00:00:00\",\"2020-12-04T00:00:00\",\"2020-12-05T00:00:00\",\"2020-12-06T00:00:00\",\"2020-12-07T00:00:00\",\"2020-12-08T00:00:00\",\"2020-12-09T00:00:00\",\"2020-12-10T00:00:00\",\"2020-12-11T00:00:00\",\"2020-12-12T00:00:00\",\"2020-12-13T00:00:00\",\"2020-12-14T00:00:00\",\"2020-12-15T00:00:00\",\"2020-12-16T00:00:00\",\"2020-12-17T00:00:00\",\"2020-12-18T00:00:00\",\"2020-12-19T00:00:00\",\"2020-12-20T00:00:00\",\"2020-12-21T00:00:00\",\"2020-12-22T00:00:00\",\"2020-12-23T00:00:00\",\"2020-12-24T00:00:00\",\"2020-12-25T00:00:00\",\"2020-12-26T00:00:00\",\"2020-12-27T00:00:00\",\"2020-12-28T00:00:00\",\"2020-12-29T00:00:00\",\"2020-12-30T00:00:00\",\"2020-12-31T00:00:00\",\"2021-01-01T00:00:00\",\"2021-01-02T00:00:00\",\"2021-01-03T00:00:00\",\"2021-01-04T00:00:00\",\"2021-01-05T00:00:00\",\"2021-01-06T00:00:00\",\"2021-01-07T00:00:00\",\"2021-01-08T00:00:00\",\"2021-01-09T00:00:00\",\"2021-01-10T00:00:00\",\"2021-01-11T00:00:00\",\"2021-01-12T00:00:00\",\"2021-01-13T00:00:00\",\"2021-01-14T00:00:00\",\"2021-01-15T00:00:00\",\"2021-01-16T00:00:00\",\"2021-01-17T00:00:00\",\"2021-01-18T00:00:00\",\"2021-01-19T00:00:00\",\"2021-01-20T00:00:00\",\"2021-01-21T00:00:00\",\"2021-01-22T00:00:00\",\"2021-01-23T00:00:00\",\"2021-01-24T00:00:00\",\"2021-01-25T00:00:00\",\"2021-01-26T00:00:00\",\"2021-01-27T00:00:00\",\"2021-01-28T00:00:00\",\"2021-01-29T00:00:00\",\"2021-01-30T00:00:00\",\"2021-01-31T00:00:00\",\"2021-02-01T00:00:00\",\"2021-02-02T00:00:00\",\"2021-02-03T00:00:00\",\"2021-02-04T00:00:00\",\"2021-02-05T00:00:00\",\"2021-02-06T00:00:00\",\"2021-02-07T00:00:00\",\"2021-02-08T00:00:00\",\"2021-02-09T00:00:00\",\"2021-02-10T00:00:00\",\"2021-02-11T00:00:00\",\"2021-02-12T00:00:00\",\"2021-02-13T00:00:00\",\"2021-02-14T00:00:00\",\"2021-02-15T00:00:00\",\"2021-02-16T00:00:00\",\"2021-02-17T00:00:00\",\"2021-02-18T00:00:00\",\"2021-02-19T00:00:00\",\"2021-02-20T00:00:00\",\"2021-02-21T00:00:00\",\"2021-02-22T00:00:00\",\"2021-02-23T00:00:00\",\"2021-02-24T00:00:00\",\"2021-02-25T00:00:00\",\"2021-02-26T00:00:00\",\"2021-02-27T00:00:00\",\"2021-02-28T00:00:00\",\"2021-03-01T00:00:00\",\"2021-03-02T00:00:00\",\"2021-03-03T00:00:00\",\"2021-03-04T00:00:00\",\"2021-03-05T00:00:00\",\"2021-03-06T00:00:00\",\"2021-03-07T00:00:00\",\"2021-03-08T00:00:00\",\"2021-03-09T00:00:00\",\"2021-03-10T00:00:00\",\"2021-03-11T00:00:00\",\"2021-03-12T00:00:00\",\"2021-03-13T00:00:00\",\"2021-03-14T00:00:00\",\"2021-03-15T00:00:00\",\"2021-03-16T00:00:00\",\"2021-03-17T00:00:00\",\"2021-03-18T00:00:00\",\"2021-03-19T00:00:00\",\"2021-03-20T00:00:00\",\"2021-03-21T00:00:00\",\"2021-03-22T00:00:00\",\"2021-03-23T00:00:00\",\"2021-03-24T00:00:00\",\"2021-03-25T00:00:00\",\"2021-03-26T00:00:00\",\"2021-03-27T00:00:00\",\"2021-03-28T00:00:00\",\"2021-03-29T00:00:00\",\"2021-03-30T00:00:00\",\"2021-03-31T00:00:00\",\"2021-04-01T00:00:00\",\"2021-04-02T00:00:00\",\"2021-04-03T00:00:00\",\"2021-04-04T00:00:00\",\"2021-04-05T00:00:00\",\"2021-04-06T00:00:00\",\"2021-04-07T00:00:00\",\"2021-04-08T00:00:00\",\"2021-04-09T00:00:00\",\"2021-04-10T00:00:00\",\"2021-04-11T00:00:00\",\"2021-04-12T00:00:00\",\"2021-04-13T00:00:00\",\"2021-04-14T00:00:00\",\"2021-04-15T00:00:00\",\"2021-04-16T00:00:00\",\"2021-04-17T00:00:00\",\"2021-04-18T00:00:00\",\"2021-04-19T00:00:00\",\"2021-04-20T00:00:00\",\"2021-04-21T00:00:00\",\"2021-04-22T00:00:00\",\"2021-04-23T00:00:00\",\"2021-04-24T00:00:00\",\"2021-04-25T00:00:00\",\"2021-04-26T00:00:00\",\"2021-04-27T00:00:00\",\"2021-04-28T00:00:00\",\"2021-04-29T00:00:00\",\"2021-04-30T00:00:00\",\"2021-05-01T00:00:00\",\"2021-05-02T00:00:00\",\"2021-05-03T00:00:00\",\"2021-05-04T00:00:00\",\"2021-05-05T00:00:00\",\"2021-05-06T00:00:00\",\"2021-05-07T00:00:00\",\"2021-05-08T00:00:00\",\"2021-05-09T00:00:00\",\"2021-05-10T00:00:00\",\"2021-05-11T00:00:00\",\"2021-05-12T00:00:00\",\"2021-05-13T00:00:00\",\"2021-05-14T00:00:00\",\"2021-05-15T00:00:00\",\"2021-05-16T00:00:00\",\"2021-05-17T00:00:00\",\"2021-05-18T00:00:00\",\"2021-05-19T00:00:00\",\"2021-05-20T00:00:00\",\"2021-05-21T00:00:00\",\"2021-05-22T00:00:00\",\"2021-05-23T00:00:00\",\"2021-05-24T00:00:00\",\"2021-05-25T00:00:00\",\"2021-05-26T00:00:00\",\"2021-05-27T00:00:00\",\"2021-05-28T00:00:00\",\"2021-05-29T00:00:00\",\"2021-05-30T00:00:00\",\"2021-05-31T00:00:00\",\"2021-06-01T00:00:00\",\"2021-06-02T00:00:00\",\"2021-06-03T00:00:00\",\"2021-06-04T00:00:00\",\"2021-06-05T00:00:00\",\"2021-06-06T00:00:00\",\"2021-06-07T00:00:00\",\"2021-06-08T00:00:00\",\"2021-06-09T00:00:00\",\"2021-06-10T00:00:00\",\"2021-06-11T00:00:00\",\"2021-06-12T00:00:00\",\"2021-06-13T00:00:00\",\"2021-06-14T00:00:00\",\"2021-06-15T00:00:00\",\"2021-06-16T00:00:00\",\"2021-06-17T00:00:00\",\"2021-06-18T00:00:00\",\"2021-06-19T00:00:00\",\"2021-06-20T00:00:00\",\"2021-06-21T00:00:00\",\"2021-06-22T00:00:00\",\"2021-06-23T00:00:00\",\"2021-06-24T00:00:00\",\"2021-06-25T00:00:00\",\"2021-06-26T00:00:00\",\"2021-06-27T00:00:00\",\"2021-06-28T00:00:00\",\"2021-06-29T00:00:00\",\"2021-06-30T00:00:00\",\"2021-07-01T00:00:00\",\"2021-07-02T00:00:00\",\"2021-07-03T00:00:00\",\"2021-07-04T00:00:00\",\"2021-07-05T00:00:00\",\"2021-07-06T00:00:00\",\"2021-07-07T00:00:00\",\"2021-07-08T00:00:00\",\"2021-07-09T00:00:00\",\"2021-07-10T00:00:00\",\"2021-07-11T00:00:00\",\"2021-07-12T00:00:00\",\"2021-07-13T00:00:00\",\"2021-07-14T00:00:00\",\"2021-07-15T00:00:00\",\"2021-07-16T00:00:00\",\"2021-07-17T00:00:00\",\"2021-07-18T00:00:00\",\"2021-07-19T00:00:00\",\"2021-07-20T00:00:00\",\"2021-07-21T00:00:00\",\"2021-07-22T00:00:00\",\"2021-07-23T00:00:00\",\"2021-07-24T00:00:00\",\"2021-07-25T00:00:00\",\"2021-07-26T00:00:00\",\"2021-07-27T00:00:00\",\"2021-07-28T00:00:00\",\"2021-07-29T00:00:00\",\"2021-07-30T00:00:00\",\"2021-07-31T00:00:00\",\"2021-08-01T00:00:00\",\"2021-08-02T00:00:00\",\"2021-08-03T00:00:00\",\"2021-08-04T00:00:00\",\"2021-08-05T00:00:00\",\"2021-08-06T00:00:00\",\"2021-08-07T00:00:00\",\"2021-08-08T00:00:00\",\"2021-08-09T00:00:00\",\"2021-08-10T00:00:00\",\"2021-08-11T00:00:00\",\"2021-08-12T00:00:00\",\"2021-08-13T00:00:00\",\"2021-08-14T00:00:00\",\"2021-08-15T00:00:00\",\"2021-08-16T00:00:00\",\"2021-08-17T00:00:00\",\"2021-08-18T00:00:00\",\"2021-08-19T00:00:00\",\"2021-08-20T00:00:00\",\"2021-08-21T00:00:00\",\"2021-08-22T00:00:00\",\"2021-08-23T00:00:00\",\"2021-08-24T00:00:00\",\"2021-08-25T00:00:00\",\"2021-08-26T00:00:00\",\"2021-08-27T00:00:00\",\"2021-08-28T00:00:00\",\"2021-08-29T00:00:00\",\"2021-08-30T00:00:00\",\"2021-09-22T00:00:00\",\"2021-11-19T00:00:00\",\"2021-12-06T00:00:00\",\"2021-12-28T00:00:00\",\"2021-12-30T00:00:00\"],\"xaxis\":\"x\",\"y\":[1,2,6,4,5,16,20,14,26,12,27,48,35,29,73,105,61,10,49,72,96,97,109,162,98,107,139,80,98,133,347,172,252,236,69,77,131,136,135,213,187,177,186,176,198,195,310,269,240,221,358,263,313,480,285,425,312,657,357,514,625,457,595,550,24,25,27,32,35,30,482,675,796,383,42,48,34,50,81,57,49,48,907,1138,923,290,45,39,32,35,95,49,60,1164,1963,1308,2192,2286,1685,2278,1541,3035,3093,2279,2794,732,626,1803,254,1107,1946,335,213,400,2945,4242,3871,4406,3860,3306,4549,809,2257,1566,2633,675,2919,6568,5176,5635,1699,1513,4806,2705,6590,8888,4011,3477,3297,1494,4854,13550,6811,2668,4641,2739,9234,4973,4039,3919,7424,6721,6264,3694,4084,13242,4993,3523,2761,8282,7717,4035,4034,10841,6307,4320,5819,5984,5136,3941,5568,6013,5080,1709,2402,7730,7061,3358,2570,5153,6848,3042,2592,3194,4735,7208,4652,2476,694,3294,7697,5674,2907,2649,3762,3702,5555,1984,5534,5871,3697,2904,1331,3644,4620,5920,5504,5033,4204,2152,3692,2789,4463,1,5544,4185,3893,2876,3244,5262,4855,5043,5372,4650,3068,5183,6307,7000,5122,5532,3225,2639,4705,5915,4799,4190,6582,6284,3442,3172,5810,6514,5880,2322,3614,3189,5450,4734,5285,5749,4950,4525,2365,2931,5958,4949,5728,7730,4932,2477,5373,5415,5674,5152,5168,3780,2738,4848,4603,4576,4532,6642,4438,2920,5592,3596,6236,6148,6849,6220,3157,6388,7151,8629,7989,7762,6802,4421,8007,8539,8463,8346,3039,7488,5810,9240,10474,11374,7736,2956,6633,5936,9873,13728,12718,11609,11868,9647,5920,5070,15417,18788,21946,19681,15696,12093,15768,17650,15334,15161,14305,12906,7804,13265,11614,11509,10856,9732,7758,5718,7942,6999,6918,7195,5967,4972,3515,4929,5795,5246,5072,4637,4245,2639,3207,4397,4174,4411,3930,3841,2035,3462,3512,3637,3817,3738,3167,2076,3205,3360,3558,3941,3637,3519,2025,3296,3532,4778,4365,4441,3949,2691,4287,4945,5603,6341,6316,5447,4009,2994,6151,5071,2250,1104,435,234,355,948,3373,3669,1588,451,375,1828,4830,8611,6890,2095,314,140,381,688,1475,3518,4508,9785,7486,4712,705,1160,1647,4692,9600,8322,5309,974,885,1386,4403,6334,8055,5127,409,443,702,794,1140,1058,5771,10897,9421,3189,1025,2278,1585,2120,8534,8023,8148,4548,457,161,518,604,899,797,963,703,585,2271,3060,3278,3725,5883,11299,13481,18217,29905,30051,29636,29291,22951,14226,10535,24468,19162,25243,28681,27405,19327,32931,31256,33734,33121,33957,29170,19371,31091,31908,29069,28626,26788,23929,16213,15653,23544,22474,21950,22004,19169,13148,18668,18905,17875,16852,17399,13915,8727,13358,7801,11217,12128,11798,10101,5722,8902,8330,8591,8656,8268,6459,4134,5955,5850,5753,5643,5462,3666,2100,3881,4138,4224,3718,3895,2785,1730,1386,2550,2760,2916,2809,2213,1373,2223,1990,1865,2196,1924,1587,641,418,1,1,1,1,1],\"yaxis\":\"y\",\"type\":\"scatter\"}],                        {\"template\":{\"data\":{\"bar\":[{\"error_x\":{\"color\":\"#2a3f5f\"},\"error_y\":{\"color\":\"#2a3f5f\"},\"marker\":{\"line\":{\"color\":\"#E5ECF6\",\"width\":0.5},\"pattern\":{\"fillmode\":\"overlay\",\"size\":10,\"solidity\":0.2}},\"type\":\"bar\"}],\"barpolar\":[{\"marker\":{\"line\":{\"color\":\"#E5ECF6\",\"width\":0.5},\"pattern\":{\"fillmode\":\"overlay\",\"size\":10,\"solidity\":0.2}},\"type\":\"barpolar\"}],\"carpet\":[{\"aaxis\":{\"endlinecolor\":\"#2a3f5f\",\"gridcolor\":\"white\",\"linecolor\":\"white\",\"minorgridcolor\":\"white\",\"startlinecolor\":\"#2a3f5f\"},\"baxis\":{\"endlinecolor\":\"#2a3f5f\",\"gridcolor\":\"white\",\"linecolor\":\"white\",\"minorgridcolor\":\"white\",\"startlinecolor\":\"#2a3f5f\"},\"type\":\"carpet\"}],\"choropleth\":[{\"colorbar\":{\"outlinewidth\":0,\"ticks\":\"\"},\"type\":\"choropleth\"}],\"contour\":[{\"colorbar\":{\"outlinewidth\":0,\"ticks\":\"\"},\"colorscale\":[[0.0,\"#0d0887\"],[0.1111111111111111,\"#46039f\"],[0.2222222222222222,\"#7201a8\"],[0.3333333333333333,\"#9c179e\"],[0.4444444444444444,\"#bd3786\"],[0.5555555555555556,\"#d8576b\"],[0.6666666666666666,\"#ed7953\"],[0.7777777777777778,\"#fb9f3a\"],[0.8888888888888888,\"#fdca26\"],[1.0,\"#f0f921\"]],\"type\":\"contour\"}],\"contourcarpet\":[{\"colorbar\":{\"outlinewidth\":0,\"ticks\":\"\"},\"type\":\"contourcarpet\"}],\"heatmap\":[{\"colorbar\":{\"outlinewidth\":0,\"ticks\":\"\"},\"colorscale\":[[0.0,\"#0d0887\"],[0.1111111111111111,\"#46039f\"],[0.2222222222222222,\"#7201a8\"],[0.3333333333333333,\"#9c179e\"],[0.4444444444444444,\"#bd3786\"],[0.5555555555555556,\"#d8576b\"],[0.6666666666666666,\"#ed7953\"],[0.7777777777777778,\"#fb9f3a\"],[0.8888888888888888,\"#fdca26\"],[1.0,\"#f0f921\"]],\"type\":\"heatmap\"}],\"heatmapgl\":[{\"colorbar\":{\"outlinewidth\":0,\"ticks\":\"\"},\"colorscale\":[[0.0,\"#0d0887\"],[0.1111111111111111,\"#46039f\"],[0.2222222222222222,\"#7201a8\"],[0.3333333333333333,\"#9c179e\"],[0.4444444444444444,\"#bd3786\"],[0.5555555555555556,\"#d8576b\"],[0.6666666666666666,\"#ed7953\"],[0.7777777777777778,\"#fb9f3a\"],[0.8888888888888888,\"#fdca26\"],[1.0,\"#f0f921\"]],\"type\":\"heatmapgl\"}],\"histogram\":[{\"marker\":{\"pattern\":{\"fillmode\":\"overlay\",\"size\":10,\"solidity\":0.2}},\"type\":\"histogram\"}],\"histogram2d\":[{\"colorbar\":{\"outlinewidth\":0,\"ticks\":\"\"},\"colorscale\":[[0.0,\"#0d0887\"],[0.1111111111111111,\"#46039f\"],[0.2222222222222222,\"#7201a8\"],[0.3333333333333333,\"#9c179e\"],[0.4444444444444444,\"#bd3786\"],[0.5555555555555556,\"#d8576b\"],[0.6666666666666666,\"#ed7953\"],[0.7777777777777778,\"#fb9f3a\"],[0.8888888888888888,\"#fdca26\"],[1.0,\"#f0f921\"]],\"type\":\"histogram2d\"}],\"histogram2dcontour\":[{\"colorbar\":{\"outlinewidth\":0,\"ticks\":\"\"},\"colorscale\":[[0.0,\"#0d0887\"],[0.1111111111111111,\"#46039f\"],[0.2222222222222222,\"#7201a8\"],[0.3333333333333333,\"#9c179e\"],[0.4444444444444444,\"#bd3786\"],[0.5555555555555556,\"#d8576b\"],[0.6666666666666666,\"#ed7953\"],[0.7777777777777778,\"#fb9f3a\"],[0.8888888888888888,\"#fdca26\"],[1.0,\"#f0f921\"]],\"type\":\"histogram2dcontour\"}],\"mesh3d\":[{\"colorbar\":{\"outlinewidth\":0,\"ticks\":\"\"},\"type\":\"mesh3d\"}],\"parcoords\":[{\"line\":{\"colorbar\":{\"outlinewidth\":0,\"ticks\":\"\"}},\"type\":\"parcoords\"}],\"pie\":[{\"automargin\":true,\"type\":\"pie\"}],\"scatter\":[{\"marker\":{\"colorbar\":{\"outlinewidth\":0,\"ticks\":\"\"}},\"type\":\"scatter\"}],\"scatter3d\":[{\"line\":{\"colorbar\":{\"outlinewidth\":0,\"ticks\":\"\"}},\"marker\":{\"colorbar\":{\"outlinewidth\":0,\"ticks\":\"\"}},\"type\":\"scatter3d\"}],\"scattercarpet\":[{\"marker\":{\"colorbar\":{\"outlinewidth\":0,\"ticks\":\"\"}},\"type\":\"scattercarpet\"}],\"scattergeo\":[{\"marker\":{\"colorbar\":{\"outlinewidth\":0,\"ticks\":\"\"}},\"type\":\"scattergeo\"}],\"scattergl\":[{\"marker\":{\"colorbar\":{\"outlinewidth\":0,\"ticks\":\"\"}},\"type\":\"scattergl\"}],\"scattermapbox\":[{\"marker\":{\"colorbar\":{\"outlinewidth\":0,\"ticks\":\"\"}},\"type\":\"scattermapbox\"}],\"scatterpolar\":[{\"marker\":{\"colorbar\":{\"outlinewidth\":0,\"ticks\":\"\"}},\"type\":\"scatterpolar\"}],\"scatterpolargl\":[{\"marker\":{\"colorbar\":{\"outlinewidth\":0,\"ticks\":\"\"}},\"type\":\"scatterpolargl\"}],\"scatterternary\":[{\"marker\":{\"colorbar\":{\"outlinewidth\":0,\"ticks\":\"\"}},\"type\":\"scatterternary\"}],\"surface\":[{\"colorbar\":{\"outlinewidth\":0,\"ticks\":\"\"},\"colorscale\":[[0.0,\"#0d0887\"],[0.1111111111111111,\"#46039f\"],[0.2222222222222222,\"#7201a8\"],[0.3333333333333333,\"#9c179e\"],[0.4444444444444444,\"#bd3786\"],[0.5555555555555556,\"#d8576b\"],[0.6666666666666666,\"#ed7953\"],[0.7777777777777778,\"#fb9f3a\"],[0.8888888888888888,\"#fdca26\"],[1.0,\"#f0f921\"]],\"type\":\"surface\"}],\"table\":[{\"cells\":{\"fill\":{\"color\":\"#EBF0F8\"},\"line\":{\"color\":\"white\"}},\"header\":{\"fill\":{\"color\":\"#C8D4E3\"},\"line\":{\"color\":\"white\"}},\"type\":\"table\"}]},\"layout\":{\"annotationdefaults\":{\"arrowcolor\":\"#2a3f5f\",\"arrowhead\":0,\"arrowwidth\":1},\"autotypenumbers\":\"strict\",\"coloraxis\":{\"colorbar\":{\"outlinewidth\":0,\"ticks\":\"\"}},\"colorscale\":{\"diverging\":[[0,\"#8e0152\"],[0.1,\"#c51b7d\"],[0.2,\"#de77ae\"],[0.3,\"#f1b6da\"],[0.4,\"#fde0ef\"],[0.5,\"#f7f7f7\"],[0.6,\"#e6f5d0\"],[0.7,\"#b8e186\"],[0.8,\"#7fbc41\"],[0.9,\"#4d9221\"],[1,\"#276419\"]],\"sequential\":[[0.0,\"#0d0887\"],[0.1111111111111111,\"#46039f\"],[0.2222222222222222,\"#7201a8\"],[0.3333333333333333,\"#9c179e\"],[0.4444444444444444,\"#bd3786\"],[0.5555555555555556,\"#d8576b\"],[0.6666666666666666,\"#ed7953\"],[0.7777777777777778,\"#fb9f3a\"],[0.8888888888888888,\"#fdca26\"],[1.0,\"#f0f921\"]],\"sequentialminus\":[[0.0,\"#0d0887\"],[0.1111111111111111,\"#46039f\"],[0.2222222222222222,\"#7201a8\"],[0.3333333333333333,\"#9c179e\"],[0.4444444444444444,\"#bd3786\"],[0.5555555555555556,\"#d8576b\"],[0.6666666666666666,\"#ed7953\"],[0.7777777777777778,\"#fb9f3a\"],[0.8888888888888888,\"#fdca26\"],[1.0,\"#f0f921\"]]},\"colorway\":[\"#636efa\",\"#EF553B\",\"#00cc96\",\"#ab63fa\",\"#FFA15A\",\"#19d3f3\",\"#FF6692\",\"#B6E880\",\"#FF97FF\",\"#FECB52\"],\"font\":{\"color\":\"#2a3f5f\"},\"geo\":{\"bgcolor\":\"white\",\"lakecolor\":\"white\",\"landcolor\":\"#E5ECF6\",\"showlakes\":true,\"showland\":true,\"subunitcolor\":\"white\"},\"hoverlabel\":{\"align\":\"left\"},\"hovermode\":\"closest\",\"mapbox\":{\"style\":\"light\"},\"paper_bgcolor\":\"white\",\"plot_bgcolor\":\"#E5ECF6\",\"polar\":{\"angularaxis\":{\"gridcolor\":\"white\",\"linecolor\":\"white\",\"ticks\":\"\"},\"bgcolor\":\"#E5ECF6\",\"radialaxis\":{\"gridcolor\":\"white\",\"linecolor\":\"white\",\"ticks\":\"\"}},\"scene\":{\"xaxis\":{\"backgroundcolor\":\"#E5ECF6\",\"gridcolor\":\"white\",\"gridwidth\":2,\"linecolor\":\"white\",\"showbackground\":true,\"ticks\":\"\",\"zerolinecolor\":\"white\"},\"yaxis\":{\"backgroundcolor\":\"#E5ECF6\",\"gridcolor\":\"white\",\"gridwidth\":2,\"linecolor\":\"white\",\"showbackground\":true,\"ticks\":\"\",\"zerolinecolor\":\"white\"},\"zaxis\":{\"backgroundcolor\":\"#E5ECF6\",\"gridcolor\":\"white\",\"gridwidth\":2,\"linecolor\":\"white\",\"showbackground\":true,\"ticks\":\"\",\"zerolinecolor\":\"white\"}},\"shapedefaults\":{\"line\":{\"color\":\"#2a3f5f\"}},\"ternary\":{\"aaxis\":{\"gridcolor\":\"white\",\"linecolor\":\"white\",\"ticks\":\"\"},\"baxis\":{\"gridcolor\":\"white\",\"linecolor\":\"white\",\"ticks\":\"\"},\"bgcolor\":\"#E5ECF6\",\"caxis\":{\"gridcolor\":\"white\",\"linecolor\":\"white\",\"ticks\":\"\"}},\"title\":{\"x\":0.05},\"xaxis\":{\"automargin\":true,\"gridcolor\":\"white\",\"linecolor\":\"white\",\"ticks\":\"\",\"title\":{\"standoff\":15},\"zerolinecolor\":\"white\",\"zerolinewidth\":2},\"yaxis\":{\"automargin\":true,\"gridcolor\":\"white\",\"linecolor\":\"white\",\"ticks\":\"\",\"title\":{\"standoff\":15},\"zerolinecolor\":\"white\",\"zerolinewidth\":2}}},\"xaxis\":{\"anchor\":\"y\",\"domain\":[0.0,1.0],\"title\":{\"text\":\"fecha_diagnostico\"}},\"yaxis\":{\"anchor\":\"x\",\"domain\":[0.0,1.0],\"title\":{\"text\":\"size\"}},\"legend\":{\"tracegroupgap\":0},\"margin\":{\"t\":60}},                        {\"responsive\": true}                    ).then(function(){\n",
              "                            \n",
              "var gd = document.getElementById('09290f46-4dba-4f6e-890d-1e97f214e7a5');\n",
              "var x = new MutationObserver(function (mutations, observer) {{\n",
              "        var display = window.getComputedStyle(gd).display;\n",
              "        if (!display || display === 'none') {{\n",
              "            console.log([gd, 'removed!']);\n",
              "            Plotly.purge(gd);\n",
              "            observer.disconnect();\n",
              "        }}\n",
              "}});\n",
              "\n",
              "// Listen for the removal of the full notebook cells\n",
              "var notebookContainer = gd.closest('#notebook-container');\n",
              "if (notebookContainer) {{\n",
              "    x.observe(notebookContainer, {childList: true});\n",
              "}}\n",
              "\n",
              "// Listen for the clearing of the current output cell\n",
              "var outputEl = gd.closest('.output');\n",
              "if (outputEl) {{\n",
              "    x.observe(outputEl, {childList: true});\n",
              "}}\n",
              "\n",
              "                        })                };                            </script>        </div>\n",
              "</body>\n",
              "</html>"
            ]
          },
          "metadata": {},
          "output_type": "display_data"
        }
      ],
      "source": [
        "covidByDate = covid.groupby(\"fecha_diagnostico\", as_index=False).size().sort_values(by=\"fecha_diagnostico\")\n",
        "px.scatter(data_frame=covidByDate, x=\"fecha_diagnostico\", y=\"size\")"
      ]
    },
    {
      "cell_type": "markdown",
      "metadata": {
        "id": "jue6tpAZoRpV"
      },
      "source": [
        "A continuación se grafica a través de un gráfico de barras la cantidad de casos covid-19 por mes en el territorio colombiano, para ello se crea una nueva columna y a partir de cada registro se toma la columna `fecha_de_notificaci_n` que es de tipo datetime, allí se obtiene el mes y se procede a plotear usando plotly."
      ]
    },
    {
      "cell_type": "code",
      "execution_count": null,
      "metadata": {
        "colab": {
          "background_save": true,
          "base_uri": "https://localhost:8080/",
          "height": 542
        },
        "id": "KDfnRH69976I",
        "outputId": "1a750a4e-863d-4748-8b83-17b7e636e7ee"
      },
      "outputs": [
        {
          "data": {
            "text/html": [
              "<html>\n",
              "<head><meta charset=\"utf-8\" /></head>\n",
              "<body>\n",
              "    <div>            <script src=\"https://cdnjs.cloudflare.com/ajax/libs/mathjax/2.7.5/MathJax.js?config=TeX-AMS-MML_SVG\"></script><script type=\"text/javascript\">if (window.MathJax) {MathJax.Hub.Config({SVG: {font: \"STIX-Web\"}});}</script>                <script type=\"text/javascript\">window.PlotlyConfig = {MathJaxConfig: 'local'};</script>\n",
              "        <script src=\"https://cdn.plot.ly/plotly-2.8.3.min.js\"></script>                <div id=\"a71f1a20-6db7-4115-a03f-bcc96c5d573e\" class=\"plotly-graph-div\" style=\"height:525px; width:100%;\"></div>            <script type=\"text/javascript\">                                    window.PLOTLYENV=window.PLOTLYENV || {};                                    if (document.getElementById(\"a71f1a20-6db7-4115-a03f-bcc96c5d573e\")) {                    Plotly.newPlot(                        \"a71f1a20-6db7-4115-a03f-bcc96c5d573e\",                        [{\"alignmentgroup\":\"True\",\"hovertemplate\":\"month=%{x}<br>size=%{y}<extra></extra>\",\"legendgroup\":\"\",\"marker\":{\"color\":\"#636efa\",\"pattern\":{\"shape\":\"\"}},\"name\":\"\",\"offsetgroup\":\"\",\"orientation\":\"v\",\"showlegend\":false,\"textposition\":\"auto\",\"x\":[1,2,3,4,5,6,7,8,9,10,11,12],\"xaxis\":\"x\",\"y\":[364047,114928,107443,119747,133282,782054,538063,226207,115527,150984,129274,218444],\"yaxis\":\"y\",\"type\":\"bar\"}],                        {\"template\":{\"data\":{\"bar\":[{\"error_x\":{\"color\":\"#2a3f5f\"},\"error_y\":{\"color\":\"#2a3f5f\"},\"marker\":{\"line\":{\"color\":\"#E5ECF6\",\"width\":0.5},\"pattern\":{\"fillmode\":\"overlay\",\"size\":10,\"solidity\":0.2}},\"type\":\"bar\"}],\"barpolar\":[{\"marker\":{\"line\":{\"color\":\"#E5ECF6\",\"width\":0.5},\"pattern\":{\"fillmode\":\"overlay\",\"size\":10,\"solidity\":0.2}},\"type\":\"barpolar\"}],\"carpet\":[{\"aaxis\":{\"endlinecolor\":\"#2a3f5f\",\"gridcolor\":\"white\",\"linecolor\":\"white\",\"minorgridcolor\":\"white\",\"startlinecolor\":\"#2a3f5f\"},\"baxis\":{\"endlinecolor\":\"#2a3f5f\",\"gridcolor\":\"white\",\"linecolor\":\"white\",\"minorgridcolor\":\"white\",\"startlinecolor\":\"#2a3f5f\"},\"type\":\"carpet\"}],\"choropleth\":[{\"colorbar\":{\"outlinewidth\":0,\"ticks\":\"\"},\"type\":\"choropleth\"}],\"contour\":[{\"colorbar\":{\"outlinewidth\":0,\"ticks\":\"\"},\"colorscale\":[[0.0,\"#0d0887\"],[0.1111111111111111,\"#46039f\"],[0.2222222222222222,\"#7201a8\"],[0.3333333333333333,\"#9c179e\"],[0.4444444444444444,\"#bd3786\"],[0.5555555555555556,\"#d8576b\"],[0.6666666666666666,\"#ed7953\"],[0.7777777777777778,\"#fb9f3a\"],[0.8888888888888888,\"#fdca26\"],[1.0,\"#f0f921\"]],\"type\":\"contour\"}],\"contourcarpet\":[{\"colorbar\":{\"outlinewidth\":0,\"ticks\":\"\"},\"type\":\"contourcarpet\"}],\"heatmap\":[{\"colorbar\":{\"outlinewidth\":0,\"ticks\":\"\"},\"colorscale\":[[0.0,\"#0d0887\"],[0.1111111111111111,\"#46039f\"],[0.2222222222222222,\"#7201a8\"],[0.3333333333333333,\"#9c179e\"],[0.4444444444444444,\"#bd3786\"],[0.5555555555555556,\"#d8576b\"],[0.6666666666666666,\"#ed7953\"],[0.7777777777777778,\"#fb9f3a\"],[0.8888888888888888,\"#fdca26\"],[1.0,\"#f0f921\"]],\"type\":\"heatmap\"}],\"heatmapgl\":[{\"colorbar\":{\"outlinewidth\":0,\"ticks\":\"\"},\"colorscale\":[[0.0,\"#0d0887\"],[0.1111111111111111,\"#46039f\"],[0.2222222222222222,\"#7201a8\"],[0.3333333333333333,\"#9c179e\"],[0.4444444444444444,\"#bd3786\"],[0.5555555555555556,\"#d8576b\"],[0.6666666666666666,\"#ed7953\"],[0.7777777777777778,\"#fb9f3a\"],[0.8888888888888888,\"#fdca26\"],[1.0,\"#f0f921\"]],\"type\":\"heatmapgl\"}],\"histogram\":[{\"marker\":{\"pattern\":{\"fillmode\":\"overlay\",\"size\":10,\"solidity\":0.2}},\"type\":\"histogram\"}],\"histogram2d\":[{\"colorbar\":{\"outlinewidth\":0,\"ticks\":\"\"},\"colorscale\":[[0.0,\"#0d0887\"],[0.1111111111111111,\"#46039f\"],[0.2222222222222222,\"#7201a8\"],[0.3333333333333333,\"#9c179e\"],[0.4444444444444444,\"#bd3786\"],[0.5555555555555556,\"#d8576b\"],[0.6666666666666666,\"#ed7953\"],[0.7777777777777778,\"#fb9f3a\"],[0.8888888888888888,\"#fdca26\"],[1.0,\"#f0f921\"]],\"type\":\"histogram2d\"}],\"histogram2dcontour\":[{\"colorbar\":{\"outlinewidth\":0,\"ticks\":\"\"},\"colorscale\":[[0.0,\"#0d0887\"],[0.1111111111111111,\"#46039f\"],[0.2222222222222222,\"#7201a8\"],[0.3333333333333333,\"#9c179e\"],[0.4444444444444444,\"#bd3786\"],[0.5555555555555556,\"#d8576b\"],[0.6666666666666666,\"#ed7953\"],[0.7777777777777778,\"#fb9f3a\"],[0.8888888888888888,\"#fdca26\"],[1.0,\"#f0f921\"]],\"type\":\"histogram2dcontour\"}],\"mesh3d\":[{\"colorbar\":{\"outlinewidth\":0,\"ticks\":\"\"},\"type\":\"mesh3d\"}],\"parcoords\":[{\"line\":{\"colorbar\":{\"outlinewidth\":0,\"ticks\":\"\"}},\"type\":\"parcoords\"}],\"pie\":[{\"automargin\":true,\"type\":\"pie\"}],\"scatter\":[{\"marker\":{\"colorbar\":{\"outlinewidth\":0,\"ticks\":\"\"}},\"type\":\"scatter\"}],\"scatter3d\":[{\"line\":{\"colorbar\":{\"outlinewidth\":0,\"ticks\":\"\"}},\"marker\":{\"colorbar\":{\"outlinewidth\":0,\"ticks\":\"\"}},\"type\":\"scatter3d\"}],\"scattercarpet\":[{\"marker\":{\"colorbar\":{\"outlinewidth\":0,\"ticks\":\"\"}},\"type\":\"scattercarpet\"}],\"scattergeo\":[{\"marker\":{\"colorbar\":{\"outlinewidth\":0,\"ticks\":\"\"}},\"type\":\"scattergeo\"}],\"scattergl\":[{\"marker\":{\"colorbar\":{\"outlinewidth\":0,\"ticks\":\"\"}},\"type\":\"scattergl\"}],\"scattermapbox\":[{\"marker\":{\"colorbar\":{\"outlinewidth\":0,\"ticks\":\"\"}},\"type\":\"scattermapbox\"}],\"scatterpolar\":[{\"marker\":{\"colorbar\":{\"outlinewidth\":0,\"ticks\":\"\"}},\"type\":\"scatterpolar\"}],\"scatterpolargl\":[{\"marker\":{\"colorbar\":{\"outlinewidth\":0,\"ticks\":\"\"}},\"type\":\"scatterpolargl\"}],\"scatterternary\":[{\"marker\":{\"colorbar\":{\"outlinewidth\":0,\"ticks\":\"\"}},\"type\":\"scatterternary\"}],\"surface\":[{\"colorbar\":{\"outlinewidth\":0,\"ticks\":\"\"},\"colorscale\":[[0.0,\"#0d0887\"],[0.1111111111111111,\"#46039f\"],[0.2222222222222222,\"#7201a8\"],[0.3333333333333333,\"#9c179e\"],[0.4444444444444444,\"#bd3786\"],[0.5555555555555556,\"#d8576b\"],[0.6666666666666666,\"#ed7953\"],[0.7777777777777778,\"#fb9f3a\"],[0.8888888888888888,\"#fdca26\"],[1.0,\"#f0f921\"]],\"type\":\"surface\"}],\"table\":[{\"cells\":{\"fill\":{\"color\":\"#EBF0F8\"},\"line\":{\"color\":\"white\"}},\"header\":{\"fill\":{\"color\":\"#C8D4E3\"},\"line\":{\"color\":\"white\"}},\"type\":\"table\"}]},\"layout\":{\"annotationdefaults\":{\"arrowcolor\":\"#2a3f5f\",\"arrowhead\":0,\"arrowwidth\":1},\"autotypenumbers\":\"strict\",\"coloraxis\":{\"colorbar\":{\"outlinewidth\":0,\"ticks\":\"\"}},\"colorscale\":{\"diverging\":[[0,\"#8e0152\"],[0.1,\"#c51b7d\"],[0.2,\"#de77ae\"],[0.3,\"#f1b6da\"],[0.4,\"#fde0ef\"],[0.5,\"#f7f7f7\"],[0.6,\"#e6f5d0\"],[0.7,\"#b8e186\"],[0.8,\"#7fbc41\"],[0.9,\"#4d9221\"],[1,\"#276419\"]],\"sequential\":[[0.0,\"#0d0887\"],[0.1111111111111111,\"#46039f\"],[0.2222222222222222,\"#7201a8\"],[0.3333333333333333,\"#9c179e\"],[0.4444444444444444,\"#bd3786\"],[0.5555555555555556,\"#d8576b\"],[0.6666666666666666,\"#ed7953\"],[0.7777777777777778,\"#fb9f3a\"],[0.8888888888888888,\"#fdca26\"],[1.0,\"#f0f921\"]],\"sequentialminus\":[[0.0,\"#0d0887\"],[0.1111111111111111,\"#46039f\"],[0.2222222222222222,\"#7201a8\"],[0.3333333333333333,\"#9c179e\"],[0.4444444444444444,\"#bd3786\"],[0.5555555555555556,\"#d8576b\"],[0.6666666666666666,\"#ed7953\"],[0.7777777777777778,\"#fb9f3a\"],[0.8888888888888888,\"#fdca26\"],[1.0,\"#f0f921\"]]},\"colorway\":[\"#636efa\",\"#EF553B\",\"#00cc96\",\"#ab63fa\",\"#FFA15A\",\"#19d3f3\",\"#FF6692\",\"#B6E880\",\"#FF97FF\",\"#FECB52\"],\"font\":{\"color\":\"#2a3f5f\"},\"geo\":{\"bgcolor\":\"white\",\"lakecolor\":\"white\",\"landcolor\":\"#E5ECF6\",\"showlakes\":true,\"showland\":true,\"subunitcolor\":\"white\"},\"hoverlabel\":{\"align\":\"left\"},\"hovermode\":\"closest\",\"mapbox\":{\"style\":\"light\"},\"paper_bgcolor\":\"white\",\"plot_bgcolor\":\"#E5ECF6\",\"polar\":{\"angularaxis\":{\"gridcolor\":\"white\",\"linecolor\":\"white\",\"ticks\":\"\"},\"bgcolor\":\"#E5ECF6\",\"radialaxis\":{\"gridcolor\":\"white\",\"linecolor\":\"white\",\"ticks\":\"\"}},\"scene\":{\"xaxis\":{\"backgroundcolor\":\"#E5ECF6\",\"gridcolor\":\"white\",\"gridwidth\":2,\"linecolor\":\"white\",\"showbackground\":true,\"ticks\":\"\",\"zerolinecolor\":\"white\"},\"yaxis\":{\"backgroundcolor\":\"#E5ECF6\",\"gridcolor\":\"white\",\"gridwidth\":2,\"linecolor\":\"white\",\"showbackground\":true,\"ticks\":\"\",\"zerolinecolor\":\"white\"},\"zaxis\":{\"backgroundcolor\":\"#E5ECF6\",\"gridcolor\":\"white\",\"gridwidth\":2,\"linecolor\":\"white\",\"showbackground\":true,\"ticks\":\"\",\"zerolinecolor\":\"white\"}},\"shapedefaults\":{\"line\":{\"color\":\"#2a3f5f\"}},\"ternary\":{\"aaxis\":{\"gridcolor\":\"white\",\"linecolor\":\"white\",\"ticks\":\"\"},\"baxis\":{\"gridcolor\":\"white\",\"linecolor\":\"white\",\"ticks\":\"\"},\"bgcolor\":\"#E5ECF6\",\"caxis\":{\"gridcolor\":\"white\",\"linecolor\":\"white\",\"ticks\":\"\"}},\"title\":{\"x\":0.05},\"xaxis\":{\"automargin\":true,\"gridcolor\":\"white\",\"linecolor\":\"white\",\"ticks\":\"\",\"title\":{\"standoff\":15},\"zerolinecolor\":\"white\",\"zerolinewidth\":2},\"yaxis\":{\"automargin\":true,\"gridcolor\":\"white\",\"linecolor\":\"white\",\"ticks\":\"\",\"title\":{\"standoff\":15},\"zerolinecolor\":\"white\",\"zerolinewidth\":2}}},\"xaxis\":{\"anchor\":\"y\",\"domain\":[0.0,1.0],\"title\":{\"text\":\"month\"},\"type\":\"category\"},\"yaxis\":{\"anchor\":\"x\",\"domain\":[0.0,1.0],\"title\":{\"text\":\"size\"}},\"legend\":{\"tracegroupgap\":0},\"title\":{\"text\":\"Cases by month\"},\"barmode\":\"relative\"},                        {\"responsive\": true}                    ).then(function(){\n",
              "                            \n",
              "var gd = document.getElementById('a71f1a20-6db7-4115-a03f-bcc96c5d573e');\n",
              "var x = new MutationObserver(function (mutations, observer) {{\n",
              "        var display = window.getComputedStyle(gd).display;\n",
              "        if (!display || display === 'none') {{\n",
              "            console.log([gd, 'removed!']);\n",
              "            Plotly.purge(gd);\n",
              "            observer.disconnect();\n",
              "        }}\n",
              "}});\n",
              "\n",
              "// Listen for the removal of the full notebook cells\n",
              "var notebookContainer = gd.closest('#notebook-container');\n",
              "if (notebookContainer) {{\n",
              "    x.observe(notebookContainer, {childList: true});\n",
              "}}\n",
              "\n",
              "// Listen for the clearing of the current output cell\n",
              "var outputEl = gd.closest('.output');\n",
              "if (outputEl) {{\n",
              "    x.observe(outputEl, {childList: true});\n",
              "}}\n",
              "\n",
              "                        })                };                            </script>        </div>\n",
              "</body>\n",
              "</html>"
            ]
          },
          "metadata": {},
          "output_type": "display_data"
        }
      ],
      "source": [
        "covid['month'] = covid['fecha_de_notificaci_n'].dt.month\n",
        "casesGroupedByMonth = covid.groupby(\"month\", as_index=False).size()\n",
        "fig = px.bar(casesGroupedByMonth, x=\"month\", y=\"size\", title=\"Cases by month\")\n",
        "fig.update_xaxes(type=\"category\")"
      ]
    },
    {
      "cell_type": "markdown",
      "metadata": {
        "id": "4Ki6muVxURDY"
      },
      "source": [
        "Se realiza el mismo gráfico pero esta vez usando solo lineas para ver si se puede identificar alguna tendencia en la cantidad de casos.\n",
        "Inicialmente se ve como en el 6to mes del año que típicamente corresponde a las vacaciones de mitad de año se produce un pico de casos, es interesante revisar este dato ya que nos hace sospechar que las épocas de vacaciones influyen en la cantidad de casos Covid en Colombia."
      ]
    },
    {
      "cell_type": "code",
      "execution_count": null,
      "metadata": {
        "colab": {
          "background_save": true,
          "base_uri": "https://localhost:8080/",
          "height": 542
        },
        "id": "lHmBtAAtm0-t",
        "outputId": "08bd683b-a6a7-477e-9755-4ccb964436b9"
      },
      "outputs": [
        {
          "data": {
            "text/html": [
              "<html>\n",
              "<head><meta charset=\"utf-8\" /></head>\n",
              "<body>\n",
              "    <div>            <script src=\"https://cdnjs.cloudflare.com/ajax/libs/mathjax/2.7.5/MathJax.js?config=TeX-AMS-MML_SVG\"></script><script type=\"text/javascript\">if (window.MathJax) {MathJax.Hub.Config({SVG: {font: \"STIX-Web\"}});}</script>                <script type=\"text/javascript\">window.PlotlyConfig = {MathJaxConfig: 'local'};</script>\n",
              "        <script src=\"https://cdn.plot.ly/plotly-2.8.3.min.js\"></script>                <div id=\"e7e14d0e-d455-4c58-bc17-245ad427ea41\" class=\"plotly-graph-div\" style=\"height:525px; width:100%;\"></div>            <script type=\"text/javascript\">                                    window.PLOTLYENV=window.PLOTLYENV || {};                                    if (document.getElementById(\"e7e14d0e-d455-4c58-bc17-245ad427ea41\")) {                    Plotly.newPlot(                        \"e7e14d0e-d455-4c58-bc17-245ad427ea41\",                        [{\"hovertemplate\":\"month=%{x}<br>size=%{y}<extra></extra>\",\"legendgroup\":\"\",\"line\":{\"color\":\"#636efa\",\"dash\":\"solid\"},\"marker\":{\"symbol\":\"circle\"},\"mode\":\"lines\",\"name\":\"\",\"orientation\":\"v\",\"showlegend\":false,\"x\":[1,2,3,4,5,6,7,8,9,10,11,12],\"xaxis\":\"x\",\"y\":[364047,114928,107443,119747,133282,782054,538063,226207,115527,150984,129274,218444],\"yaxis\":\"y\",\"type\":\"scatter\"}],                        {\"template\":{\"data\":{\"bar\":[{\"error_x\":{\"color\":\"#2a3f5f\"},\"error_y\":{\"color\":\"#2a3f5f\"},\"marker\":{\"line\":{\"color\":\"#E5ECF6\",\"width\":0.5},\"pattern\":{\"fillmode\":\"overlay\",\"size\":10,\"solidity\":0.2}},\"type\":\"bar\"}],\"barpolar\":[{\"marker\":{\"line\":{\"color\":\"#E5ECF6\",\"width\":0.5},\"pattern\":{\"fillmode\":\"overlay\",\"size\":10,\"solidity\":0.2}},\"type\":\"barpolar\"}],\"carpet\":[{\"aaxis\":{\"endlinecolor\":\"#2a3f5f\",\"gridcolor\":\"white\",\"linecolor\":\"white\",\"minorgridcolor\":\"white\",\"startlinecolor\":\"#2a3f5f\"},\"baxis\":{\"endlinecolor\":\"#2a3f5f\",\"gridcolor\":\"white\",\"linecolor\":\"white\",\"minorgridcolor\":\"white\",\"startlinecolor\":\"#2a3f5f\"},\"type\":\"carpet\"}],\"choropleth\":[{\"colorbar\":{\"outlinewidth\":0,\"ticks\":\"\"},\"type\":\"choropleth\"}],\"contour\":[{\"colorbar\":{\"outlinewidth\":0,\"ticks\":\"\"},\"colorscale\":[[0.0,\"#0d0887\"],[0.1111111111111111,\"#46039f\"],[0.2222222222222222,\"#7201a8\"],[0.3333333333333333,\"#9c179e\"],[0.4444444444444444,\"#bd3786\"],[0.5555555555555556,\"#d8576b\"],[0.6666666666666666,\"#ed7953\"],[0.7777777777777778,\"#fb9f3a\"],[0.8888888888888888,\"#fdca26\"],[1.0,\"#f0f921\"]],\"type\":\"contour\"}],\"contourcarpet\":[{\"colorbar\":{\"outlinewidth\":0,\"ticks\":\"\"},\"type\":\"contourcarpet\"}],\"heatmap\":[{\"colorbar\":{\"outlinewidth\":0,\"ticks\":\"\"},\"colorscale\":[[0.0,\"#0d0887\"],[0.1111111111111111,\"#46039f\"],[0.2222222222222222,\"#7201a8\"],[0.3333333333333333,\"#9c179e\"],[0.4444444444444444,\"#bd3786\"],[0.5555555555555556,\"#d8576b\"],[0.6666666666666666,\"#ed7953\"],[0.7777777777777778,\"#fb9f3a\"],[0.8888888888888888,\"#fdca26\"],[1.0,\"#f0f921\"]],\"type\":\"heatmap\"}],\"heatmapgl\":[{\"colorbar\":{\"outlinewidth\":0,\"ticks\":\"\"},\"colorscale\":[[0.0,\"#0d0887\"],[0.1111111111111111,\"#46039f\"],[0.2222222222222222,\"#7201a8\"],[0.3333333333333333,\"#9c179e\"],[0.4444444444444444,\"#bd3786\"],[0.5555555555555556,\"#d8576b\"],[0.6666666666666666,\"#ed7953\"],[0.7777777777777778,\"#fb9f3a\"],[0.8888888888888888,\"#fdca26\"],[1.0,\"#f0f921\"]],\"type\":\"heatmapgl\"}],\"histogram\":[{\"marker\":{\"pattern\":{\"fillmode\":\"overlay\",\"size\":10,\"solidity\":0.2}},\"type\":\"histogram\"}],\"histogram2d\":[{\"colorbar\":{\"outlinewidth\":0,\"ticks\":\"\"},\"colorscale\":[[0.0,\"#0d0887\"],[0.1111111111111111,\"#46039f\"],[0.2222222222222222,\"#7201a8\"],[0.3333333333333333,\"#9c179e\"],[0.4444444444444444,\"#bd3786\"],[0.5555555555555556,\"#d8576b\"],[0.6666666666666666,\"#ed7953\"],[0.7777777777777778,\"#fb9f3a\"],[0.8888888888888888,\"#fdca26\"],[1.0,\"#f0f921\"]],\"type\":\"histogram2d\"}],\"histogram2dcontour\":[{\"colorbar\":{\"outlinewidth\":0,\"ticks\":\"\"},\"colorscale\":[[0.0,\"#0d0887\"],[0.1111111111111111,\"#46039f\"],[0.2222222222222222,\"#7201a8\"],[0.3333333333333333,\"#9c179e\"],[0.4444444444444444,\"#bd3786\"],[0.5555555555555556,\"#d8576b\"],[0.6666666666666666,\"#ed7953\"],[0.7777777777777778,\"#fb9f3a\"],[0.8888888888888888,\"#fdca26\"],[1.0,\"#f0f921\"]],\"type\":\"histogram2dcontour\"}],\"mesh3d\":[{\"colorbar\":{\"outlinewidth\":0,\"ticks\":\"\"},\"type\":\"mesh3d\"}],\"parcoords\":[{\"line\":{\"colorbar\":{\"outlinewidth\":0,\"ticks\":\"\"}},\"type\":\"parcoords\"}],\"pie\":[{\"automargin\":true,\"type\":\"pie\"}],\"scatter\":[{\"marker\":{\"colorbar\":{\"outlinewidth\":0,\"ticks\":\"\"}},\"type\":\"scatter\"}],\"scatter3d\":[{\"line\":{\"colorbar\":{\"outlinewidth\":0,\"ticks\":\"\"}},\"marker\":{\"colorbar\":{\"outlinewidth\":0,\"ticks\":\"\"}},\"type\":\"scatter3d\"}],\"scattercarpet\":[{\"marker\":{\"colorbar\":{\"outlinewidth\":0,\"ticks\":\"\"}},\"type\":\"scattercarpet\"}],\"scattergeo\":[{\"marker\":{\"colorbar\":{\"outlinewidth\":0,\"ticks\":\"\"}},\"type\":\"scattergeo\"}],\"scattergl\":[{\"marker\":{\"colorbar\":{\"outlinewidth\":0,\"ticks\":\"\"}},\"type\":\"scattergl\"}],\"scattermapbox\":[{\"marker\":{\"colorbar\":{\"outlinewidth\":0,\"ticks\":\"\"}},\"type\":\"scattermapbox\"}],\"scatterpolar\":[{\"marker\":{\"colorbar\":{\"outlinewidth\":0,\"ticks\":\"\"}},\"type\":\"scatterpolar\"}],\"scatterpolargl\":[{\"marker\":{\"colorbar\":{\"outlinewidth\":0,\"ticks\":\"\"}},\"type\":\"scatterpolargl\"}],\"scatterternary\":[{\"marker\":{\"colorbar\":{\"outlinewidth\":0,\"ticks\":\"\"}},\"type\":\"scatterternary\"}],\"surface\":[{\"colorbar\":{\"outlinewidth\":0,\"ticks\":\"\"},\"colorscale\":[[0.0,\"#0d0887\"],[0.1111111111111111,\"#46039f\"],[0.2222222222222222,\"#7201a8\"],[0.3333333333333333,\"#9c179e\"],[0.4444444444444444,\"#bd3786\"],[0.5555555555555556,\"#d8576b\"],[0.6666666666666666,\"#ed7953\"],[0.7777777777777778,\"#fb9f3a\"],[0.8888888888888888,\"#fdca26\"],[1.0,\"#f0f921\"]],\"type\":\"surface\"}],\"table\":[{\"cells\":{\"fill\":{\"color\":\"#EBF0F8\"},\"line\":{\"color\":\"white\"}},\"header\":{\"fill\":{\"color\":\"#C8D4E3\"},\"line\":{\"color\":\"white\"}},\"type\":\"table\"}]},\"layout\":{\"annotationdefaults\":{\"arrowcolor\":\"#2a3f5f\",\"arrowhead\":0,\"arrowwidth\":1},\"autotypenumbers\":\"strict\",\"coloraxis\":{\"colorbar\":{\"outlinewidth\":0,\"ticks\":\"\"}},\"colorscale\":{\"diverging\":[[0,\"#8e0152\"],[0.1,\"#c51b7d\"],[0.2,\"#de77ae\"],[0.3,\"#f1b6da\"],[0.4,\"#fde0ef\"],[0.5,\"#f7f7f7\"],[0.6,\"#e6f5d0\"],[0.7,\"#b8e186\"],[0.8,\"#7fbc41\"],[0.9,\"#4d9221\"],[1,\"#276419\"]],\"sequential\":[[0.0,\"#0d0887\"],[0.1111111111111111,\"#46039f\"],[0.2222222222222222,\"#7201a8\"],[0.3333333333333333,\"#9c179e\"],[0.4444444444444444,\"#bd3786\"],[0.5555555555555556,\"#d8576b\"],[0.6666666666666666,\"#ed7953\"],[0.7777777777777778,\"#fb9f3a\"],[0.8888888888888888,\"#fdca26\"],[1.0,\"#f0f921\"]],\"sequentialminus\":[[0.0,\"#0d0887\"],[0.1111111111111111,\"#46039f\"],[0.2222222222222222,\"#7201a8\"],[0.3333333333333333,\"#9c179e\"],[0.4444444444444444,\"#bd3786\"],[0.5555555555555556,\"#d8576b\"],[0.6666666666666666,\"#ed7953\"],[0.7777777777777778,\"#fb9f3a\"],[0.8888888888888888,\"#fdca26\"],[1.0,\"#f0f921\"]]},\"colorway\":[\"#636efa\",\"#EF553B\",\"#00cc96\",\"#ab63fa\",\"#FFA15A\",\"#19d3f3\",\"#FF6692\",\"#B6E880\",\"#FF97FF\",\"#FECB52\"],\"font\":{\"color\":\"#2a3f5f\"},\"geo\":{\"bgcolor\":\"white\",\"lakecolor\":\"white\",\"landcolor\":\"#E5ECF6\",\"showlakes\":true,\"showland\":true,\"subunitcolor\":\"white\"},\"hoverlabel\":{\"align\":\"left\"},\"hovermode\":\"closest\",\"mapbox\":{\"style\":\"light\"},\"paper_bgcolor\":\"white\",\"plot_bgcolor\":\"#E5ECF6\",\"polar\":{\"angularaxis\":{\"gridcolor\":\"white\",\"linecolor\":\"white\",\"ticks\":\"\"},\"bgcolor\":\"#E5ECF6\",\"radialaxis\":{\"gridcolor\":\"white\",\"linecolor\":\"white\",\"ticks\":\"\"}},\"scene\":{\"xaxis\":{\"backgroundcolor\":\"#E5ECF6\",\"gridcolor\":\"white\",\"gridwidth\":2,\"linecolor\":\"white\",\"showbackground\":true,\"ticks\":\"\",\"zerolinecolor\":\"white\"},\"yaxis\":{\"backgroundcolor\":\"#E5ECF6\",\"gridcolor\":\"white\",\"gridwidth\":2,\"linecolor\":\"white\",\"showbackground\":true,\"ticks\":\"\",\"zerolinecolor\":\"white\"},\"zaxis\":{\"backgroundcolor\":\"#E5ECF6\",\"gridcolor\":\"white\",\"gridwidth\":2,\"linecolor\":\"white\",\"showbackground\":true,\"ticks\":\"\",\"zerolinecolor\":\"white\"}},\"shapedefaults\":{\"line\":{\"color\":\"#2a3f5f\"}},\"ternary\":{\"aaxis\":{\"gridcolor\":\"white\",\"linecolor\":\"white\",\"ticks\":\"\"},\"baxis\":{\"gridcolor\":\"white\",\"linecolor\":\"white\",\"ticks\":\"\"},\"bgcolor\":\"#E5ECF6\",\"caxis\":{\"gridcolor\":\"white\",\"linecolor\":\"white\",\"ticks\":\"\"}},\"title\":{\"x\":0.05},\"xaxis\":{\"automargin\":true,\"gridcolor\":\"white\",\"linecolor\":\"white\",\"ticks\":\"\",\"title\":{\"standoff\":15},\"zerolinecolor\":\"white\",\"zerolinewidth\":2},\"yaxis\":{\"automargin\":true,\"gridcolor\":\"white\",\"linecolor\":\"white\",\"ticks\":\"\",\"title\":{\"standoff\":15},\"zerolinecolor\":\"white\",\"zerolinewidth\":2}}},\"xaxis\":{\"anchor\":\"y\",\"domain\":[0.0,1.0],\"title\":{\"text\":\"month\"}},\"yaxis\":{\"anchor\":\"x\",\"domain\":[0.0,1.0],\"title\":{\"text\":\"size\"}},\"legend\":{\"tracegroupgap\":0},\"title\":{\"text\":\"Cases by month\"}},                        {\"responsive\": true}                    ).then(function(){\n",
              "                            \n",
              "var gd = document.getElementById('e7e14d0e-d455-4c58-bc17-245ad427ea41');\n",
              "var x = new MutationObserver(function (mutations, observer) {{\n",
              "        var display = window.getComputedStyle(gd).display;\n",
              "        if (!display || display === 'none') {{\n",
              "            console.log([gd, 'removed!']);\n",
              "            Plotly.purge(gd);\n",
              "            observer.disconnect();\n",
              "        }}\n",
              "}});\n",
              "\n",
              "// Listen for the removal of the full notebook cells\n",
              "var notebookContainer = gd.closest('#notebook-container');\n",
              "if (notebookContainer) {{\n",
              "    x.observe(notebookContainer, {childList: true});\n",
              "}}\n",
              "\n",
              "// Listen for the clearing of the current output cell\n",
              "var outputEl = gd.closest('.output');\n",
              "if (outputEl) {{\n",
              "    x.observe(outputEl, {childList: true});\n",
              "}}\n",
              "\n",
              "                        })                };                            </script>        </div>\n",
              "</body>\n",
              "</html>"
            ]
          },
          "metadata": {},
          "output_type": "display_data"
        }
      ],
      "source": [
        "px.line(casesGroupedByMonth, x=\"month\", y=\"size\", title=\"Cases by month\")"
      ]
    },
    {
      "cell_type": "markdown",
      "metadata": {
        "id": "7EqsXZHznlDw"
      },
      "source": [
        "Ahora bien, se decide analizar la cantidad de casos por meses de modo que se puedan establecer algunas relaciones entre los periodos de vacaciones y la cantidad de casos."
      ]
    },
    {
      "cell_type": "markdown",
      "metadata": {
        "id": "pIwLO86lyKjM"
      },
      "source": [
        "Se considera el periodo de vacaciones comprendido por los meses:\n",
        "\n",
        "* Enero\n",
        "* Junio\n",
        "* Julio\n",
        "* Noviembre\n",
        "* Diciembre"
      ]
    },
    {
      "cell_type": "code",
      "execution_count": null,
      "metadata": {
        "colab": {
          "background_save": true,
          "base_uri": "https://localhost:8080/"
        },
        "id": "lTFQuJs7odyD",
        "outputId": "ba60b9e6-9990-4fdd-de4b-2f5c6f082567"
      },
      "outputs": [
        {
          "data": {
            "text/plain": [
              "vacation\n",
              "False    1097392\n",
              "True     1902608\n",
              "dtype: int64"
            ]
          },
          "execution_count": 48,
          "metadata": {},
          "output_type": "execute_result"
        }
      ],
      "source": [
        "# Function to create column based on vacation months\n",
        "\n",
        "def checkInRangeDate(timestamp):\n",
        "  if 6 <= timestamp.month <= 7:\n",
        "    return True\n",
        "  elif timestamp.month == 12:\n",
        "    return True\n",
        "  elif timestamp.month == 1:\n",
        "    return True\n",
        "  else:\n",
        "    return False \n",
        "\n",
        "covid[\"vacation\"] = covid[\"fecha_de_notificaci_n\"].apply(checkInRangeDate)\n",
        "\n",
        "covidByVacation = covid.groupby(\"vacation\").size()\n",
        "covidByVacation"
      ]
    },
    {
      "cell_type": "markdown",
      "metadata": {
        "id": "wRQO_mMpn0Vj"
      },
      "source": [
        "Se crea una nueva columna usando la función `checkInRangeDate()` que determina si un mes se encuentra en el periodo de vacaciones establecido.\n",
        "Y luego se procede a usar un gráfico de torta para ver la cantidad de casos que cumplen la condición de estar en este periodo."
      ]
    },
    {
      "cell_type": "markdown",
      "metadata": {
        "id": "y5zmA6IjU_QX"
      },
      "source": [
        "Rápidamente nos damos cuenta que más de la mitad de los casos positivos, más concretamente el 63.4% de los registro de la muestra se concentran en el periodo calificado como ***In Vacation***, mientras que solo el 36.6% pertenece al grupo caracterizado como ***Not in vacation***."
      ]
    },
    {
      "cell_type": "code",
      "execution_count": null,
      "metadata": {
        "colab": {
          "background_save": true,
          "base_uri": "https://localhost:8080/",
          "height": 484
        },
        "id": "pqjYiZNowJ4b",
        "outputId": "b96df5e4-96d9-47f9-f9b5-a8e648599258"
      },
      "outputs": [
        {
          "data": {
            "text/plain": [
              "(-1.114439968010781, 1.100687617524323, -1.111205763005281, 1.1190837823082893)"
            ]
          },
          "execution_count": 49,
          "metadata": {},
          "output_type": "execute_result"
        },
        {
          "data": {
            "image/png": "[encoded data removed]",
            "text/plain": [
              "<Figure size 576x576 with 1 Axes>"
            ]
          },
          "metadata": {},
          "output_type": "display_data"
        }
      ],
      "source": [
        "fig1, ax1 = plt.subplots(figsize=(8, 8))\n",
        "\n",
        "inVacation = covidByVacation[0]\n",
        "notInVacation = covidByVacation[1]\n",
        "colors = ['#ff9999','#66b3ff']\n",
        "labels = [f\"Not in vacation {inVacation}\", f\"In Vacation {notInVacation}\"]\n",
        "ax1.pie(covidByVacation, autopct='%1.1f%%', labels=labels, textprops={'fontsize': 18}, colors=colors)\n",
        "ax1.axis('equal')"
      ]
    },
    {
      "cell_type": "markdown",
      "metadata": {
        "id": "dWph607npAFJ"
      },
      "source": [
        "A través de la función `crosstab()` se crea una tabla de contingencia, esto con el objetivo de posteriormente graficar un mapa de calor y revisar en qué meses se concentra un gran número de casos y si estos son considerados como meses de vacaciones."
      ]
    },
    {
      "cell_type": "code",
      "execution_count": null,
      "metadata": {
        "colab": {
          "background_save": true,
          "base_uri": "https://localhost:8080/",
          "height": 143
        },
        "id": "5psrQo1hpBb5",
        "outputId": "21cbd680-baae-4f4c-f94f-3f438ae953bb"
      },
      "outputs": [
        {
          "data": {
            "text/html": [
              "\n",
              "  <div id=\"df-81a336d0-a0c0-436c-8490-859d793ab8e0\">\n",
              "    <div class=\"colab-df-container\">\n",
              "      <div>\n",
              "<style scoped>\n",
              "    .dataframe tbody tr th:only-of-type {\n",
              "        vertical-align: middle;\n",
              "    }\n",
              "\n",
              "    .dataframe tbody tr th {\n",
              "        vertical-align: top;\n",
              "    }\n",
              "\n",
              "    .dataframe thead th {\n",
              "        text-align: right;\n",
              "    }\n",
              "</style>\n",
              "<table border=\"1\" class=\"dataframe\">\n",
              "  <thead>\n",
              "    <tr style=\"text-align: right;\">\n",
              "      <th>month</th>\n",
              "      <th>1</th>\n",
              "      <th>2</th>\n",
              "      <th>3</th>\n",
              "      <th>4</th>\n",
              "      <th>5</th>\n",
              "      <th>6</th>\n",
              "      <th>7</th>\n",
              "      <th>8</th>\n",
              "      <th>9</th>\n",
              "      <th>10</th>\n",
              "      <th>11</th>\n",
              "      <th>12</th>\n",
              "    </tr>\n",
              "    <tr>\n",
              "      <th>vacation</th>\n",
              "      <th></th>\n",
              "      <th></th>\n",
              "      <th></th>\n",
              "      <th></th>\n",
              "      <th></th>\n",
              "      <th></th>\n",
              "      <th></th>\n",
              "      <th></th>\n",
              "      <th></th>\n",
              "      <th></th>\n",
              "      <th></th>\n",
              "      <th></th>\n",
              "    </tr>\n",
              "  </thead>\n",
              "  <tbody>\n",
              "    <tr>\n",
              "      <th>False</th>\n",
              "      <td>0</td>\n",
              "      <td>114928</td>\n",
              "      <td>107443</td>\n",
              "      <td>119747</td>\n",
              "      <td>133282</td>\n",
              "      <td>0</td>\n",
              "      <td>0</td>\n",
              "      <td>226207</td>\n",
              "      <td>115527</td>\n",
              "      <td>150984</td>\n",
              "      <td>129274</td>\n",
              "      <td>0</td>\n",
              "    </tr>\n",
              "    <tr>\n",
              "      <th>True</th>\n",
              "      <td>364047</td>\n",
              "      <td>0</td>\n",
              "      <td>0</td>\n",
              "      <td>0</td>\n",
              "      <td>0</td>\n",
              "      <td>782054</td>\n",
              "      <td>538063</td>\n",
              "      <td>0</td>\n",
              "      <td>0</td>\n",
              "      <td>0</td>\n",
              "      <td>0</td>\n",
              "      <td>218444</td>\n",
              "    </tr>\n",
              "  </tbody>\n",
              "</table>\n",
              "</div>\n",
              "      <button class=\"colab-df-convert\" onclick=\"convertToInteractive('df-81a336d0-a0c0-436c-8490-859d793ab8e0')\"\n",
              "              title=\"Convert this dataframe to an interactive table.\"\n",
              "              style=\"display:none;\">\n",
              "        \n",
              "  <svg xmlns=\"http://www.w3.org/2000/svg\" height=\"24px\"viewBox=\"0 0 24 24\"\n",
              "       width=\"24px\">\n",
              "    <path d=\"M0 0h24v24H0V0z\" fill=\"none\"/>\n",
              "    <path d=\"M18.56 5.44l.94 2.06.94-2.06 2.06-.94-2.06-.94-.94-2.06-.94 2.06-2.06.94zm-11 1L8.5 8.5l.94-2.06 2.06-.94-2.06-.94L8.5 2.5l-.94 2.06-2.06.94zm10 10l.94 2.06.94-2.06 2.06-.94-2.06-.94-.94-2.06-.94 2.06-2.06.94z\"/><path d=\"M17.41 7.96l-1.37-1.37c-.4-.4-.92-.59-1.43-.59-.52 0-1.04.2-1.43.59L10.3 9.45l-7.72 7.72c-.78.78-.78 2.05 0 2.83L4 21.41c.39.39.9.59 1.41.59.51 0 1.02-.2 1.41-.59l7.78-7.78 2.81-2.81c.8-.78.8-2.07 0-2.86zM5.41 20L4 18.59l7.72-7.72 1.47 1.35L5.41 20z\"/>\n",
              "  </svg>\n",
              "      </button>\n",
              "      \n",
              "  <style>\n",
              "    .colab-df-container {\n",
              "      display:flex;\n",
              "      flex-wrap:wrap;\n",
              "      gap: 12px;\n",
              "    }\n",
              "\n",
              "    .colab-df-convert {\n",
              "      background-color: #E8F0FE;\n",
              "      border: none;\n",
              "      border-radius: 50%;\n",
              "      cursor: pointer;\n",
              "      display: none;\n",
              "      fill: #1967D2;\n",
              "      height: 32px;\n",
              "      padding: 0 0 0 0;\n",
              "      width: 32px;\n",
              "    }\n",
              "\n",
              "    .colab-df-convert:hover {\n",
              "      background-color: #E2EBFA;\n",
              "      box-shadow: 0px 1px 2px rgba(60, 64, 67, 0.3), 0px 1px 3px 1px rgba(60, 64, 67, 0.15);\n",
              "      fill: #174EA6;\n",
              "    }\n",
              "\n",
              "    [theme=dark] .colab-df-convert {\n",
              "      background-color: #3B4455;\n",
              "      fill: #D2E3FC;\n",
              "    }\n",
              "\n",
              "    [theme=dark] .colab-df-convert:hover {\n",
              "      background-color: #434B5C;\n",
              "      box-shadow: 0px 1px 3px 1px rgba(0, 0, 0, 0.15);\n",
              "      filter: drop-shadow(0px 1px 2px rgba(0, 0, 0, 0.3));\n",
              "      fill: #FFFFFF;\n",
              "    }\n",
              "  </style>\n",
              "\n",
              "      <script>\n",
              "        const buttonEl =\n",
              "          document.querySelector('#df-81a336d0-a0c0-436c-8490-859d793ab8e0 button.colab-df-convert');\n",
              "        buttonEl.style.display =\n",
              "          google.colab.kernel.accessAllowed ? 'block' : 'none';\n",
              "\n",
              "        async function convertToInteractive(key) {\n",
              "          const element = document.querySelector('#df-81a336d0-a0c0-436c-8490-859d793ab8e0');\n",
              "          const dataTable =\n",
              "            await google.colab.kernel.invokeFunction('convertToInteractive',\n",
              "                                                     [key], {});\n",
              "          if (!dataTable) return;\n",
              "\n",
              "          const docLinkHtml = 'Like what you see? Visit the ' +\n",
              "            '<a target=\"_blank\" href=https://colab.research.google.com/notebooks/data_table.ipynb>data table notebook</a>'\n",
              "            + ' to learn more about interactive tables.';\n",
              "          element.innerHTML = '';\n",
              "          dataTable['output_type'] = 'display_data';\n",
              "          await google.colab.output.renderOutput(dataTable, element);\n",
              "          const docLink = document.createElement('div');\n",
              "          docLink.innerHTML = docLinkHtml;\n",
              "          element.appendChild(docLink);\n",
              "        }\n",
              "      </script>\n",
              "    </div>\n",
              "  </div>\n",
              "  "
            ],
            "text/plain": [
              "month         1       2       3       4       5       6       7       8   \\\n",
              "vacation                                                                   \n",
              "False          0  114928  107443  119747  133282       0       0  226207   \n",
              "True      364047       0       0       0       0  782054  538063       0   \n",
              "\n",
              "month         9       10      11      12  \n",
              "vacation                                  \n",
              "False     115527  150984  129274       0  \n",
              "True           0       0       0  218444  "
            ]
          },
          "execution_count": 50,
          "metadata": {},
          "output_type": "execute_result"
        }
      ],
      "source": [
        "contigency = pd.crosstab(covid[\"vacation\"], covid[\"month\"])\n",
        "contigency"
      ]
    },
    {
      "cell_type": "markdown",
      "metadata": {
        "id": "lwNeDrGAong0"
      },
      "source": [
        "Revisando la información anterior pero esta vez a través de un mapa de calor vemos como se concentra la gran mayoría de registros en los meses 1, 6 y 7 que están caracterizados por pertenecer a las vacaciones.\n",
        "\n",
        "También se ve como en el mes 8 (Agosto) hay un importante número de casos ,sucede lo mismo para el mes 12 (Diciembre)."
      ]
    },
    {
      "cell_type": "code",
      "execution_count": null,
      "metadata": {
        "colab": {
          "background_save": true,
          "base_uri": "https://localhost:8080/",
          "height": 515
        },
        "id": "tv-r-I6EiJxx",
        "outputId": "6e6554e4-bd37-4577-feba-d4f8220d19d6"
      },
      "outputs": [
        {
          "data": {
            "text/plain": [
              "<matplotlib.axes._subplots.AxesSubplot at 0x7f194deaafd0>"
            ]
          },
          "execution_count": 51,
          "metadata": {},
          "output_type": "execute_result"
        },
        {
          "data": {
            "image/png": "[encoded data removed]",
            "text/plain": [
              "<Figure size 864x576 with 2 Axes>"
            ]
          },
          "metadata": {},
          "output_type": "display_data"
        }
      ],
      "source": [
        "plt.figure(figsize=(12,8)) \n",
        "sns.heatmap(contigency, annot=True, cmap=\"YlGnBu\")"
      ]
    },
    {
      "cell_type": "markdown",
      "metadata": {
        "id": "Ay87PcL0XWt4"
      },
      "source": [
        "## Pruebas de correlación\n",
        "----"
      ]
    },
    {
      "cell_type": "markdown",
      "metadata": {
        "id": "uEyAwXuHpi39"
      },
      "source": [
        "Se realiza una prueba de correlación de pearson con respecto a las fechas en general y la cantidad de casos positivos que arroja los siguiente resultados:"
      ]
    },
    {
      "cell_type": "markdown",
      "metadata": {
        "id": "GGpAHg89p7pc"
      },
      "source": [
        "El coeficiente de correlación de pearson arroja un valor de 0.449225, el valor es mayor que 0 pero sigue siendo bastante bajo, esto debido a que la cantidad de casos se concentra en algunos puntos pero luego se dispersa, resultando así en una correlación débil."
      ]
    },
    {
      "cell_type": "code",
      "execution_count": null,
      "metadata": {
        "colab": {
          "background_save": true,
          "base_uri": "https://localhost:8080/",
          "height": 112
        },
        "id": "n_JFAtOopg21",
        "outputId": "8c5339c9-d287-4f77-aa75-698e6fab9110"
      },
      "outputs": [
        {
          "data": {
            "text/html": [
              "\n",
              "  <div id=\"df-1a30f1ef-e02f-4756-b86c-535b7dfb5ba5\">\n",
              "    <div class=\"colab-df-container\">\n",
              "      <div>\n",
              "<style scoped>\n",
              "    .dataframe tbody tr th:only-of-type {\n",
              "        vertical-align: middle;\n",
              "    }\n",
              "\n",
              "    .dataframe tbody tr th {\n",
              "        vertical-align: top;\n",
              "    }\n",
              "\n",
              "    .dataframe thead th {\n",
              "        text-align: right;\n",
              "    }\n",
              "</style>\n",
              "<table border=\"1\" class=\"dataframe\">\n",
              "  <thead>\n",
              "    <tr style=\"text-align: right;\">\n",
              "      <th></th>\n",
              "      <th>fecha_diagnostico</th>\n",
              "      <th>size</th>\n",
              "    </tr>\n",
              "  </thead>\n",
              "  <tbody>\n",
              "    <tr>\n",
              "      <th>fecha_diagnostico</th>\n",
              "      <td>1.000000</td>\n",
              "      <td>0.449225</td>\n",
              "    </tr>\n",
              "    <tr>\n",
              "      <th>size</th>\n",
              "      <td>0.449225</td>\n",
              "      <td>1.000000</td>\n",
              "    </tr>\n",
              "  </tbody>\n",
              "</table>\n",
              "</div>\n",
              "      <button class=\"colab-df-convert\" onclick=\"convertToInteractive('df-1a30f1ef-e02f-4756-b86c-535b7dfb5ba5')\"\n",
              "              title=\"Convert this dataframe to an interactive table.\"\n",
              "              style=\"display:none;\">\n",
              "        \n",
              "  <svg xmlns=\"http://www.w3.org/2000/svg\" height=\"24px\"viewBox=\"0 0 24 24\"\n",
              "       width=\"24px\">\n",
              "    <path d=\"M0 0h24v24H0V0z\" fill=\"none\"/>\n",
              "    <path d=\"M18.56 5.44l.94 2.06.94-2.06 2.06-.94-2.06-.94-.94-2.06-.94 2.06-2.06.94zm-11 1L8.5 8.5l.94-2.06 2.06-.94-2.06-.94L8.5 2.5l-.94 2.06-2.06.94zm10 10l.94 2.06.94-2.06 2.06-.94-2.06-.94-.94-2.06-.94 2.06-2.06.94z\"/><path d=\"M17.41 7.96l-1.37-1.37c-.4-.4-.92-.59-1.43-.59-.52 0-1.04.2-1.43.59L10.3 9.45l-7.72 7.72c-.78.78-.78 2.05 0 2.83L4 21.41c.39.39.9.59 1.41.59.51 0 1.02-.2 1.41-.59l7.78-7.78 2.81-2.81c.8-.78.8-2.07 0-2.86zM5.41 20L4 18.59l7.72-7.72 1.47 1.35L5.41 20z\"/>\n",
              "  </svg>\n",
              "      </button>\n",
              "      \n",
              "  <style>\n",
              "    .colab-df-container {\n",
              "      display:flex;\n",
              "      flex-wrap:wrap;\n",
              "      gap: 12px;\n",
              "    }\n",
              "\n",
              "    .colab-df-convert {\n",
              "      background-color: #E8F0FE;\n",
              "      border: none;\n",
              "      border-radius: 50%;\n",
              "      cursor: pointer;\n",
              "      display: none;\n",
              "      fill: #1967D2;\n",
              "      height: 32px;\n",
              "      padding: 0 0 0 0;\n",
              "      width: 32px;\n",
              "    }\n",
              "\n",
              "    .colab-df-convert:hover {\n",
              "      background-color: #E2EBFA;\n",
              "      box-shadow: 0px 1px 2px rgba(60, 64, 67, 0.3), 0px 1px 3px 1px rgba(60, 64, 67, 0.15);\n",
              "      fill: #174EA6;\n",
              "    }\n",
              "\n",
              "    [theme=dark] .colab-df-convert {\n",
              "      background-color: #3B4455;\n",
              "      fill: #D2E3FC;\n",
              "    }\n",
              "\n",
              "    [theme=dark] .colab-df-convert:hover {\n",
              "      background-color: #434B5C;\n",
              "      box-shadow: 0px 1px 3px 1px rgba(0, 0, 0, 0.15);\n",
              "      filter: drop-shadow(0px 1px 2px rgba(0, 0, 0, 0.3));\n",
              "      fill: #FFFFFF;\n",
              "    }\n",
              "  </style>\n",
              "\n",
              "      <script>\n",
              "        const buttonEl =\n",
              "          document.querySelector('#df-1a30f1ef-e02f-4756-b86c-535b7dfb5ba5 button.colab-df-convert');\n",
              "        buttonEl.style.display =\n",
              "          google.colab.kernel.accessAllowed ? 'block' : 'none';\n",
              "\n",
              "        async function convertToInteractive(key) {\n",
              "          const element = document.querySelector('#df-1a30f1ef-e02f-4756-b86c-535b7dfb5ba5');\n",
              "          const dataTable =\n",
              "            await google.colab.kernel.invokeFunction('convertToInteractive',\n",
              "                                                     [key], {});\n",
              "          if (!dataTable) return;\n",
              "\n",
              "          const docLinkHtml = 'Like what you see? Visit the ' +\n",
              "            '<a target=\"_blank\" href=https://colab.research.google.com/notebooks/data_table.ipynb>data table notebook</a>'\n",
              "            + ' to learn more about interactive tables.';\n",
              "          element.innerHTML = '';\n",
              "          dataTable['output_type'] = 'display_data';\n",
              "          await google.colab.output.renderOutput(dataTable, element);\n",
              "          const docLink = document.createElement('div');\n",
              "          docLink.innerHTML = docLinkHtml;\n",
              "          element.appendChild(docLink);\n",
              "        }\n",
              "      </script>\n",
              "    </div>\n",
              "  </div>\n",
              "  "
            ],
            "text/plain": [
              "                   fecha_diagnostico      size\n",
              "fecha_diagnostico           1.000000  0.449225\n",
              "size                        0.449225  1.000000"
            ]
          },
          "execution_count": 52,
          "metadata": {},
          "output_type": "execute_result"
        }
      ],
      "source": [
        "covidCorr = covidByDate.copy()\n",
        "covidCorr.fecha_diagnostico = pd.to_numeric(covidCorr.fecha_diagnostico)\n",
        "covidCorr.corr(method=\"pearson\")"
      ]
    },
    {
      "cell_type": "markdown",
      "metadata": {
        "id": "8Tq6PypkwhAz"
      },
      "source": [
        "En esta segunda prueba de correlación se toman parámetros más específicos."
      ]
    },
    {
      "cell_type": "markdown",
      "metadata": {
        "id": "ZCgwRy61wELO"
      },
      "source": [
        "Repitiendo el procedimiento anterior pero esta vez usando el parámetro `vacation` y `size` se obtiene un coeficiente de correlación de casi 0.8 siendo estas dos variables altamente correlacionadas."
      ]
    },
    {
      "cell_type": "code",
      "execution_count": null,
      "metadata": {
        "colab": {
          "background_save": true,
          "base_uri": "https://localhost:8080/",
          "height": 143
        },
        "id": "cIM1IadZsZ0S",
        "outputId": "d951f442-d3e6-4c6b-98e3-9303eb0d875a"
      },
      "outputs": [
        {
          "data": {
            "text/html": [
              "\n",
              "  <div id=\"df-30acd932-3dd2-44d9-bad5-6365c923b247\">\n",
              "    <div class=\"colab-df-container\">\n",
              "      <div>\n",
              "<style scoped>\n",
              "    .dataframe tbody tr th:only-of-type {\n",
              "        vertical-align: middle;\n",
              "    }\n",
              "\n",
              "    .dataframe tbody tr th {\n",
              "        vertical-align: top;\n",
              "    }\n",
              "\n",
              "    .dataframe thead th {\n",
              "        text-align: right;\n",
              "    }\n",
              "</style>\n",
              "<table border=\"1\" class=\"dataframe\">\n",
              "  <thead>\n",
              "    <tr style=\"text-align: right;\">\n",
              "      <th></th>\n",
              "      <th>month</th>\n",
              "      <th>vacation</th>\n",
              "      <th>size</th>\n",
              "    </tr>\n",
              "  </thead>\n",
              "  <tbody>\n",
              "    <tr>\n",
              "      <th>month</th>\n",
              "      <td>1.000000</td>\n",
              "      <td>0.000000</td>\n",
              "      <td>-0.068776</td>\n",
              "    </tr>\n",
              "    <tr>\n",
              "      <th>vacation</th>\n",
              "      <td>0.000000</td>\n",
              "      <td>1.000000</td>\n",
              "      <td>0.787812</td>\n",
              "    </tr>\n",
              "    <tr>\n",
              "      <th>size</th>\n",
              "      <td>-0.068776</td>\n",
              "      <td>0.787812</td>\n",
              "      <td>1.000000</td>\n",
              "    </tr>\n",
              "  </tbody>\n",
              "</table>\n",
              "</div>\n",
              "      <button class=\"colab-df-convert\" onclick=\"convertToInteractive('df-30acd932-3dd2-44d9-bad5-6365c923b247')\"\n",
              "              title=\"Convert this dataframe to an interactive table.\"\n",
              "              style=\"display:none;\">\n",
              "        \n",
              "  <svg xmlns=\"http://www.w3.org/2000/svg\" height=\"24px\"viewBox=\"0 0 24 24\"\n",
              "       width=\"24px\">\n",
              "    <path d=\"M0 0h24v24H0V0z\" fill=\"none\"/>\n",
              "    <path d=\"M18.56 5.44l.94 2.06.94-2.06 2.06-.94-2.06-.94-.94-2.06-.94 2.06-2.06.94zm-11 1L8.5 8.5l.94-2.06 2.06-.94-2.06-.94L8.5 2.5l-.94 2.06-2.06.94zm10 10l.94 2.06.94-2.06 2.06-.94-2.06-.94-.94-2.06-.94 2.06-2.06.94z\"/><path d=\"M17.41 7.96l-1.37-1.37c-.4-.4-.92-.59-1.43-.59-.52 0-1.04.2-1.43.59L10.3 9.45l-7.72 7.72c-.78.78-.78 2.05 0 2.83L4 21.41c.39.39.9.59 1.41.59.51 0 1.02-.2 1.41-.59l7.78-7.78 2.81-2.81c.8-.78.8-2.07 0-2.86zM5.41 20L4 18.59l7.72-7.72 1.47 1.35L5.41 20z\"/>\n",
              "  </svg>\n",
              "      </button>\n",
              "      \n",
              "  <style>\n",
              "    .colab-df-container {\n",
              "      display:flex;\n",
              "      flex-wrap:wrap;\n",
              "      gap: 12px;\n",
              "    }\n",
              "\n",
              "    .colab-df-convert {\n",
              "      background-color: #E8F0FE;\n",
              "      border: none;\n",
              "      border-radius: 50%;\n",
              "      cursor: pointer;\n",
              "      display: none;\n",
              "      fill: #1967D2;\n",
              "      height: 32px;\n",
              "      padding: 0 0 0 0;\n",
              "      width: 32px;\n",
              "    }\n",
              "\n",
              "    .colab-df-convert:hover {\n",
              "      background-color: #E2EBFA;\n",
              "      box-shadow: 0px 1px 2px rgba(60, 64, 67, 0.3), 0px 1px 3px 1px rgba(60, 64, 67, 0.15);\n",
              "      fill: #174EA6;\n",
              "    }\n",
              "\n",
              "    [theme=dark] .colab-df-convert {\n",
              "      background-color: #3B4455;\n",
              "      fill: #D2E3FC;\n",
              "    }\n",
              "\n",
              "    [theme=dark] .colab-df-convert:hover {\n",
              "      background-color: #434B5C;\n",
              "      box-shadow: 0px 1px 3px 1px rgba(0, 0, 0, 0.15);\n",
              "      filter: drop-shadow(0px 1px 2px rgba(0, 0, 0, 0.3));\n",
              "      fill: #FFFFFF;\n",
              "    }\n",
              "  </style>\n",
              "\n",
              "      <script>\n",
              "        const buttonEl =\n",
              "          document.querySelector('#df-30acd932-3dd2-44d9-bad5-6365c923b247 button.colab-df-convert');\n",
              "        buttonEl.style.display =\n",
              "          google.colab.kernel.accessAllowed ? 'block' : 'none';\n",
              "\n",
              "        async function convertToInteractive(key) {\n",
              "          const element = document.querySelector('#df-30acd932-3dd2-44d9-bad5-6365c923b247');\n",
              "          const dataTable =\n",
              "            await google.colab.kernel.invokeFunction('convertToInteractive',\n",
              "                                                     [key], {});\n",
              "          if (!dataTable) return;\n",
              "\n",
              "          const docLinkHtml = 'Like what you see? Visit the ' +\n",
              "            '<a target=\"_blank\" href=https://colab.research.google.com/notebooks/data_table.ipynb>data table notebook</a>'\n",
              "            + ' to learn more about interactive tables.';\n",
              "          element.innerHTML = '';\n",
              "          dataTable['output_type'] = 'display_data';\n",
              "          await google.colab.output.renderOutput(dataTable, element);\n",
              "          const docLink = document.createElement('div');\n",
              "          docLink.innerHTML = docLinkHtml;\n",
              "          element.appendChild(docLink);\n",
              "        }\n",
              "      </script>\n",
              "    </div>\n",
              "  </div>\n",
              "  "
            ],
            "text/plain": [
              "             month  vacation      size\n",
              "month     1.000000  0.000000 -0.068776\n",
              "vacation  0.000000  1.000000  0.787812\n",
              "size     -0.068776  0.787812  1.000000"
            ]
          },
          "execution_count": 53,
          "metadata": {},
          "output_type": "execute_result"
        }
      ],
      "source": [
        "covidCorr2 = covid.groupby([\"month\", \"vacation\"], as_index=False).size().sort_values(by=\"month\")\n",
        "covidCorr2.corr()"
      ]
    },
    {
      "cell_type": "markdown",
      "metadata": {
        "id": "WEbr6jQEXvCH"
      },
      "source": [
        "## Prueba de hipótesis\n",
        "-----"
      ]
    },
    {
      "cell_type": "markdown",
      "metadata": {
        "id": "Kph-KMX09sYd"
      },
      "source": [
        "A continuación se usará la prueba t para comparar la media de casos positivos de dos grupos independientes, ***meses en vacaciones*** y  ***meses fuera de vacaciones***, esto con el objetivo de determinar si hay evidencia estadística suficiente de que las medias son significativamente **diferentes** para estas dos clasificaciones.\n",
        "\n",
        "* **Nivel de confianza: $95\\%$**"
      ]
    },
    {
      "cell_type": "markdown",
      "metadata": {
        "id": "DqPXNYH89kRz"
      },
      "source": [
        "**Hipótesis**:\n",
        "\n",
        "* Hipótesis nula $H_0: \\mu_1 = \\mu_2$ ($\\mu_1 - \\mu_2 = 0$)\n",
        "* Hipótesis alternativa $H_a: \\mu_1 \\neq \\mu_2$ ($\\mu_1 - \\mu_2 \\gt 0$)"
      ]
    },
    {
      "cell_type": "code",
      "execution_count": null,
      "metadata": {
        "colab": {
          "background_save": true,
          "base_uri": "https://localhost:8080/",
          "height": 424
        },
        "id": "4N7IotgI-w3y",
        "outputId": "31808e86-06b9-4969-a03d-5981a78d5a30"
      },
      "outputs": [
        {
          "data": {
            "text/html": [
              "\n",
              "  <div id=\"df-7e3ba6e2-0702-47c8-98ef-db24da7be45a\">\n",
              "    <div class=\"colab-df-container\">\n",
              "      <div>\n",
              "<style scoped>\n",
              "    .dataframe tbody tr th:only-of-type {\n",
              "        vertical-align: middle;\n",
              "    }\n",
              "\n",
              "    .dataframe tbody tr th {\n",
              "        vertical-align: top;\n",
              "    }\n",
              "\n",
              "    .dataframe thead th {\n",
              "        text-align: right;\n",
              "    }\n",
              "</style>\n",
              "<table border=\"1\" class=\"dataframe\">\n",
              "  <thead>\n",
              "    <tr style=\"text-align: right;\">\n",
              "      <th></th>\n",
              "      <th>vacation</th>\n",
              "      <th>fecha_diagnostico</th>\n",
              "      <th>size</th>\n",
              "    </tr>\n",
              "  </thead>\n",
              "  <tbody>\n",
              "    <tr>\n",
              "      <th>0</th>\n",
              "      <td>False</td>\n",
              "      <td>2020-03-06</td>\n",
              "      <td>1</td>\n",
              "    </tr>\n",
              "    <tr>\n",
              "      <th>1</th>\n",
              "      <td>False</td>\n",
              "      <td>2020-03-09</td>\n",
              "      <td>2</td>\n",
              "    </tr>\n",
              "    <tr>\n",
              "      <th>2</th>\n",
              "      <td>False</td>\n",
              "      <td>2020-03-11</td>\n",
              "      <td>6</td>\n",
              "    </tr>\n",
              "    <tr>\n",
              "      <th>3</th>\n",
              "      <td>False</td>\n",
              "      <td>2020-03-12</td>\n",
              "      <td>4</td>\n",
              "    </tr>\n",
              "    <tr>\n",
              "      <th>4</th>\n",
              "      <td>False</td>\n",
              "      <td>2020-03-13</td>\n",
              "      <td>5</td>\n",
              "    </tr>\n",
              "    <tr>\n",
              "      <th>...</th>\n",
              "      <td>...</td>\n",
              "      <td>...</td>\n",
              "      <td>...</td>\n",
              "    </tr>\n",
              "    <tr>\n",
              "      <th>844</th>\n",
              "      <td>True</td>\n",
              "      <td>2021-08-20</td>\n",
              "      <td>2</td>\n",
              "    </tr>\n",
              "    <tr>\n",
              "      <th>845</th>\n",
              "      <td>True</td>\n",
              "      <td>2021-08-21</td>\n",
              "      <td>1</td>\n",
              "    </tr>\n",
              "    <tr>\n",
              "      <th>846</th>\n",
              "      <td>True</td>\n",
              "      <td>2021-12-06</td>\n",
              "      <td>1</td>\n",
              "    </tr>\n",
              "    <tr>\n",
              "      <th>847</th>\n",
              "      <td>True</td>\n",
              "      <td>2021-12-28</td>\n",
              "      <td>1</td>\n",
              "    </tr>\n",
              "    <tr>\n",
              "      <th>848</th>\n",
              "      <td>True</td>\n",
              "      <td>2021-12-30</td>\n",
              "      <td>1</td>\n",
              "    </tr>\n",
              "  </tbody>\n",
              "</table>\n",
              "<p>849 rows × 3 columns</p>\n",
              "</div>\n",
              "      <button class=\"colab-df-convert\" onclick=\"convertToInteractive('df-7e3ba6e2-0702-47c8-98ef-db24da7be45a')\"\n",
              "              title=\"Convert this dataframe to an interactive table.\"\n",
              "              style=\"display:none;\">\n",
              "        \n",
              "  <svg xmlns=\"http://www.w3.org/2000/svg\" height=\"24px\"viewBox=\"0 0 24 24\"\n",
              "       width=\"24px\">\n",
              "    <path d=\"M0 0h24v24H0V0z\" fill=\"none\"/>\n",
              "    <path d=\"M18.56 5.44l.94 2.06.94-2.06 2.06-.94-2.06-.94-.94-2.06-.94 2.06-2.06.94zm-11 1L8.5 8.5l.94-2.06 2.06-.94-2.06-.94L8.5 2.5l-.94 2.06-2.06.94zm10 10l.94 2.06.94-2.06 2.06-.94-2.06-.94-.94-2.06-.94 2.06-2.06.94z\"/><path d=\"M17.41 7.96l-1.37-1.37c-.4-.4-.92-.59-1.43-.59-.52 0-1.04.2-1.43.59L10.3 9.45l-7.72 7.72c-.78.78-.78 2.05 0 2.83L4 21.41c.39.39.9.59 1.41.59.51 0 1.02-.2 1.41-.59l7.78-7.78 2.81-2.81c.8-.78.8-2.07 0-2.86zM5.41 20L4 18.59l7.72-7.72 1.47 1.35L5.41 20z\"/>\n",
              "  </svg>\n",
              "      </button>\n",
              "      \n",
              "  <style>\n",
              "    .colab-df-container {\n",
              "      display:flex;\n",
              "      flex-wrap:wrap;\n",
              "      gap: 12px;\n",
              "    }\n",
              "\n",
              "    .colab-df-convert {\n",
              "      background-color: #E8F0FE;\n",
              "      border: none;\n",
              "      border-radius: 50%;\n",
              "      cursor: pointer;\n",
              "      display: none;\n",
              "      fill: #1967D2;\n",
              "      height: 32px;\n",
              "      padding: 0 0 0 0;\n",
              "      width: 32px;\n",
              "    }\n",
              "\n",
              "    .colab-df-convert:hover {\n",
              "      background-color: #E2EBFA;\n",
              "      box-shadow: 0px 1px 2px rgba(60, 64, 67, 0.3), 0px 1px 3px 1px rgba(60, 64, 67, 0.15);\n",
              "      fill: #174EA6;\n",
              "    }\n",
              "\n",
              "    [theme=dark] .colab-df-convert {\n",
              "      background-color: #3B4455;\n",
              "      fill: #D2E3FC;\n",
              "    }\n",
              "\n",
              "    [theme=dark] .colab-df-convert:hover {\n",
              "      background-color: #434B5C;\n",
              "      box-shadow: 0px 1px 3px 1px rgba(0, 0, 0, 0.15);\n",
              "      filter: drop-shadow(0px 1px 2px rgba(0, 0, 0, 0.3));\n",
              "      fill: #FFFFFF;\n",
              "    }\n",
              "  </style>\n",
              "\n",
              "      <script>\n",
              "        const buttonEl =\n",
              "          document.querySelector('#df-7e3ba6e2-0702-47c8-98ef-db24da7be45a button.colab-df-convert');\n",
              "        buttonEl.style.display =\n",
              "          google.colab.kernel.accessAllowed ? 'block' : 'none';\n",
              "\n",
              "        async function convertToInteractive(key) {\n",
              "          const element = document.querySelector('#df-7e3ba6e2-0702-47c8-98ef-db24da7be45a');\n",
              "          const dataTable =\n",
              "            await google.colab.kernel.invokeFunction('convertToInteractive',\n",
              "                                                     [key], {});\n",
              "          if (!dataTable) return;\n",
              "\n",
              "          const docLinkHtml = 'Like what you see? Visit the ' +\n",
              "            '<a target=\"_blank\" href=https://colab.research.google.com/notebooks/data_table.ipynb>data table notebook</a>'\n",
              "            + ' to learn more about interactive tables.';\n",
              "          element.innerHTML = '';\n",
              "          dataTable['output_type'] = 'display_data';\n",
              "          await google.colab.output.renderOutput(dataTable, element);\n",
              "          const docLink = document.createElement('div');\n",
              "          docLink.innerHTML = docLinkHtml;\n",
              "          element.appendChild(docLink);\n",
              "        }\n",
              "      </script>\n",
              "    </div>\n",
              "  </div>\n",
              "  "
            ],
            "text/plain": [
              "     vacation fecha_diagnostico  size\n",
              "0       False        2020-03-06     1\n",
              "1       False        2020-03-09     2\n",
              "2       False        2020-03-11     6\n",
              "3       False        2020-03-12     4\n",
              "4       False        2020-03-13     5\n",
              "..        ...               ...   ...\n",
              "844      True        2021-08-20     2\n",
              "845      True        2021-08-21     1\n",
              "846      True        2021-12-06     1\n",
              "847      True        2021-12-28     1\n",
              "848      True        2021-12-30     1\n",
              "\n",
              "[849 rows x 3 columns]"
            ]
          },
          "execution_count": 54,
          "metadata": {},
          "output_type": "execute_result"
        }
      ],
      "source": [
        "covidByVacationAndSize = covid.groupby([\"vacation\", \"fecha_diagnostico\"], as_index=False).size()\n",
        "covidByVacationAndSize"
      ]
    },
    {
      "cell_type": "code",
      "execution_count": null,
      "metadata": {
        "colab": {
          "background_save": true,
          "base_uri": "https://localhost:8080/"
        },
        "id": "uRyIuz2v-JlD",
        "outputId": "55a5b939-78fd-41cd-a7b8-e51ee844b399"
      },
      "outputs": [
        {
          "name": "stdout",
          "output_type": "stream",
          "text": [
            "-9.410950247301491\n",
            "4.5042053182422666e-20\n"
          ]
        }
      ],
      "source": [
        "group1 = covidByVacationAndSize[covidByVacationAndSize[\"vacation\"] == False][\"size\"] # Not Vacation\n",
        "group2 = covidByVacationAndSize[covidByVacationAndSize[\"vacation\"] == True][\"size\"] # Vacation\n",
        "\n",
        "test, pvalor  = stats.ttest_ind(a=group1, b=group2)\n",
        "print(test)\n",
        "print(pvalor)"
      ]
    },
    {
      "cell_type": "code",
      "execution_count": null,
      "metadata": {
        "colab": {
          "background_save": true,
          "base_uri": "https://localhost:8080/"
        },
        "id": "5NIRYsTD_SXm",
        "outputId": "9bd3b9ee-587a-44fc-c16c-8bbaed745705"
      },
      "outputs": [
        {
          "data": {
            "text/plain": [
              "True"
            ]
          },
          "execution_count": 56,
          "metadata": {},
          "output_type": "execute_result"
        }
      ],
      "source": [
        "pvalor < 0.025"
      ]
    },
    {
      "cell_type": "markdown",
      "metadata": {
        "id": "KcQqFTeQ_Wqw"
      },
      "source": [
        "Como el p-valor es menor que el nivel de significancia del $5\\%$ \n",
        "* **para dos colas p-valor $< \\frac{0.05}{2}$** "
      ]
    },
    {
      "cell_type": "markdown",
      "metadata": {
        "id": "rwVdi5FuAAHx"
      },
      "source": [
        "Se rechaza la hipótesis nula, es decir, podemos afirmar que existe evidencia significativa en contra de la hipótesis nula de que la media de casos covid es igual para meses catalogados como vacacionales y meses no catalogados como vacacionales."
      ]
    },
    {
      "cell_type": "markdown",
      "metadata": {
        "id": "TTSA07zUZaG1"
      },
      "source": [
        "# 6.Conclusiones\n",
        "----"
      ]
    },
    {
      "cell_type": "markdown",
      "metadata": {
        "id": "vbd1zqtqZiFz"
      },
      "source": [
        "* Es posible establecer una relación entre la cantidad de casos de Covid 19 en épocas de vacaciones, esto se puede evidenciar a través de la estadística descriptiva e inferencial obtenido a partir del estudio realizado, pues hubo un incremento de casos positivos en las periferias del país y en la capital.\n",
        "\n",
        "* A pesar de que las mujeres tuvieron una mayor afectación esta es más leve que el estado de salud de los hombres, no se tiene una diferencia absoluta grande por lo que se concluye que ambos géneros se vieron afectado de igual manera.\n",
        "\n",
        "* Se evidencia que el mayor contagio de personas en todo el país se dio entre personas caracterizadas como adulto joven y adulto, esto debido a la mayor interacción social de estos grupos dadas las obligaciones laborales y académicas que suelen ser mayores en estos rangos de edad.\n",
        "\n",
        "* Se pudo establecer que la mayoría de contagios se dieron en departamentos del interior del pais, también se evidencio que en algunas regiones más alejadas también se vio un alto número de contagios si estas contaban con alguna ciudad principal, tal es el caso de Atlantico - Barranquilla y Bolivar - Cartagena.\n",
        "\n",
        "* El rango de edad en los conjuntos de datos era bastante amplio, esto en conjunto con una desviación estándar resulto en el contagio generalizado de la población, esto está claramente relacionado con la característica de pandemia propiciada por el covid.\n",
        "\n",
        "* A pesar de que se presentaron algunos casos provenientes del exterior dado el estado tan avanzado de la pandemia no representaron un factor significativo en la tasa de contagios, el factor de contagio de estos solo fue del $2\\%$.\n",
        "\n",
        "* El $97\\%$ experimentó un estado leve de contagio y el $3\\%$ si falleció, sin embargo este $3\\%$ representa $73.423$ casos, una cifra bastante alto debido a que ocurrió en el transcurso de 2 años generadas por una misma enfermedad."
      ]
    }
  ],
  "metadata": {
    "colab": {
      "provenance": [],
      "toc_visible": true
    },
    "gpuClass": "standard",
    "kernelspec": {
      "display_name": "Python 3",
      "language": "python",
      "name": "python3"
    },
    "language_info": {
      "codemirror_mode": {
        "name": "ipython",
        "version": 3
      },
      "file_extension": ".py",
      "mimetype": "text/x-python",
      "name": "python",
      "nbconvert_exporter": "python",
      "pygments_lexer": "ipython3",
      "version": "3.10.6"
    },
    "vscode": {
      "interpreter": {
        "hash": "916dbcbb3f70747c44a77c7bcd40155683ae19c65e1c03b4aa3499c5328201f1"
      }
    }
  },
  "nbformat": 4,
  "nbformat_minor": 0
}
